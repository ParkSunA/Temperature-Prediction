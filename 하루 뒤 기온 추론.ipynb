{
 "cells": [
  {
   "cell_type": "markdown",
   "metadata": {},
   "source": [
    "기상자료개방포털 사이트에서는 API 서비스를 운영하고 있다  \n",
    "이를 이용해서 현재 기상 데이터를 가져와 다음날 평균기온을 추론하는 코드를 작성해보려한다"
   ]
  },
  {
   "cell_type": "code",
   "execution_count": 2,
   "metadata": {},
   "outputs": [],
   "source": [
    "import requests\n",
    "from urllib import parse\n",
    "import tensorflow as tf\n",
    "import keras\n",
    "from tensorflow.keras.models import load_model \n",
    "from bs4 import BeautifulSoup\n",
    "import pandas as pd\n",
    "import numpy as np\n",
    "import datetime"
   ]
  },
  {
   "cell_type": "markdown",
   "metadata": {},
   "source": [
    "api를 통해 데이터를 불러온다  \n",
    "참고 글 :  https://jvvp.tistory.com/1035"
   ]
  },
  {
   "cell_type": "code",
   "execution_count": 73,
   "metadata": {},
   "outputs": [],
   "source": [
    "# 데이터를 불러올 날짜 설정  \n",
    "# 현재는 어제 날짜로 설정  \n",
    "now = datetime.datetime.now() - datetime.timedelta(1)\n",
    "now_str = str(now.year)+str(now.month).zfill(2)+str(now.day)"
   ]
  },
  {
   "cell_type": "code",
   "execution_count": 61,
   "metadata": {},
   "outputs": [
    {
     "name": "stdout",
     "output_type": "stream",
     "text": [
      "<?xml version=\"1.0\" encoding=\"UTF-8\"?>\r\n",
      "<response><header><resultCode>00</resultCode><resultMsg>NORMAL_SERVICE</resultMsg></header><body><dataType>XML</dataType><items><item><stnId>108</stnId><stnNm>서울</stnNm><tm>2021-01-09</tm><avgTa>-12.2</avgTa><minTa>-16.6</minTa><minTaHrmt>614</minTaHrmt><maxTa>-7.5</maxTa><maxTaHrmt>1602</maxTaHrmt><mi10MaxRnHrmt></mi10MaxRnHrmt><hr1MaxRn></hr1MaxRn><hr1MaxRnHrmt></hr1MaxRnHrmt><sumRn></sumRn><maxInsWs>11.4</maxInsWs><maxInsWsWd>270</maxInsWsWd><maxInsWsHrmt>1644</maxInsWsHrmt><maxWs>6.5</maxWs><maxWsWd>290</maxWsWd><maxWsHrmt>1628</maxWsHrmt><avgWs>2.6</avgWs><hr24SumRws>2221</hr24SumRws><maxWd>270</maxWd><avgTd>-21.5</avgTd><minRhm>35</minRhm><minRhmHrmt>1207</minRhmHrmt><avgRhm>46.3</avgRhm><avgPv>1.1</avgPv><avgPa>1014.0</avgPa><maxPs>1027.4</maxPs><maxPsHrmt>2222</maxPsHrmt><minPs>1023.3</minPs><minPsHrmt>1441</minPsHrmt><avgPs>1025.4</avgPs><ssDur>9.7</ssDur><sumSsHr>9.0</sumSsHr><hr1MaxIcsrHrmt>1200</hr1MaxIcsrHrmt><hr1MaxIcsr>1.99</hr1MaxIcsr><sumGsr>11.59</sumGsr><ddMefs></ddMefs><ddMefsHrmt></ddMefsHrmt><ddMes>1.0</ddMes><ddMesHrmt>1</ddMesHrmt><sumDpthFhsc></sumDpthFhsc><avgTca>0.8</avgTca><avgLmac>0.3</avgLmac><avgTs>-8.4</avgTs><minTg>-20.3</minTg><avgCm5Te>-3.7</avgCm5Te><avgCm10Te>-3.8</avgCm10Te><avgCm20Te>-2.3</avgCm20Te><avgCm30Te>-0.3</avgCm30Te><avgM05Te>1.5</avgM05Te><avgM10Te>5.6</avgM10Te><avgM15Te>8.8</avgM15Te><avgM30Te>15.2</avgM30Te><avgM50Te>17.2</avgM50Te><sumLrgEv>0.9</sumLrgEv><sumSmlEv>1.3</sumSmlEv><n99Rn></n99Rn><iscs></iscs><sumFogDur></sumFogDur></item></items><numOfRows>10</numOfRows><pageNo>1</pageNo><totalCount>1</totalCount></body></response>\r\n",
      "\n"
     ]
    }
   ],
   "source": [
    "url = 'http://apis.data.go.kr/1360000/AsosDalyInfoService/getWthrDataList'\n",
    "key = 'cT4JNsYj6lxarKAfoCWMZH4YY4mzzyc7kS3%2BNb1CYJVFh614%2FO6qMi%2FLZTSmCVHXkY7%2B3JsSdOClQ8RtBE9APQ%3D%3D'\n",
    "\n",
    "\n",
    "\n",
    "param = f'?{parse.quote_plus(\"ServiceKey\")}={key}&' + parse.urlencode({\n",
    "    parse.quote_plus('numOfRows') : '10',\n",
    "    parse.quote_plus('pageNo') : '1',\n",
    "    parse.quote_plus('dataCd') : 'ASOS',\n",
    "    parse.quote_plus('dateCd') : 'DAY',\n",
    "    parse.quote_plus('startDt') : now_str,\n",
    "    parse.quote_plus('endDt') : now_str,\n",
    "    parse.quote_plus('stnIds') : '108'})\n",
    "\n",
    "response = requests.get(url+param)\n",
    "print(response.text)\n",
    "\n",
    "soup = BeautifulSoup(response.content, 'lxml')"
   ]
  },
  {
   "cell_type": "markdown",
   "metadata": {},
   "source": [
    "이렇게 api로 호출한 데이터를 데이터프레임 형태로 정리해보자  \n",
    "아래 태그명은 공공데이터포털사이트에서 제공해주는 활용가이드를 사용하여 정리하였다  "
   ]
  },
  {
   "cell_type": "code",
   "execution_count": 62,
   "metadata": {},
   "outputs": [],
   "source": [
    "col_raw = 'stnId,stnNm,tm,avgTa,minTa,minTaHrmt,maxTa,maxTaHrmt,mi10MaxRnHrmt,hr1MaxRn,hr1MaxRnHrmt,sumRn,maxInsWs,maxInsWsWd,maxInsWsHrmt,maxWs,maxWsWd,maxWsHrmt,avgWs,hr24SumRws,maxWd,avgTd,minRhm,minRhmHrmt,avgRhm,avgPv,avgPa,maxPs,maxPsHrmt,minPs,minPsHrmt,avgPs,ssDur,sumSsHr,hr1MaxIcsrHrmt,hr1MaxIcsr,sumGsr,ddMefs,ddMefsHrmt,ddMes,ddMesHrmt,sumDpthFhsc,avgTca,avgLmac,avgTs,minTg,avgCm5Te,avgCm10Te,avgCm20Te,avgCm30Te,avgM05Te,avgM10Te,avgM15Te,avgM30Te,avgM50Te,sumLrgEv,sumSmlEv,n99Rn,iscs,sumFogDur'\n",
    "col_raw = col_raw.lower()\n",
    "col=col_raw.split(',')"
   ]
  },
  {
   "cell_type": "code",
   "execution_count": 63,
   "metadata": {},
   "outputs": [],
   "source": [
    "data = []\n",
    "cnt=0\n",
    "for c in col:\n",
    "    data.append([i.text for i in soup.select('item '+c)])"
   ]
  },
  {
   "cell_type": "markdown",
   "metadata": {},
   "source": [
    "학습데이터와 같은 방식으로 전처리하기 위해 동일한 컬럼명으로 바꿔준다.  \n",
    "'강수 계속시간(hr)','10분 최다 강수량(mm)' 이 2가지 값은 csv로 다운받았을 때는 포함되어 있었지만 api로 불러왔을 때는 포함되지 않았다  "
   ]
  },
  {
   "cell_type": "code",
   "execution_count": 64,
   "metadata": {},
   "outputs": [],
   "source": [
    "col_name = ['지점', '지점명', '일시', '평균기온(°C)', '최저기온(°C)', '최저기온 시각(hhmi)', '최고기온(°C)',\n",
    "            '최고기온 시각(hhmi)', '10분 최다강수량 시각(hhmi)','1시간 최다강수량(mm)', '1시간 최다 강수량 시각(hhmi)',\n",
    "            '일강수량(mm)', '최대 순간 풍속(m/s)','최대 순간 풍속 풍향(16방위)', '최대 순간풍속 시각(hhmi)', '최대 풍속(m/s)',\n",
    "            '최대 풍속 풍향(16방위)','최대 풍속 시각(hhmi)', '평균 풍속(m/s)', '풍정합(100m)', '최다풍향(16방위)',\n",
    "            '평균 이슬점온도(°C)', '최소 상대습도(%)', '최소 상대습도 시각(hhmi)', '평균 상대습도(%)','평균 증기압(hPa)',\n",
    "            '평균 현지기압(hPa)', '최고 해면기압(hPa)', '최고 해면기압 시각(hhmi)','최저 해면기압(hPa)', '최저 해면기압 시각(hhmi)',\n",
    "            '평균 해면기압(hPa)', '가조시간(hr)','합계 일조시간(hr)', '1시간 최다일사 시각(hhmi)', '1시간 최다일사량(MJ/m2)',\n",
    "            '합계 일사량(MJ/m2)','일 최심신적설(cm)', '일 최심신적설 시각(hhmi)', '일 최심적설(cm)', '일 최심적설 시각(hhmi)',\n",
    "            '합계 3시간 신적설(cm)', '평균 전운량(1/10)', '평균 중하층운량(1/10)', '평균 지면온도(°C)','최저 초상온도(°C)',\n",
    "            '평균 5cm 지중온도(°C)', '평균 10cm 지중온도(°C)','평균 20cm 지중온도(°C)', '평균 30cm 지중온도(°C)', '0.5m 지중온도(°C)',\n",
    "            '1.0m 지중온도(°C)', '1.5m 지중온도(°C)', '3.0m 지중온도(°C)', '5.0m 지중온도(°C)',\n",
    "            '합계 대형증발량(mm)', '합계 소형증발량(mm)', '9-9강수(mm)', '기사', '안개 계속시간(hr)']"
   ]
  },
  {
   "cell_type": "code",
   "execution_count": 65,
   "metadata": {},
   "outputs": [
    {
     "data": {
      "text/html": [
       "<div>\n",
       "<style scoped>\n",
       "    .dataframe tbody tr th:only-of-type {\n",
       "        vertical-align: middle;\n",
       "    }\n",
       "\n",
       "    .dataframe tbody tr th {\n",
       "        vertical-align: top;\n",
       "    }\n",
       "\n",
       "    .dataframe thead th {\n",
       "        text-align: right;\n",
       "    }\n",
       "</style>\n",
       "<table border=\"1\" class=\"dataframe\">\n",
       "  <thead>\n",
       "    <tr style=\"text-align: right;\">\n",
       "      <th></th>\n",
       "      <th>지점</th>\n",
       "      <th>지점명</th>\n",
       "      <th>일시</th>\n",
       "      <th>평균기온(°C)</th>\n",
       "      <th>최저기온(°C)</th>\n",
       "      <th>최저기온 시각(hhmi)</th>\n",
       "      <th>최고기온(°C)</th>\n",
       "      <th>최고기온 시각(hhmi)</th>\n",
       "      <th>10분 최다강수량 시각(hhmi)</th>\n",
       "      <th>1시간 최다강수량(mm)</th>\n",
       "      <th>...</th>\n",
       "      <th>0.5m 지중온도(°C)</th>\n",
       "      <th>1.0m 지중온도(°C)</th>\n",
       "      <th>1.5m 지중온도(°C)</th>\n",
       "      <th>3.0m 지중온도(°C)</th>\n",
       "      <th>5.0m 지중온도(°C)</th>\n",
       "      <th>합계 대형증발량(mm)</th>\n",
       "      <th>합계 소형증발량(mm)</th>\n",
       "      <th>9-9강수(mm)</th>\n",
       "      <th>기사</th>\n",
       "      <th>안개 계속시간(hr)</th>\n",
       "    </tr>\n",
       "  </thead>\n",
       "  <tbody>\n",
       "    <tr>\n",
       "      <th>0</th>\n",
       "      <td>108</td>\n",
       "      <td>서울</td>\n",
       "      <td>2021-01-09</td>\n",
       "      <td>-12.2</td>\n",
       "      <td>-16.6</td>\n",
       "      <td>614</td>\n",
       "      <td>-7.5</td>\n",
       "      <td>1602</td>\n",
       "      <td></td>\n",
       "      <td></td>\n",
       "      <td>...</td>\n",
       "      <td>1.5</td>\n",
       "      <td>5.6</td>\n",
       "      <td>8.8</td>\n",
       "      <td>15.2</td>\n",
       "      <td>17.2</td>\n",
       "      <td>0.9</td>\n",
       "      <td>1.3</td>\n",
       "      <td></td>\n",
       "      <td></td>\n",
       "      <td></td>\n",
       "    </tr>\n",
       "  </tbody>\n",
       "</table>\n",
       "<p>1 rows × 60 columns</p>\n",
       "</div>"
      ],
      "text/plain": [
       "    지점 지점명          일시 평균기온(°C) 최저기온(°C) 최저기온 시각(hhmi) 최고기온(°C) 최고기온 시각(hhmi)  \\\n",
       "0  108  서울  2021-01-09    -12.2    -16.6           614     -7.5          1602   \n",
       "\n",
       "  10분 최다강수량 시각(hhmi) 1시간 최다강수량(mm)  ... 0.5m 지중온도(°C) 1.0m 지중온도(°C)  \\\n",
       "0                                   ...           1.5           5.6   \n",
       "\n",
       "  1.5m 지중온도(°C) 3.0m 지중온도(°C) 5.0m 지중온도(°C) 합계 대형증발량(mm) 합계 소형증발량(mm)  \\\n",
       "0           8.8          15.2          17.2          0.9          1.3   \n",
       "\n",
       "  9-9강수(mm) 기사 안개 계속시간(hr)  \n",
       "0                           \n",
       "\n",
       "[1 rows x 60 columns]"
      ]
     },
     "execution_count": 65,
     "metadata": {},
     "output_type": "execute_result"
    }
   ],
   "source": [
    "DF = pd.DataFrame(data).T\n",
    "DF.columns = col_name\n",
    "DF"
   ]
  },
  {
   "cell_type": "markdown",
   "metadata": {},
   "source": [
    "#### 학습에 사용한 변수  \n",
    "'평균기온(°C)', '최저기온(°C)', '최고기온(°C)', '1시간 최다강수량(mm)', '일강수량(mm)',  \n",
    "'최대 순간 풍속(m/s)', '최대 순간 풍속 풍향(16방위)', '최대 풍속(m/s)', '최대 풍속 풍향(16방위)',  \n",
    "'평균 풍속(m/s)', '풍정합(100m)', '최다풍향(16방위)', '평균 이슬점온도(°C)', '최소 상대습도(%)',  \n",
    "'평균 상대습도(%)', '평균 증기압(hPa)', '평균 현지기압(hPa)', '최고 해면기압(hPa)',  \n",
    "'최저 해면기압(hPa)', '평균 해면기압(hPa)', '가조시간(hr)', '합계 일조시간(hr)',  \n",
    "'1시간 최다일사량(MJ/m2)', '합계 일사량(MJ/m2)', '일 최심신적설(cm)', '일 최심적설(cm)',  \n",
    "'합계 3시간 신적설(cm)', '평균 전운량(1/10)', '평균 중하층운량(1/10)', '평균 지면온도(°C)',  \n",
    "'최저 초상온도(°C)', '평균 5cm 지중온도(°C)', '평균 10cm 지중온도(°C)',  \n",
    "'평균 20cm 지중온도(°C)', '평균 30cm 지중온도(°C)', '0.5m 지중온도(°C)',  \n",
    "'1.0m 지중온도(°C)', '1.5m 지중온도(°C)', '3.0m 지중온도(°C)', '5.0m 지중온도(°C)',  \n",
    "'합계 대형증발량(mm)', '합계 소형증발량(mm)', '9-9강수(mm)', '안개 계속시간(hr)'"
   ]
  },
  {
   "cell_type": "code",
   "execution_count": 66,
   "metadata": {},
   "outputs": [],
   "source": [
    "train_col = ['평균기온(°C)', '최저기온(°C)', '최고기온(°C)', '1시간 최다강수량(mm)', '일강수량(mm)',\n",
    "       '최대 순간 풍속(m/s)', '최대 순간 풍속 풍향(16방위)', '최대 풍속(m/s)', '최대 풍속 풍향(16방위)',\n",
    "       '평균 풍속(m/s)', '풍정합(100m)', '최다풍향(16방위)', '평균 이슬점온도(°C)', '최소 상대습도(%)',\n",
    "       '평균 상대습도(%)', '평균 증기압(hPa)', '평균 현지기압(hPa)', '최고 해면기압(hPa)',\n",
    "       '최저 해면기압(hPa)', '평균 해면기압(hPa)', '가조시간(hr)', '합계 일조시간(hr)',\n",
    "       '1시간 최다일사량(MJ/m2)', '합계 일사량(MJ/m2)', '일 최심신적설(cm)', '일 최심적설(cm)',\n",
    "       '합계 3시간 신적설(cm)', '평균 전운량(1/10)', '평균 중하층운량(1/10)', '평균 지면온도(°C)',\n",
    "       '최저 초상온도(°C)', '평균 5cm 지중온도(°C)', '평균 10cm 지중온도(°C)',\n",
    "       '평균 20cm 지중온도(°C)', '평균 30cm 지중온도(°C)', '0.5m 지중온도(°C)',\n",
    "       '1.0m 지중온도(°C)', '1.5m 지중온도(°C)', '3.0m 지중온도(°C)', '5.0m 지중온도(°C)',\n",
    "       '합계 대형증발량(mm)', '합계 소형증발량(mm)', '9-9강수(mm)', '안개 계속시간(hr)']"
   ]
  },
  {
   "cell_type": "code",
   "execution_count": 67,
   "metadata": {},
   "outputs": [],
   "source": [
    "DF = DF[train_col].replace('', np.nan)"
   ]
  },
  {
   "cell_type": "code",
   "execution_count": 68,
   "metadata": {},
   "outputs": [
    {
     "data": {
      "text/plain": [
       "평균기온(°C)             0\n",
       "최저기온(°C)             0\n",
       "최고기온(°C)             0\n",
       "1시간 최다강수량(mm)        1\n",
       "일강수량(mm)             1\n",
       "최대 순간 풍속(m/s)        0\n",
       "최대 순간 풍속 풍향(16방위)    0\n",
       "최대 풍속(m/s)           0\n",
       "최대 풍속 풍향(16방위)       0\n",
       "평균 풍속(m/s)           0\n",
       "풍정합(100m)            0\n",
       "최다풍향(16방위)           0\n",
       "평균 이슬점온도(°C)         0\n",
       "최소 상대습도(%)           0\n",
       "평균 상대습도(%)           0\n",
       "평균 증기압(hPa)          0\n",
       "평균 현지기압(hPa)         0\n",
       "최고 해면기압(hPa)         0\n",
       "최저 해면기압(hPa)         0\n",
       "평균 해면기압(hPa)         0\n",
       "가조시간(hr)             0\n",
       "합계 일조시간(hr)          0\n",
       "1시간 최다일사량(MJ/m2)     0\n",
       "합계 일사량(MJ/m2)        0\n",
       "일 최심신적설(cm)          1\n",
       "일 최심적설(cm)           0\n",
       "합계 3시간 신적설(cm)       1\n",
       "평균 전운량(1/10)         0\n",
       "평균 중하층운량(1/10)       0\n",
       "평균 지면온도(°C)          0\n",
       "최저 초상온도(°C)          0\n",
       "평균 5cm 지중온도(°C)      0\n",
       "평균 10cm 지중온도(°C)     0\n",
       "평균 20cm 지중온도(°C)     0\n",
       "평균 30cm 지중온도(°C)     0\n",
       "0.5m 지중온도(°C)        0\n",
       "1.0m 지중온도(°C)        0\n",
       "1.5m 지중온도(°C)        0\n",
       "3.0m 지중온도(°C)        0\n",
       "5.0m 지중온도(°C)        0\n",
       "합계 대형증발량(mm)         0\n",
       "합계 소형증발량(mm)         0\n",
       "9-9강수(mm)            1\n",
       "안개 계속시간(hr)          1\n",
       "dtype: int64"
      ]
     },
     "execution_count": 68,
     "metadata": {},
     "output_type": "execute_result"
    }
   ],
   "source": [
    "DF.isna().sum()"
   ]
  },
  {
   "cell_type": "markdown",
   "metadata": {},
   "source": [
    "학습 데이터와 같은 방식으로 전처리한다.  "
   ]
  },
  {
   "cell_type": "code",
   "execution_count": 69,
   "metadata": {},
   "outputs": [],
   "source": [
    "rain_col = [i for i in train_col if '강수' in i]\n",
    "snow_col = [i for i in train_col if '적설' in i]\n",
    "\n",
    "DF[rain_col+snow_col] = DF[rain_col+snow_col].fillna(0)\n",
    "DF[['안개 계속시간(hr)','합계 대형증발량(mm)','합계 소형증발량(mm)']] = DF[['안개 계속시간(hr)','합계 대형증발량(mm)','합계 소형증발량(mm)']].fillna(0)\n",
    "DF = DF.astype('float')"
   ]
  },
  {
   "cell_type": "code",
   "execution_count": 70,
   "metadata": {},
   "outputs": [
    {
     "data": {
      "text/html": [
       "<div>\n",
       "<style scoped>\n",
       "    .dataframe tbody tr th:only-of-type {\n",
       "        vertical-align: middle;\n",
       "    }\n",
       "\n",
       "    .dataframe tbody tr th {\n",
       "        vertical-align: top;\n",
       "    }\n",
       "\n",
       "    .dataframe thead th {\n",
       "        text-align: right;\n",
       "    }\n",
       "</style>\n",
       "<table border=\"1\" class=\"dataframe\">\n",
       "  <thead>\n",
       "    <tr style=\"text-align: right;\">\n",
       "      <th></th>\n",
       "      <th>평균기온(°C)</th>\n",
       "      <th>최저기온(°C)</th>\n",
       "      <th>최고기온(°C)</th>\n",
       "      <th>1시간 최다강수량(mm)</th>\n",
       "      <th>일강수량(mm)</th>\n",
       "      <th>최대 순간 풍속(m/s)</th>\n",
       "      <th>최대 순간 풍속 풍향(16방위)</th>\n",
       "      <th>최대 풍속(m/s)</th>\n",
       "      <th>최대 풍속 풍향(16방위)</th>\n",
       "      <th>평균 풍속(m/s)</th>\n",
       "      <th>...</th>\n",
       "      <th>평균 30cm 지중온도(°C)</th>\n",
       "      <th>0.5m 지중온도(°C)</th>\n",
       "      <th>1.0m 지중온도(°C)</th>\n",
       "      <th>1.5m 지중온도(°C)</th>\n",
       "      <th>3.0m 지중온도(°C)</th>\n",
       "      <th>5.0m 지중온도(°C)</th>\n",
       "      <th>합계 대형증발량(mm)</th>\n",
       "      <th>합계 소형증발량(mm)</th>\n",
       "      <th>9-9강수(mm)</th>\n",
       "      <th>안개 계속시간(hr)</th>\n",
       "    </tr>\n",
       "  </thead>\n",
       "  <tbody>\n",
       "    <tr>\n",
       "      <th>0</th>\n",
       "      <td>-12.2</td>\n",
       "      <td>-16.6</td>\n",
       "      <td>-7.5</td>\n",
       "      <td>0.0</td>\n",
       "      <td>0.0</td>\n",
       "      <td>11.4</td>\n",
       "      <td>270.0</td>\n",
       "      <td>6.5</td>\n",
       "      <td>290.0</td>\n",
       "      <td>2.6</td>\n",
       "      <td>...</td>\n",
       "      <td>-0.3</td>\n",
       "      <td>1.5</td>\n",
       "      <td>5.6</td>\n",
       "      <td>8.8</td>\n",
       "      <td>15.2</td>\n",
       "      <td>17.2</td>\n",
       "      <td>0.9</td>\n",
       "      <td>1.3</td>\n",
       "      <td>0.0</td>\n",
       "      <td>0.0</td>\n",
       "    </tr>\n",
       "  </tbody>\n",
       "</table>\n",
       "<p>1 rows × 44 columns</p>\n",
       "</div>"
      ],
      "text/plain": [
       "   평균기온(°C)  최저기온(°C)  최고기온(°C)  1시간 최다강수량(mm)  일강수량(mm)  최대 순간 풍속(m/s)  \\\n",
       "0     -12.2     -16.6      -7.5            0.0       0.0           11.4   \n",
       "\n",
       "   최대 순간 풍속 풍향(16방위)  최대 풍속(m/s)  최대 풍속 풍향(16방위)  평균 풍속(m/s)  ...  \\\n",
       "0              270.0         6.5           290.0         2.6  ...   \n",
       "\n",
       "   평균 30cm 지중온도(°C)  0.5m 지중온도(°C)  1.0m 지중온도(°C)  1.5m 지중온도(°C)  \\\n",
       "0              -0.3            1.5            5.6            8.8   \n",
       "\n",
       "   3.0m 지중온도(°C)  5.0m 지중온도(°C)  합계 대형증발량(mm)  합계 소형증발량(mm)  9-9강수(mm)  \\\n",
       "0           15.2           17.2           0.9           1.3        0.0   \n",
       "\n",
       "   안개 계속시간(hr)  \n",
       "0          0.0  \n",
       "\n",
       "[1 rows x 44 columns]"
      ]
     },
     "execution_count": 70,
     "metadata": {},
     "output_type": "execute_result"
    }
   ],
   "source": [
    "DF"
   ]
  },
  {
   "cell_type": "markdown",
   "metadata": {},
   "source": [
    "과거데이터로 학습시킨 모델을 불러온다."
   ]
  },
  {
   "cell_type": "code",
   "execution_count": 71,
   "metadata": {
    "scrolled": true
   },
   "outputs": [],
   "source": [
    "model = load_model('temp_1day_prediction.h5')"
   ]
  },
  {
   "cell_type": "code",
   "execution_count": 72,
   "metadata": {},
   "outputs": [
    {
     "name": "stdout",
     "output_type": "stream",
     "text": [
      "내일 예상 평균 기온 =  -7.74 (°C)\n"
     ]
    }
   ],
   "source": [
    "print('내일 예상 평균 기온 = ', round(model.predict(DF.values)[0][0],2),'(°C)')"
   ]
  }
 ],
 "metadata": {
  "kernelspec": {
   "display_name": "Python 3",
   "language": "python",
   "name": "python3"
  },
  "language_info": {
   "codemirror_mode": {
    "name": "ipython",
    "version": 3
   },
   "file_extension": ".py",
   "mimetype": "text/x-python",
   "name": "python",
   "nbconvert_exporter": "python",
   "pygments_lexer": "ipython3",
   "version": "3.7.6"
  }
 },
 "nbformat": 4,
 "nbformat_minor": 4
}
