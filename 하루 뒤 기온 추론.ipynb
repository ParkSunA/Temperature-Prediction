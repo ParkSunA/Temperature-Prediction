{
 "cells": [
  {
   "cell_type": "markdown",
   "metadata": {},
   "source": [
    "기상자료개방포털 사이트에서는 API 서비스를 운영하고 있다  \n",
    "이를 이용해서 현재 기상 데이터를 가져와 다음날 평균기온을 추론하는 코드를 작성해보려한다"
   ]
  },
  {
   "cell_type": "code",
   "execution_count": 16,
   "metadata": {},
   "outputs": [],
   "source": [
    "import requests\n",
    "from urllib import parse\n",
    "import tensorflow as tf\n",
    "import keras\n",
    "from keras.models import load_model \n",
    "from bs4 import BeautifulSoup\n",
    "import pandas as pd\n",
    "import numpy as np"
   ]
  },
  {
   "cell_type": "markdown",
   "metadata": {},
   "source": [
    "api를 통해 데이터를 불러온다  \n",
    "참고 글 :  https://jvvp.tistory.com/1035"
   ]
  },
  {
   "cell_type": "code",
   "execution_count": 23,
   "metadata": {},
   "outputs": [
    {
     "name": "stdout",
     "output_type": "stream",
     "text": [
      "<?xml version=\"1.0\" encoding=\"UTF-8\"?>\r\n",
      "<response><header><resultCode>00</resultCode><resultMsg>NORMAL_SERVICE</resultMsg></header><body><dataType>XML</dataType><items><item><stnId>108</stnId><stnNm>서울</stnNm><tm>2021-01-01</tm><avgTa>-4.2</avgTa><minTa>-9.8</minTa><minTaHrmt>511</minTaHrmt><maxTa>1.6</maxTa><maxTaHrmt>1447</maxTaHrmt><mi10MaxRnHrmt></mi10MaxRnHrmt><hr1MaxRn></hr1MaxRn><hr1MaxRnHrmt></hr1MaxRnHrmt><sumRn></sumRn><maxInsWs>7.7</maxInsWs><maxInsWsWd>270</maxInsWsWd><maxInsWsHrmt>1530</maxInsWsHrmt><maxWs>4.1</maxWs><maxWsWd>270</maxWsWd><maxWsHrmt>1532</maxWsHrmt><avgWs>2.0</avgWs><hr24SumRws>1723</hr24SumRws><maxWd>270</maxWd><avgTd>-10.2</avgTd><minRhm>50</minRhm><minRhmHrmt>1140</minRhmHrmt><avgRhm>64.0</avgRhm><avgPv>2.9</avgPv><avgPa>1014.9</avgPa><maxPs>1028.1</maxPs><maxPsHrmt>249</maxPsHrmt><minPs>1023.9</minPs><minPsHrmt>1354</minPsHrmt><avgPs>1026.0</avgPs><ssDur>9.6</ssDur><sumSsHr>6.5</sumSsHr><hr1MaxIcsrHrmt>1100</hr1MaxIcsrHrmt><hr1MaxIcsr>1.74</hr1MaxIcsr><sumGsr>9.54</sumGsr><ddMefs></ddMefs><ddMefsHrmt></ddMefsHrmt><ddMes></ddMes><ddMesHrmt></ddMesHrmt><sumDpthFhsc></sumDpthFhsc><avgTca>3.9</avgTca><avgLmac>3.5</avgLmac><avgTs>-3.4</avgTs><minTg>-13.3</minTg><avgCm5Te>-0.6</avgCm5Te><avgCm10Te>-0.7</avgCm10Te><avgCm20Te>0.1</avgCm20Te><avgCm30Te>1.4</avgCm30Te><avgM05Te>2.9</avgM05Te><avgM10Te>6.8</avgM10Te><avgM15Te>9.7</avgM15Te><avgM30Te>15.9</avgM30Te><avgM50Te>17.5</avgM50Te><sumLrgEv>1.1</sumLrgEv><sumSmlEv>1.6</sumSmlEv><n99Rn></n99Rn><iscs></iscs><sumFogDur></sumFogDur></item><item><stnId>108</stnId><stnNm>서울</stnNm><tm>2021-01-02</tm><avgTa>-5.0</avgTa><minTa>-8.4</minTa><minTaHrmt>805</minTaHrmt><maxTa>-1.4</maxTa><maxTaHrmt>1346</maxTaHrmt><mi10MaxRnHrmt></mi10MaxRnHrmt><hr1MaxRn></hr1MaxRn><hr1MaxRnHrmt></hr1MaxRnHrmt><sumRn></sumRn><maxInsWs>9.9</maxInsWs><maxInsWsWd>290</maxInsWsWd><maxInsWsHrmt>1436</maxInsWsHrmt><maxWs>5.4</maxWs><maxWsWd>320</maxWsWd><maxWsHrmt>1413</maxWsHrmt><avgWs>2.6</avgWs><hr24SumRws>2214</hr24SumRws><maxWd>270</maxWd><avgTd>-17.1</avgTd><minRhm>29</minRhm><minRhmHrmt>1419</minRhmHrmt><avgRhm>38.5</avgRhm><avgPv>1.6</avgPv><avgPa>1018.5</avgPa><maxPs>1032.7</maxPs><maxPsHrmt>2359</maxPsHrmt><minPs>1026.0</minPs><minPsHrmt>1</minPsHrmt><avgPs>1029.6</avgPs><ssDur>9.6</ssDur><sumSsHr>9.0</sumSsHr><hr1MaxIcsrHrmt>1200</hr1MaxIcsrHrmt><hr1MaxIcsr>1.95</hr1MaxIcsr><sumGsr>11.34</sumGsr><ddMefs></ddMefs><ddMefsHrmt></ddMefsHrmt><ddMes></ddMes><ddMesHrmt></ddMesHrmt><sumDpthFhsc></sumDpthFhsc><avgTca>0.0</avgTca><avgLmac>0.0</avgLmac><avgTs>-3.9</avgTs><minTg>-13.1</minTg><avgCm5Te>-0.6</avgCm5Te><avgCm10Te>-0.8</avgCm10Te><avgCm20Te>0.0</avgCm20Te><avgCm30Te>1.2</avgCm30Te><avgM05Te>2.6</avgM05Te><avgM10Te>6.6</avgM10Te><avgM15Te>9.6</avgM15Te><avgM30Te>15.8</avgM30Te><avgM50Te>17.5</avgM50Te><sumLrgEv>1.4</sumLrgEv><sumSmlEv>2.0</sumSmlEv><n99Rn></n99Rn><iscs></iscs><sumFogDur></sumFogDur></item></items><numOfRows>10</numOfRows><pageNo>1</pageNo><totalCount>2</totalCount></body></response>\r\n",
      "\n"
     ]
    }
   ],
   "source": [
    "url = 'http://apis.data.go.kr/1360000/AsosDalyInfoService/getWthrDataList'\n",
    "key = 'cT4JNsYj6lxarKAfoCWMZH4YY4mzzyc7kS3%2BNb1CYJVFh614%2FO6qMi%2FLZTSmCVHXkY7%2B3JsSdOClQ8RtBE9APQ%3D%3D'\n",
    "\n",
    "\n",
    "\n",
    "param = f'?{parse.quote_plus(\"ServiceKey\")}={key}&' + parse.urlencode({\n",
    "    parse.quote_plus('numOfRows') : '10',\n",
    "    parse.quote_plus('pageNo') : '1',\n",
    "    parse.quote_plus('dataCd') : 'ASOS',\n",
    "    parse.quote_plus('dateCd') : 'DAY',\n",
    "    parse.quote_plus('startDt') : '20210101',\n",
    "    parse.quote_plus('endDt') : '20210102',\n",
    "    parse.quote_plus('stnIds') : '108'})\n",
    "\n",
    "response = requests.get(url+param)\n",
    "print(response.text)\n",
    "\n",
    "soup = BeautifulSoup(response.content, 'lxml')"
   ]
  },
  {
   "cell_type": "markdown",
   "metadata": {},
   "source": [
    "이렇게 api로 호출한 데이터를 데이터프레임 형태로 정리해보자  \n",
    "아래 태그명은 공공데이터포털사이트에서 제공해주는 활용가이드를 사용하여 정리하였다  "
   ]
  },
  {
   "cell_type": "code",
   "execution_count": 25,
   "metadata": {},
   "outputs": [],
   "source": [
    "col_raw = 'stnId,stnNm,tm,avgTa,minTa,minTaHrmt,maxTa,maxTaHrmt,mi10MaxRnHrmt,hr1MaxRn,hr1MaxRnHrmt,sumRn,maxInsWs,maxInsWsWd,maxInsWsHrmt,maxWs,maxWsWd,maxWsHrmt,avgWs,hr24SumRws,maxWd,avgTd,minRhm,minRhmHrmt,avgRhm,avgPv,avgPa,maxPs,maxPsHrmt,minPs,minPsHrmt,avgPs,ssDur,sumSsHr,hr1MaxIcsrHrmt,hr1MaxIcsr,sumGsr,ddMefs,ddMefsHrmt,ddMes,ddMesHrmt,sumDpthFhsc,avgTca,avgLmac,avgTs,minTg,avgCm5Te,avgCm10Te,avgCm20Te,avgCm30Te,avgM05Te,avgM10Te,avgM15Te,avgM30Te,avgM50Te,sumLrgEv,sumSmlEv,n99Rn,iscs,sumFogDur'\n",
    "col_raw = col_raw.lower()\n",
    "col=col_raw.split(',')"
   ]
  },
  {
   "cell_type": "code",
   "execution_count": 26,
   "metadata": {},
   "outputs": [],
   "source": [
    "data = []\n",
    "cnt=0\n",
    "for c in col:\n",
    "    data.append([i.text for i in soup.select('item '+c)])"
   ]
  },
  {
   "cell_type": "markdown",
   "metadata": {},
   "source": [
    "학습데이터와 같은 방식으로 전처리하기 위해 동일한 컬럼명으로 바꿔준다.  \n",
    "'강수 계속시간(hr)','10분 최다 강수량(mm)' 이 2가지 값은 csv로 다운받았을 때는 포함되어 있었지만 api로 불러왔을 때는 포함되지 않았다  "
   ]
  },
  {
   "cell_type": "code",
   "execution_count": 27,
   "metadata": {},
   "outputs": [],
   "source": [
    "col_name = ['지점', '지점명', '일시', '평균기온(°C)', '최저기온(°C)', '최저기온 시각(hhmi)', '최고기온(°C)',\n",
    "            '최고기온 시각(hhmi)', '10분 최다강수량 시각(hhmi)','1시간 최다강수량(mm)', '1시간 최다 강수량 시각(hhmi)',\n",
    "            '일강수량(mm)', '최대 순간 풍속(m/s)','최대 순간 풍속 풍향(16방위)', '최대 순간풍속 시각(hhmi)', '최대 풍속(m/s)',\n",
    "            '최대 풍속 풍향(16방위)','최대 풍속 시각(hhmi)', '평균 풍속(m/s)', '풍정합(100m)', '최다풍향(16방위)',\n",
    "            '평균 이슬점온도(°C)', '최소 상대습도(%)', '최소 상대습도 시각(hhmi)', '평균 상대습도(%)','평균 증기압(hPa)',\n",
    "            '평균 현지기압(hPa)', '최고 해면기압(hPa)', '최고 해면기압 시각(hhmi)','최저 해면기압(hPa)', '최저 해면기압 시각(hhmi)',\n",
    "            '평균 해면기압(hPa)', '가조시간(hr)','합계 일조시간(hr)', '1시간 최다일사 시각(hhmi)', '1시간 최다일사량(MJ/m2)',\n",
    "            '합계 일사량(MJ/m2)','일 최심신적설(cm)', '일 최심신적설 시각(hhmi)', '일 최심적설(cm)', '일 최심적설 시각(hhmi)',\n",
    "            '합계 3시간 신적설(cm)', '평균 전운량(1/10)', '평균 중하층운량(1/10)', '평균 지면온도(°C)','최저 초상온도(°C)',\n",
    "            '평균 5cm 지중온도(°C)', '평균 10cm 지중온도(°C)','평균 20cm 지중온도(°C)', '평균 30cm 지중온도(°C)', '0.5m 지중온도(°C)',\n",
    "            '1.0m 지중온도(°C)', '1.5m 지중온도(°C)', '3.0m 지중온도(°C)', '5.0m 지중온도(°C)',\n",
    "            '합계 대형증발량(mm)', '합계 소형증발량(mm)', '9-9강수(mm)', '기사', '안개 계속시간(hr)']"
   ]
  },
  {
   "cell_type": "code",
   "execution_count": 29,
   "metadata": {},
   "outputs": [
    {
     "data": {
      "text/html": [
       "<div>\n",
       "<style scoped>\n",
       "    .dataframe tbody tr th:only-of-type {\n",
       "        vertical-align: middle;\n",
       "    }\n",
       "\n",
       "    .dataframe tbody tr th {\n",
       "        vertical-align: top;\n",
       "    }\n",
       "\n",
       "    .dataframe thead th {\n",
       "        text-align: right;\n",
       "    }\n",
       "</style>\n",
       "<table border=\"1\" class=\"dataframe\">\n",
       "  <thead>\n",
       "    <tr style=\"text-align: right;\">\n",
       "      <th></th>\n",
       "      <th>지점</th>\n",
       "      <th>지점명</th>\n",
       "      <th>일시</th>\n",
       "      <th>평균기온(°C)</th>\n",
       "      <th>최저기온(°C)</th>\n",
       "      <th>최저기온 시각(hhmi)</th>\n",
       "      <th>최고기온(°C)</th>\n",
       "      <th>최고기온 시각(hhmi)</th>\n",
       "      <th>10분 최다강수량 시각(hhmi)</th>\n",
       "      <th>1시간 최다강수량(mm)</th>\n",
       "      <th>...</th>\n",
       "      <th>0.5m 지중온도(°C)</th>\n",
       "      <th>1.0m 지중온도(°C)</th>\n",
       "      <th>1.5m 지중온도(°C)</th>\n",
       "      <th>3.0m 지중온도(°C)</th>\n",
       "      <th>5.0m 지중온도(°C)</th>\n",
       "      <th>합계 대형증발량(mm)</th>\n",
       "      <th>합계 소형증발량(mm)</th>\n",
       "      <th>9-9강수(mm)</th>\n",
       "      <th>기사</th>\n",
       "      <th>안개 계속시간(hr)</th>\n",
       "    </tr>\n",
       "  </thead>\n",
       "  <tbody>\n",
       "    <tr>\n",
       "      <th>0</th>\n",
       "      <td>108</td>\n",
       "      <td>서울</td>\n",
       "      <td>2021-01-01</td>\n",
       "      <td>-4.2</td>\n",
       "      <td>-9.8</td>\n",
       "      <td>511</td>\n",
       "      <td>1.6</td>\n",
       "      <td>1447</td>\n",
       "      <td></td>\n",
       "      <td></td>\n",
       "      <td>...</td>\n",
       "      <td>2.9</td>\n",
       "      <td>6.8</td>\n",
       "      <td>9.7</td>\n",
       "      <td>15.9</td>\n",
       "      <td>17.5</td>\n",
       "      <td>1.1</td>\n",
       "      <td>1.6</td>\n",
       "      <td></td>\n",
       "      <td></td>\n",
       "      <td></td>\n",
       "    </tr>\n",
       "    <tr>\n",
       "      <th>1</th>\n",
       "      <td>108</td>\n",
       "      <td>서울</td>\n",
       "      <td>2021-01-02</td>\n",
       "      <td>-5.0</td>\n",
       "      <td>-8.4</td>\n",
       "      <td>805</td>\n",
       "      <td>-1.4</td>\n",
       "      <td>1346</td>\n",
       "      <td></td>\n",
       "      <td></td>\n",
       "      <td>...</td>\n",
       "      <td>2.6</td>\n",
       "      <td>6.6</td>\n",
       "      <td>9.6</td>\n",
       "      <td>15.8</td>\n",
       "      <td>17.5</td>\n",
       "      <td>1.4</td>\n",
       "      <td>2.0</td>\n",
       "      <td></td>\n",
       "      <td></td>\n",
       "      <td></td>\n",
       "    </tr>\n",
       "  </tbody>\n",
       "</table>\n",
       "<p>2 rows × 60 columns</p>\n",
       "</div>"
      ],
      "text/plain": [
       "    지점 지점명          일시 평균기온(°C) 최저기온(°C) 최저기온 시각(hhmi) 최고기온(°C) 최고기온 시각(hhmi)  \\\n",
       "0  108  서울  2021-01-01     -4.2     -9.8           511      1.6          1447   \n",
       "1  108  서울  2021-01-02     -5.0     -8.4           805     -1.4          1346   \n",
       "\n",
       "  10분 최다강수량 시각(hhmi) 1시간 최다강수량(mm)  ... 0.5m 지중온도(°C) 1.0m 지중온도(°C)  \\\n",
       "0                                   ...           2.9           6.8   \n",
       "1                                   ...           2.6           6.6   \n",
       "\n",
       "  1.5m 지중온도(°C) 3.0m 지중온도(°C) 5.0m 지중온도(°C) 합계 대형증발량(mm) 합계 소형증발량(mm)  \\\n",
       "0           9.7          15.9          17.5          1.1          1.6   \n",
       "1           9.6          15.8          17.5          1.4          2.0   \n",
       "\n",
       "  9-9강수(mm) 기사 안개 계속시간(hr)  \n",
       "0                           \n",
       "1                           \n",
       "\n",
       "[2 rows x 60 columns]"
      ]
     },
     "execution_count": 29,
     "metadata": {},
     "output_type": "execute_result"
    }
   ],
   "source": [
    "DF = pd.DataFrame(data).T\n",
    "DF.columns = col_name\n",
    "DF"
   ]
  }
 ],
 "metadata": {
  "kernelspec": {
   "display_name": "Python 3",
   "language": "python",
   "name": "python3"
  },
  "language_info": {
   "codemirror_mode": {
    "name": "ipython",
    "version": 3
   },
   "file_extension": ".py",
   "mimetype": "text/x-python",
   "name": "python",
   "nbconvert_exporter": "python",
   "pygments_lexer": "ipython3",
   "version": "3.7.6"
  }
 },
 "nbformat": 4,
 "nbformat_minor": 4
}
