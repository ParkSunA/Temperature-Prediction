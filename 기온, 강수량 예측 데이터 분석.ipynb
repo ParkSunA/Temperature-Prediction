{
 "cells": [
  {
   "cell_type": "code",
   "execution_count": 48,
   "metadata": {},
   "outputs": [],
   "source": [
    "import pandas as pd\n",
    "import numpy as np\n",
    "import matplotlib.pyplot as plt\n",
    "import seaborn as sns\n",
    "import missingno as msno\n",
    "import matplotlib.font_manager as fm\n",
    "import matplotlib as mpl"
   ]
  },
  {
   "cell_type": "code",
   "execution_count": 50,
   "metadata": {},
   "outputs": [],
   "source": [
    "path = '/Library/Fonts/NanumBarunpenRegular.otf'\n",
    "fontprop = fm.FontProperties(fname=path, size=18)"
   ]
  },
  {
   "cell_type": "code",
   "execution_count": 19,
   "metadata": {},
   "outputs": [],
   "source": [
    "# 데이터 불러오기\n",
    "data = pd.read_csv('OBS_ASOS_DD_20210104225316.csv', encoding = 'cp949')  # 2020-01-01~2010-01-01\n",
    "data1 = pd.read_csv('OBS_ASOS_DD_20210104225407.csv', encoding = 'cp949') # 2010-01-02~2020-01-02\n",
    "data2 = pd.read_csv('OBS_ASOS_DD_20210104225442.csv', encoding = 'cp949') # 2020-01-03~2021-01-03\n",
    "\n",
    "data = pd.concat([data,data1,data2],axis=0).reset_index().drop('index',axis=1)"
   ]
  },
  {
   "cell_type": "code",
   "execution_count": 20,
   "metadata": {},
   "outputs": [
    {
     "name": "stdout",
     "output_type": "stream",
     "text": [
      "데이터 개수 = 7674\n",
      "데이터 컬럼 개수 = 62\n"
     ]
    }
   ],
   "source": [
    "print('데이터 개수 =', len(data))\n",
    "print('데이터 컬럼 개수 =', len(data.columns))"
   ]
  },
  {
   "cell_type": "code",
   "execution_count": 21,
   "metadata": {},
   "outputs": [
    {
     "data": {
      "text/plain": [
       "Index(['지점', '지점명', '일시', '평균기온(°C)', '최저기온(°C)', '최저기온 시각(hhmi)', '최고기온(°C)',\n",
       "       '최고기온 시각(hhmi)', '강수 계속시간(hr)', '10분 최다 강수량(mm)', '10분 최다강수량 시각(hhmi)',\n",
       "       '1시간 최다강수량(mm)', '1시간 최다 강수량 시각(hhmi)', '일강수량(mm)', '최대 순간 풍속(m/s)',\n",
       "       '최대 순간 풍속 풍향(16방위)', '최대 순간풍속 시각(hhmi)', '최대 풍속(m/s)', '최대 풍속 풍향(16방위)',\n",
       "       '최대 풍속 시각(hhmi)', '평균 풍속(m/s)', '풍정합(100m)', '최다풍향(16방위)',\n",
       "       '평균 이슬점온도(°C)', '최소 상대습도(%)', '최소 상대습도 시각(hhmi)', '평균 상대습도(%)',\n",
       "       '평균 증기압(hPa)', '평균 현지기압(hPa)', '최고 해면기압(hPa)', '최고 해면기압 시각(hhmi)',\n",
       "       '최저 해면기압(hPa)', '최저 해면기압 시각(hhmi)', '평균 해면기압(hPa)', '가조시간(hr)',\n",
       "       '합계 일조시간(hr)', '1시간 최다일사 시각(hhmi)', '1시간 최다일사량(MJ/m2)', '합계 일사량(MJ/m2)',\n",
       "       '일 최심신적설(cm)', '일 최심신적설 시각(hhmi)', '일 최심적설(cm)', '일 최심적설 시각(hhmi)',\n",
       "       '합계 3시간 신적설(cm)', '평균 전운량(1/10)', '평균 중하층운량(1/10)', '평균 지면온도(°C)',\n",
       "       '최저 초상온도(°C)', '평균 5cm 지중온도(°C)', '평균 10cm 지중온도(°C)',\n",
       "       '평균 20cm 지중온도(°C)', '평균 30cm 지중온도(°C)', '0.5m 지중온도(°C)',\n",
       "       '1.0m 지중온도(°C)', '1.5m 지중온도(°C)', '3.0m 지중온도(°C)', '5.0m 지중온도(°C)',\n",
       "       '합계 대형증발량(mm)', '합계 소형증발량(mm)', '9-9강수(mm)', '기사', '안개 계속시간(hr)'],\n",
       "      dtype='object')"
      ]
     },
     "execution_count": 21,
     "metadata": {},
     "output_type": "execute_result"
    }
   ],
   "source": [
    "data.columns"
   ]
  },
  {
   "cell_type": "markdown",
   "metadata": {},
   "source": [
    "62개의 데이터 컬럼명을 확인해 보았다.  \n",
    "이 많은 변수들을 우리가 사용할 수 있는지 데이터 품질을 살펴보려고 한다."
   ]
  },
  {
   "cell_type": "code",
   "execution_count": 22,
   "metadata": {},
   "outputs": [
    {
     "name": "stdout",
     "output_type": "stream",
     "text": [
      "최고기온(°C) 1\n",
      "최고기온 시각(hhmi) 1\n",
      "강수 계속시간(hr) 4710\n",
      "10분 최다 강수량(mm) 5781\n",
      "10분 최다강수량 시각(hhmi) 6288\n",
      "1시간 최다강수량(mm) 5781\n",
      "1시간 최다 강수량 시각(hhmi) 6277\n",
      "일강수량(mm) 4709\n",
      "최대 순간 풍속(m/s) 2\n",
      "최대 순간 풍속 풍향(16방위) 2\n",
      "최대 순간풍속 시각(hhmi) 2\n",
      "최대 풍속(m/s) 2\n",
      "최대 풍속 풍향(16방위) 2\n",
      "최대 풍속 시각(hhmi) 2\n",
      "평균 풍속(m/s) 3\n",
      "풍정합(100m) 3\n",
      "최다풍향(16방위) 5\n",
      "최소 상대습도(%) 1\n",
      "최소 상대습도 시각(hhmi) 1\n",
      "평균 현지기압(hPa) 1\n",
      "최고 해면기압(hPa) 1\n",
      "최고 해면기압 시각(hhmi) 1\n",
      "최저 해면기압(hPa) 2\n",
      "최저 해면기압 시각(hhmi) 2\n",
      "평균 해면기압(hPa) 1\n",
      "합계 일조시간(hr) 12\n",
      "1시간 최다일사 시각(hhmi) 24\n",
      "1시간 최다일사량(MJ/m2) 23\n",
      "합계 일사량(MJ/m2) 26\n",
      "일 최심신적설(cm) 7412\n",
      "일 최심신적설 시각(hhmi) 7419\n",
      "일 최심적설(cm) 7155\n",
      "일 최심적설 시각(hhmi) 7160\n",
      "합계 3시간 신적설(cm) 7412\n",
      "평균 중하층운량(1/10) 21\n",
      "평균 지면온도(°C) 1\n",
      "최저 초상온도(°C) 3\n",
      "평균 5cm 지중온도(°C) 9\n",
      "평균 10cm 지중온도(°C) 9\n",
      "평균 20cm 지중온도(°C) 10\n",
      "평균 30cm 지중온도(°C) 28\n",
      "0.5m 지중온도(°C) 8\n",
      "1.0m 지중온도(°C) 8\n",
      "1.5m 지중온도(°C) 9\n",
      "3.0m 지중온도(°C) 11\n",
      "5.0m 지중온도(°C) 6\n",
      "합계 대형증발량(mm) 2491\n",
      "합계 소형증발량(mm) 6\n",
      "9-9강수(mm) 4678\n",
      "기사 2118\n",
      "안개 계속시간(hr) 7512\n"
     ]
    }
   ],
   "source": [
    "# 결측이 있는 변수만 출력\n",
    "for i,j in zip(data.columns,data.isna().sum()):\n",
    "    if j>0:\n",
    "        print(i,j)"
   ]
  },
  {
   "cell_type": "code",
   "execution_count": 23,
   "metadata": {
    "scrolled": true
   },
   "outputs": [
    {
     "name": "stdout",
     "output_type": "stream",
     "text": [
      "강수 계속시간(hr) 0.6137607505863957\n",
      "10분 최다 강수량(mm) 0.753322908522283\n",
      "10분 최다강수량 시각(hhmi) 0.8193901485535575\n",
      "1시간 최다강수량(mm) 0.753322908522283\n",
      "1시간 최다 강수량 시각(hhmi) 0.8179567370341413\n",
      "일강수량(mm) 0.6136304404482669\n",
      "일 최심신적설(cm) 0.9658587438102685\n",
      "일 최심신적설 시각(hhmi) 0.9667709147771697\n",
      "일 최심적설(cm) 0.9323690383111806\n",
      "일 최심적설 시각(hhmi) 0.9330205890018244\n",
      "합계 3시간 신적설(cm) 0.9658587438102685\n",
      "9-9강수(mm) 0.6095908261662757\n",
      "안개 계속시간(hr) 0.9788897576231431\n"
     ]
    }
   ],
   "source": [
    "# 결측비율이 높은 변수 출력\n",
    "for i,j in zip(data.columns,data.isna().sum()/len(data)):\n",
    "    if j>0.5:\n",
    "        print(i,j)"
   ]
  },
  {
   "cell_type": "markdown",
   "metadata": {},
   "source": [
    "업무를 통해 ASOS데이터를 다룬 적이 있어 강수와 적설량의 결측원인을 알고 있다  \n",
    "강수, 적설량이 0인 경우 결측으로 표시된다  \n",
    "따라서 강수와 적설의 결측은 0으로 채우면 된다.  \n",
    "\n",
    "안개 계속시간 증발량도 같은 이유일 것으로 추측된다.  \n",
    "따라서 안개 계속시간, 증발량의 결측도 0으로 채운다."
   ]
  },
  {
   "cell_type": "code",
   "execution_count": 24,
   "metadata": {},
   "outputs": [],
   "source": [
    "rain_col = [i for i in data.columns if '강수' in i]\n",
    "snow_col = [i for i in data.columns if '적설' in i]\n",
    "\n",
    "data[rain_col+snow_col] = data[rain_col+snow_col].fillna(0)\n",
    "data[['안개 계속시간(hr)','합계 대형증발량(mm)','합계 소형증발량(mm)']] = data[['안개 계속시간(hr)','합계 대형증발량(mm)','합계 소형증발량(mm)']].fillna(0)"
   ]
  },
  {
   "cell_type": "markdown",
   "metadata": {},
   "source": [
    "강수와 적설, 안개 계속시간의 결측을 0으로 채우고 난 후 다시 결측이 있는 변수를 출력해보면 다음과 같이 나온다.\n",
    "나머지 결측은 시계열 그래프 확인 후 채우도록 한다."
   ]
  },
  {
   "cell_type": "code",
   "execution_count": 25,
   "metadata": {},
   "outputs": [
    {
     "name": "stdout",
     "output_type": "stream",
     "text": [
      "최고기온(°C) 1\n",
      "최고기온 시각(hhmi) 1\n",
      "최대 순간 풍속(m/s) 2\n",
      "최대 순간 풍속 풍향(16방위) 2\n",
      "최대 순간풍속 시각(hhmi) 2\n",
      "최대 풍속(m/s) 2\n",
      "최대 풍속 풍향(16방위) 2\n",
      "최대 풍속 시각(hhmi) 2\n",
      "평균 풍속(m/s) 3\n",
      "풍정합(100m) 3\n",
      "최다풍향(16방위) 5\n",
      "최소 상대습도(%) 1\n",
      "최소 상대습도 시각(hhmi) 1\n",
      "평균 현지기압(hPa) 1\n",
      "최고 해면기압(hPa) 1\n",
      "최고 해면기압 시각(hhmi) 1\n",
      "최저 해면기압(hPa) 2\n",
      "최저 해면기압 시각(hhmi) 2\n",
      "평균 해면기압(hPa) 1\n",
      "합계 일조시간(hr) 12\n",
      "1시간 최다일사 시각(hhmi) 24\n",
      "1시간 최다일사량(MJ/m2) 23\n",
      "합계 일사량(MJ/m2) 26\n",
      "평균 중하층운량(1/10) 21\n",
      "평균 지면온도(°C) 1\n",
      "최저 초상온도(°C) 3\n",
      "평균 5cm 지중온도(°C) 9\n",
      "평균 10cm 지중온도(°C) 9\n",
      "평균 20cm 지중온도(°C) 10\n",
      "평균 30cm 지중온도(°C) 28\n",
      "0.5m 지중온도(°C) 8\n",
      "1.0m 지중온도(°C) 8\n",
      "1.5m 지중온도(°C) 9\n",
      "3.0m 지중온도(°C) 11\n",
      "5.0m 지중온도(°C) 6\n",
      "기사 2118\n"
     ]
    }
   ],
   "source": [
    "# 결측이 있는 변수만 출력\n",
    "for i,j in zip(data.columns,data.isna().sum()):\n",
    "    if j>0:\n",
    "        print(i,j)"
   ]
  },
  {
   "cell_type": "markdown",
   "metadata": {},
   "source": [
    "이렇게 데이터프레임을 열어보면 특이한 컬럼이 있다.  \n",
    "'기사'라는 컬럼인데 이 컬럼은 단순히 수치로 기록되어 있지 않고 글자가 섞여 있다.  \n",
    "이 컬럼은 제외하고 분석에 들어가겠다  \n",
    "최저기온 시각, 최고기온 시각 등 최저기온이 측정된 시각, 각 특정 데이터가 측정된 시각들도 변수로 포함되어 있다.  \n",
    "이런 변수들은 기온, 강수량 예측과 상관관계가 낮을 것이라 생각이 들어 제외하고 분석에 들어가겠다.  "
   ]
  },
  {
   "cell_type": "code",
   "execution_count": 26,
   "metadata": {},
   "outputs": [
    {
     "name": "stdout",
     "output_type": "stream",
     "text": [
      "['최저기온 시각(hhmi)', '최고기온 시각(hhmi)', '10분 최다강수량 시각(hhmi)', '1시간 최다 강수량 시각(hhmi)', '최대 순간풍속 시각(hhmi)', '최대 풍속 시각(hhmi)', '최소 상대습도 시각(hhmi)', '최고 해면기압 시각(hhmi)', '최저 해면기압 시각(hhmi)', '1시간 최다일사 시각(hhmi)', '일 최심신적설 시각(hhmi)', '일 최심적설 시각(hhmi)']\n"
     ]
    }
   ],
   "source": [
    "del data['기사']\n",
    "\n",
    "time_col=[i for i in data.columns if '시각' in i]\n",
    "print(time_col)"
   ]
  },
  {
   "cell_type": "code",
   "execution_count": 27,
   "metadata": {},
   "outputs": [],
   "source": [
    "data = data.drop(time_col, axis=1)"
   ]
  },
  {
   "cell_type": "code",
   "execution_count": 28,
   "metadata": {
    "scrolled": false
   },
   "outputs": [
    {
     "data": {
      "text/html": [
       "<div>\n",
       "<style scoped>\n",
       "    .dataframe tbody tr th:only-of-type {\n",
       "        vertical-align: middle;\n",
       "    }\n",
       "\n",
       "    .dataframe tbody tr th {\n",
       "        vertical-align: top;\n",
       "    }\n",
       "\n",
       "    .dataframe thead th {\n",
       "        text-align: right;\n",
       "    }\n",
       "</style>\n",
       "<table border=\"1\" class=\"dataframe\">\n",
       "  <thead>\n",
       "    <tr style=\"text-align: right;\">\n",
       "      <th></th>\n",
       "      <th>지점</th>\n",
       "      <th>지점명</th>\n",
       "      <th>일시</th>\n",
       "      <th>평균기온(°C)</th>\n",
       "      <th>최저기온(°C)</th>\n",
       "      <th>최고기온(°C)</th>\n",
       "      <th>강수 계속시간(hr)</th>\n",
       "      <th>10분 최다 강수량(mm)</th>\n",
       "      <th>1시간 최다강수량(mm)</th>\n",
       "      <th>일강수량(mm)</th>\n",
       "      <th>...</th>\n",
       "      <th>평균 30cm 지중온도(°C)</th>\n",
       "      <th>0.5m 지중온도(°C)</th>\n",
       "      <th>1.0m 지중온도(°C)</th>\n",
       "      <th>1.5m 지중온도(°C)</th>\n",
       "      <th>3.0m 지중온도(°C)</th>\n",
       "      <th>5.0m 지중온도(°C)</th>\n",
       "      <th>합계 대형증발량(mm)</th>\n",
       "      <th>합계 소형증발량(mm)</th>\n",
       "      <th>9-9강수(mm)</th>\n",
       "      <th>안개 계속시간(hr)</th>\n",
       "    </tr>\n",
       "  </thead>\n",
       "  <tbody>\n",
       "    <tr>\n",
       "      <th>0</th>\n",
       "      <td>108</td>\n",
       "      <td>서울</td>\n",
       "      <td>2000-01-01</td>\n",
       "      <td>5.5</td>\n",
       "      <td>1.8</td>\n",
       "      <td>9.9</td>\n",
       "      <td>0.00</td>\n",
       "      <td>0.0</td>\n",
       "      <td>0.0</td>\n",
       "      <td>0.0</td>\n",
       "      <td>...</td>\n",
       "      <td>1.3</td>\n",
       "      <td>3.5</td>\n",
       "      <td>6.7</td>\n",
       "      <td>10.0</td>\n",
       "      <td>14.6</td>\n",
       "      <td>17.5</td>\n",
       "      <td>0.0</td>\n",
       "      <td>0.9</td>\n",
       "      <td>4.0</td>\n",
       "      <td>0.0</td>\n",
       "    </tr>\n",
       "    <tr>\n",
       "      <th>1</th>\n",
       "      <td>108</td>\n",
       "      <td>서울</td>\n",
       "      <td>2000-01-02</td>\n",
       "      <td>4.2</td>\n",
       "      <td>-0.9</td>\n",
       "      <td>6.9</td>\n",
       "      <td>6.83</td>\n",
       "      <td>0.0</td>\n",
       "      <td>0.0</td>\n",
       "      <td>6.0</td>\n",
       "      <td>...</td>\n",
       "      <td>1.4</td>\n",
       "      <td>3.6</td>\n",
       "      <td>6.7</td>\n",
       "      <td>9.7</td>\n",
       "      <td>14.5</td>\n",
       "      <td>17.5</td>\n",
       "      <td>0.0</td>\n",
       "      <td>0.8</td>\n",
       "      <td>2.0</td>\n",
       "      <td>0.0</td>\n",
       "    </tr>\n",
       "    <tr>\n",
       "      <th>2</th>\n",
       "      <td>108</td>\n",
       "      <td>서울</td>\n",
       "      <td>2000-01-03</td>\n",
       "      <td>-2.2</td>\n",
       "      <td>-4.6</td>\n",
       "      <td>0.1</td>\n",
       "      <td>0.00</td>\n",
       "      <td>0.0</td>\n",
       "      <td>0.0</td>\n",
       "      <td>0.0</td>\n",
       "      <td>...</td>\n",
       "      <td>1.3</td>\n",
       "      <td>3.3</td>\n",
       "      <td>6.2</td>\n",
       "      <td>9.5</td>\n",
       "      <td>14.5</td>\n",
       "      <td>17.8</td>\n",
       "      <td>0.0</td>\n",
       "      <td>0.8</td>\n",
       "      <td>0.0</td>\n",
       "      <td>0.0</td>\n",
       "    </tr>\n",
       "    <tr>\n",
       "      <th>3</th>\n",
       "      <td>108</td>\n",
       "      <td>서울</td>\n",
       "      <td>2000-01-04</td>\n",
       "      <td>0.3</td>\n",
       "      <td>-4.3</td>\n",
       "      <td>4.3</td>\n",
       "      <td>0.00</td>\n",
       "      <td>0.0</td>\n",
       "      <td>0.0</td>\n",
       "      <td>0.0</td>\n",
       "      <td>...</td>\n",
       "      <td>1.3</td>\n",
       "      <td>3.3</td>\n",
       "      <td>6.3</td>\n",
       "      <td>9.5</td>\n",
       "      <td>14.5</td>\n",
       "      <td>17.3</td>\n",
       "      <td>0.0</td>\n",
       "      <td>0.7</td>\n",
       "      <td>3.7</td>\n",
       "      <td>0.0</td>\n",
       "    </tr>\n",
       "    <tr>\n",
       "      <th>4</th>\n",
       "      <td>108</td>\n",
       "      <td>서울</td>\n",
       "      <td>2000-01-05</td>\n",
       "      <td>2.8</td>\n",
       "      <td>0.1</td>\n",
       "      <td>4.6</td>\n",
       "      <td>13.90</td>\n",
       "      <td>0.0</td>\n",
       "      <td>0.0</td>\n",
       "      <td>18.4</td>\n",
       "      <td>...</td>\n",
       "      <td>1.3</td>\n",
       "      <td>3.3</td>\n",
       "      <td>6.0</td>\n",
       "      <td>9.5</td>\n",
       "      <td>14.5</td>\n",
       "      <td>17.5</td>\n",
       "      <td>0.0</td>\n",
       "      <td>1.7</td>\n",
       "      <td>24.5</td>\n",
       "      <td>0.0</td>\n",
       "    </tr>\n",
       "  </tbody>\n",
       "</table>\n",
       "<p>5 rows × 49 columns</p>\n",
       "</div>"
      ],
      "text/plain": [
       "    지점 지점명          일시  평균기온(°C)  최저기온(°C)  최고기온(°C)  강수 계속시간(hr)  \\\n",
       "0  108  서울  2000-01-01       5.5       1.8       9.9         0.00   \n",
       "1  108  서울  2000-01-02       4.2      -0.9       6.9         6.83   \n",
       "2  108  서울  2000-01-03      -2.2      -4.6       0.1         0.00   \n",
       "3  108  서울  2000-01-04       0.3      -4.3       4.3         0.00   \n",
       "4  108  서울  2000-01-05       2.8       0.1       4.6        13.90   \n",
       "\n",
       "   10분 최다 강수량(mm)  1시간 최다강수량(mm)  일강수량(mm)  ...  평균 30cm 지중온도(°C)  \\\n",
       "0             0.0            0.0       0.0  ...               1.3   \n",
       "1             0.0            0.0       6.0  ...               1.4   \n",
       "2             0.0            0.0       0.0  ...               1.3   \n",
       "3             0.0            0.0       0.0  ...               1.3   \n",
       "4             0.0            0.0      18.4  ...               1.3   \n",
       "\n",
       "   0.5m 지중온도(°C)  1.0m 지중온도(°C)  1.5m 지중온도(°C)  3.0m 지중온도(°C)  5.0m 지중온도(°C)  \\\n",
       "0            3.5            6.7           10.0           14.6           17.5   \n",
       "1            3.6            6.7            9.7           14.5           17.5   \n",
       "2            3.3            6.2            9.5           14.5           17.8   \n",
       "3            3.3            6.3            9.5           14.5           17.3   \n",
       "4            3.3            6.0            9.5           14.5           17.5   \n",
       "\n",
       "   합계 대형증발량(mm)  합계 소형증발량(mm)  9-9강수(mm)  안개 계속시간(hr)  \n",
       "0           0.0           0.9        4.0          0.0  \n",
       "1           0.0           0.8        2.0          0.0  \n",
       "2           0.0           0.8        0.0          0.0  \n",
       "3           0.0           0.7        3.7          0.0  \n",
       "4           0.0           1.7       24.5          0.0  \n",
       "\n",
       "[5 rows x 49 columns]"
      ]
     },
     "execution_count": 28,
     "metadata": {},
     "output_type": "execute_result"
    }
   ],
   "source": [
    "data.head()"
   ]
  },
  {
   "cell_type": "markdown",
   "metadata": {},
   "source": [
    "현재 서울 데이터만 분석하고 있으므로 지점과 지점명 또한 제거한다.  "
   ]
  },
  {
   "cell_type": "code",
   "execution_count": 29,
   "metadata": {},
   "outputs": [],
   "source": [
    "data = data.drop(['지점','지점명'], axis=1)"
   ]
  },
  {
   "cell_type": "markdown",
   "metadata": {},
   "source": [
    "1) feature selection을 진행하지 않고 모든 변수를 이용하여 기온, 강수량 예측을 진행해보겠다  \n",
    "2) feature selection을 하고 싶다!  >  데이터 시각화 & 상관관계 분석  \n",
    "\n",
    "시간이 지남에 따라 순차적으로 측정한 데이터로 모두 시계열성을 같는다 생각하여 전처리는 시간에 대해 정렬 후 선형보간을 진행한다."
   ]
  },
  {
   "cell_type": "code",
   "execution_count": 43,
   "metadata": {},
   "outputs": [],
   "source": [
    "data = data.sort_values('일시').interpolate(method='linear')"
   ]
  },
  {
   "cell_type": "raw",
   "metadata": {},
   "source": [
    "data['일시'] = pd.to_datetime(data['일시'])\n",
    "plt.figure(figsize=(15,3))\n",
    "plt.plot(data['일시'],data['안개 계속시간(hr)'])"
   ]
  },
  {
   "cell_type": "code",
   "execution_count": 60,
   "metadata": {},
   "outputs": [
    {
     "name": "stdout",
     "output_type": "stream",
     "text": [
      "결측치 개수 = 0\n"
     ]
    }
   ],
   "source": [
    "# 보간 후 결측치 없음을 확인\n",
    "print('결측치 개수 =',data.isna().sum().sum())"
   ]
  },
  {
   "cell_type": "markdown",
   "metadata": {},
   "source": [
    "일반적인 모델을 구현하기 위해 데이터셋을 학습/검증/테스트 셋으로 분리하여 사용한다  \n",
    "- cross validation 종류 정리 : https://juni5184.tistory.com/14  \n",
    "- hold-out validation 설명 : https://bskyvision.com/720  \n",
    "일반적으로 많이 쓰이는 hold-out validation 사용  \n",
    "학습 : 검증 : 테스트 = 6:2:2 로 나눈다  "
   ]
  },
  {
   "cell_type": "markdown",
   "metadata": {},
   "source": [
    "데이터셋을 분리하기 전 라벨값을 만들자  \n",
    "다음날의 평균 기온을 예측하고 싶다!  \n",
    "다음날 평균 기온을 Y값으로 지정한다  "
   ]
  },
  {
   "cell_type": "code",
   "execution_count": 115,
   "metadata": {},
   "outputs": [],
   "source": [
    "data['Y'] = data['평균기온(°C)'].shift(-1)\n",
    "data = data.dropna()"
   ]
  },
  {
   "cell_type": "code",
   "execution_count": 116,
   "metadata": {},
   "outputs": [
    {
     "name": "stdout",
     "output_type": "stream",
     "text": [
      " train set: 4749 개\n",
      " valid set: 1461 개\n",
      " test set 1463 개\n"
     ]
    }
   ],
   "source": [
    "train = data[data['일시']<'2013-01-01']\n",
    "valid = data[data['일시']>='2013-01-01']\n",
    "valid = valid[valid['일시']<'2017-01-01']\n",
    "test = data[data['일시']>='2017-01-01']\n",
    "print(' train set:',len(train),'개\\n',\n",
    "      'valid set:',len(valid),'개\\n',\n",
    "      'test set',len(test),'개')\n",
    "\n",
    "# X와 Y분리\n",
    "\n",
    "trainX,trainY = train.drop(['일시','Y'],axis=1), train['Y']\n",
    "validX,validY = valid.drop(['일시','Y'],axis=1), valid['Y']\n",
    "testX,testY = test.drop(['일시','Y'],axis=1), test['Y']"
   ]
  },
  {
   "cell_type": "markdown",
   "metadata": {},
   "source": [
    "1) 스케일링 진행x  \n",
    "2) 스케일링 진행o  \n",
    "참고하자 : https://homeproject.tistory.com/entry/%EB%8D%B0%EC%9D%B4%ED%84%B0-%EC%8A%A4%EC%BC%80%EC%9D%BC%EB%A7%81-Data-Scaling  \n",
    "\n",
    "먼저 스케일링없이 진행  \n",
    "바로 모델 설계로 넘어간다  \n",
    "텐서플로우, 케라스를 사용해서 모델을 구현한다  \n",
    "- 프레임워크 선택  \n",
    "1) 케라스  \n",
    "2) 텐서플로우  \n",
    "\n",
    "- 모델 유형 선택  \n",
    "1) DNN  \n",
    "2) CNN  \n",
    "3) RNN  \n",
    "4) LSTM  "
   ]
  },
  {
   "cell_type": "code",
   "execution_count": 117,
   "metadata": {},
   "outputs": [],
   "source": [
    "import tensorflow as tf\n",
    "from tensorflow import keras\n",
    "from tensorflow.keras import layers\n",
    "from keras.callbacks import ModelCheckpoint, EarlyStopping, ReduceLROnPlateau"
   ]
  },
  {
   "cell_type": "code",
   "execution_count": 118,
   "metadata": {},
   "outputs": [
    {
     "name": "stdout",
     "output_type": "stream",
     "text": [
      "Model: \"model_3\"\n",
      "_________________________________________________________________\n",
      "Layer (type)                 Output Shape              Param #   \n",
      "=================================================================\n",
      "input_4 (InputLayer)         [(None, 46)]              0         \n",
      "_________________________________________________________________\n",
      "dense_15 (Dense)             (None, 50)                2350      \n",
      "_________________________________________________________________\n",
      "dense_16 (Dense)             (None, 50)                2550      \n",
      "_________________________________________________________________\n",
      "dense_17 (Dense)             (None, 50)                2550      \n",
      "_________________________________________________________________\n",
      "dense_18 (Dense)             (None, 50)                2550      \n",
      "_________________________________________________________________\n",
      "dense_19 (Dense)             (None, 1)                 51        \n",
      "=================================================================\n",
      "Total params: 10,051\n",
      "Trainable params: 10,051\n",
      "Non-trainable params: 0\n",
      "_________________________________________________________________\n"
     ]
    }
   ],
   "source": [
    "inputs_1 = tf.keras.Input(shape=46)\n",
    "dense = tf.keras.layers.Dense(50)(inputs_1)\n",
    "dense = tf.keras.layers.Dense(50)(dense)\n",
    "dense = tf.keras.layers.Dense(50)(dense)\n",
    "dense = tf.keras.layers.Dense(50)(dense)\n",
    "output = tf.keras.layers.Dense(1)(dense)\n",
    "\n",
    "model = tf.keras.Model(inputs=[inputs_1], outputs=output)\n",
    "\n",
    "optimizer = tf.keras.optimizers.Adam(lr = 0.001)\n",
    "\n",
    "model.compile(loss='mse', optimizer=optimizer)\n",
    "model.summary()"
   ]
  },
  {
   "cell_type": "code",
   "execution_count": 119,
   "metadata": {},
   "outputs": [
    {
     "name": "stdout",
     "output_type": "stream",
     "text": [
      "Train on 4749 samples, validate on 1461 samples\n",
      "Epoch 1/200\n",
      "4708/4749 [============================>.] - ETA: 0s - loss: 401.3139\n",
      "Epoch 00001: val_loss improved from inf to 47.75420, saving model to checkpoint.keras\n",
      "4749/4749 [==============================] - 5s 1ms/sample - loss: 397.9712 - val_loss: 47.7542\n",
      "Epoch 2/200\n",
      "4730/4749 [============================>.] - ETA: 0s - loss: 21.4010\n",
      "Epoch 00002: val_loss did not improve from 47.75420\n",
      "4749/4749 [==============================] - 5s 996us/sample - loss: 21.7843 - val_loss: 92.2269\n",
      "Epoch 3/200\n",
      "4714/4749 [============================>.] - ETA: 0s - loss: 23.8957\n",
      "Epoch 00003: val_loss improved from 47.75420 to 9.61944, saving model to checkpoint.keras\n",
      "\n",
      "Epoch 00003: ReduceLROnPlateau reducing learning rate to 0.00010000000474974513.\n",
      "4749/4749 [==============================] - 5s 989us/sample - loss: 23.7886 - val_loss: 9.6194\n",
      "Epoch 4/200\n",
      "4713/4749 [============================>.] - ETA: 0s - loss: 5.6111\n",
      "Epoch 00004: val_loss improved from 9.61944 to 6.61618, saving model to checkpoint.keras\n",
      "4749/4749 [==============================] - 5s 990us/sample - loss: 5.6621 - val_loss: 6.6162\n",
      "Epoch 5/200\n",
      "4732/4749 [============================>.] - ETA: 0s - loss: 5.9489\n",
      "Epoch 00005: val_loss did not improve from 6.61618\n",
      "\n",
      "Epoch 00005: ReduceLROnPlateau reducing learning rate to 1.0000000474974514e-05.\n",
      "4749/4749 [==============================] - 5s 999us/sample - loss: 5.9491 - val_loss: 7.7183\n",
      "Epoch 6/200\n",
      "4740/4749 [============================>.] - ETA: 0s - loss: 5.0726\n",
      "Epoch 00006: val_loss improved from 6.61618 to 4.90772, saving model to checkpoint.keras\n",
      "4749/4749 [==============================] - 5s 1ms/sample - loss: 5.0753 - val_loss: 4.9077\n",
      "Epoch 7/200\n",
      "4743/4749 [============================>.] - ETA: 0s - loss: 5.0023\n",
      "Epoch 00007: val_loss improved from 4.90772 to 4.85058, saving model to checkpoint.keras\n",
      "4749/4749 [==============================] - 5s 1ms/sample - loss: 4.9962 - val_loss: 4.8506\n",
      "Epoch 8/200\n",
      "4726/4749 [============================>.] - ETA: 0s - loss: 4.9820\n",
      "Epoch 00008: val_loss did not improve from 4.85058\n",
      "4749/4749 [==============================] - 5s 1ms/sample - loss: 4.9730 - val_loss: 4.9965\n",
      "Epoch 9/200\n",
      "4744/4749 [============================>.] - ETA: 0s - loss: 4.9732\n",
      "Epoch 00009: val_loss did not improve from 4.85058\n",
      "\n",
      "Epoch 00009: ReduceLROnPlateau reducing learning rate to 1.0000000656873453e-06.\n",
      "4749/4749 [==============================] - 6s 1ms/sample - loss: 4.9731 - val_loss: 4.8629\n",
      "Epoch 10/200\n",
      "4730/4749 [============================>.] - ETA: 0s - loss: 4.8615\n",
      "Epoch 00010: val_loss improved from 4.85058 to 4.80488, saving model to checkpoint.keras\n",
      "4749/4749 [==============================] - 6s 1ms/sample - loss: 4.8577 - val_loss: 4.8049\n",
      "Epoch 11/200\n",
      "4731/4749 [============================>.] - ETA: 0s - loss: 4.8139\n",
      "Epoch 00011: val_loss did not improve from 4.80488\n",
      "4749/4749 [==============================] - 6s 1ms/sample - loss: 4.8483 - val_loss: 4.8104\n",
      "Epoch 12/200\n",
      "4721/4749 [============================>.] - ETA: 0s - loss: 4.8508\n",
      "Epoch 00012: val_loss did not improve from 4.80488\n",
      "4749/4749 [==============================] - 6s 1ms/sample - loss: 4.8430 - val_loss: 4.8544\n",
      "Epoch 13/200\n",
      "4709/4749 [============================>.] - ETA: 0s - loss: 4.8357\n",
      "Epoch 00013: val_loss did not improve from 4.80488\n",
      "4749/4749 [==============================] - 6s 1ms/sample - loss: 4.8407 - val_loss: 4.8140\n",
      "Epoch 14/200\n",
      "4724/4749 [============================>.] - ETA: 0s - loss: 4.8249\n",
      "Epoch 00014: val_loss improved from 4.80488 to 4.77412, saving model to checkpoint.keras\n",
      "4749/4749 [==============================] - 6s 1ms/sample - loss: 4.8366 - val_loss: 4.7741\n",
      "Epoch 15/200\n",
      "4740/4749 [============================>.] - ETA: 0s - loss: 4.8296\n",
      "Epoch 00015: val_loss did not improve from 4.77412\n",
      "4749/4749 [==============================] - 6s 1ms/sample - loss: 4.8322 - val_loss: 4.7766\n",
      "Epoch 16/200\n",
      "4709/4749 [============================>.] - ETA: 0s - loss: 4.8224\n",
      "Epoch 00016: val_loss did not improve from 4.77412\n",
      "4749/4749 [==============================] - 6s 1ms/sample - loss: 4.8266 - val_loss: 4.8254\n",
      "Epoch 17/200\n",
      "4720/4749 [============================>.] - ETA: 0s - loss: 4.8327\n",
      "Epoch 00017: val_loss did not improve from 4.77412\n",
      "4749/4749 [==============================] - 6s 1ms/sample - loss: 4.8217 - val_loss: 4.7941\n",
      "Epoch 18/200\n",
      "4742/4749 [============================>.] - ETA: 0s - loss: 4.8237\n",
      "Epoch 00018: val_loss did not improve from 4.77412\n",
      "\n",
      "Epoch 00018: ReduceLROnPlateau reducing learning rate to 1.0000001111620805e-07.\n",
      "4749/4749 [==============================] - 6s 1ms/sample - loss: 4.8240 - val_loss: 4.8385\n",
      "Epoch 19/200\n",
      "4714/4749 [============================>.] - ETA: 0s - loss: 4.8288\n",
      "Epoch 00019: val_loss did not improve from 4.77412\n",
      "4749/4749 [==============================] - 6s 1ms/sample - loss: 4.8101 - val_loss: 4.7869\n",
      "Epoch 20/200\n",
      "4737/4749 [============================>.] - ETA: 0s - loss: 4.8168\n",
      "Epoch 00020: val_loss did not improve from 4.77412\n",
      "4749/4749 [==============================] - 6s 1ms/sample - loss: 4.8076 - val_loss: 4.7886\n",
      "Epoch 21/200\n",
      "4736/4749 [============================>.] - ETA: 0s - loss: 4.8169\n",
      "Epoch 00021: val_loss did not improve from 4.77412\n",
      "4749/4749 [==============================] - 6s 1ms/sample - loss: 4.8073 - val_loss: 4.7837\n",
      "Epoch 22/200\n",
      "4717/4749 [============================>.] - ETA: 0s - loss: 4.8133\n",
      "Epoch 00022: val_loss did not improve from 4.77412\n",
      "4749/4749 [==============================] - 6s 1ms/sample - loss: 4.8069 - val_loss: 4.7853\n",
      "Epoch 23/200\n",
      "4729/4749 [============================>.] - ETA: 0s - loss: 4.8110\n",
      "Epoch 00023: val_loss did not improve from 4.77412\n",
      "4749/4749 [==============================] - 6s 1ms/sample - loss: 4.8061 - val_loss: 4.7897\n",
      "Epoch 24/200\n",
      "4728/4749 [============================>.] - ETA: 0s - loss: 4.8150\n",
      "Epoch 00024: val_loss did not improve from 4.77412\n",
      "\n",
      "Epoch 00024: ReduceLROnPlateau reducing learning rate to 1.000000082740371e-08.\n",
      "4749/4749 [==============================] - 6s 1ms/sample - loss: 4.8062 - val_loss: 4.7798\n"
     ]
    },
    {
     "data": {
      "image/png": "[encoded data removed]",
      "text/plain": [
       "<Figure size 432x288 with 1 Axes>"
      ]
     },
     "metadata": {
      "needs_background": "light"
     },
     "output_type": "display_data"
    }
   ],
   "source": [
    "path_checkpoint = 'checkpoint.keras'\n",
    "callback_checkpoint = ModelCheckpoint(filepath=path_checkpoint,\n",
    "                                      monitor='val_loss',\n",
    "                                      verbose=1,\n",
    "                                      save_weights_only=True,\n",
    "                                      save_best_only=True)\n",
    "\n",
    "callback_early_stopping = EarlyStopping(monitor='val_loss', patience=10,verbose=0)\n",
    "\n",
    "\n",
    "callback_reduce_lr = ReduceLROnPlateau(monitor='loss',\n",
    "                                       factor=0.1,\n",
    "                                       patience=1,\n",
    "                                       verbose=1)\n",
    "\n",
    "callbacks = [callback_early_stopping,\n",
    "             callback_checkpoint,\n",
    "             callback_reduce_lr]\n",
    "hist = model.fit(trainX,trainY, validation_data=(validX, validY), \n",
    "                 epochs = 200, batch_size=1, callbacks=callbacks, verbose=1)\n",
    "\n",
    "fig, loss_ax = plt.subplots()\n",
    "\n",
    "loss_ax.plot(hist.history['loss'], 'y', label='train loss')\n",
    "loss_ax.plot(hist.history['val_loss'], 'r', label='val loss')\n",
    "\n",
    "loss_ax.set_xlabel('epoch')\n",
    "loss_ax.set_ylabel('loss')\n",
    "\n",
    "loss_ax.legend(loc='upper left')\n",
    "\n",
    "plt.show()"
   ]
  },
  {
   "cell_type": "markdown",
   "metadata": {},
   "source": [
    "테스트 데이터를 이용하여 모델이 잘 학습되었는지 확인한다.  \n",
    "시계열 그래프 그려서 비교  \n",
    "RMSE 계산"
   ]
  },
  {
   "cell_type": "code",
   "execution_count": 120,
   "metadata": {},
   "outputs": [
    {
     "data": {
      "text/plain": [
       "<matplotlib.legend.Legend at 0x7fe1ec758d10>"
      ]
     },
     "execution_count": 120,
     "metadata": {},
     "output_type": "execute_result"
    },
    {
     "data": {
      "image/png": "[encoded data removed]",
      "text/plain": [
       "<Figure size 1080x216 with 1 Axes>"
      ]
     },
     "metadata": {
      "needs_background": "light"
     },
     "output_type": "display_data"
    }
   ],
   "source": [
    "pred = model.predict(testX)\n",
    "plt.figure(figsize = (15,3))\n",
    "plt.plot(testY.reset_index()['Y'])\n",
    "plt.plot(pred)\n",
    "plt.legend(['real','predict'])"
   ]
  },
  {
   "cell_type": "code",
   "execution_count": 123,
   "metadata": {},
   "outputs": [
    {
     "name": "stdout",
     "output_type": "stream",
     "text": [
      "RMSE =  2.1517\n"
     ]
    }
   ],
   "source": [
    "print('RMSE = ',round((((testY.values-[i[0] for i in pred])**2).sum()/len(pred))**0.5,4))"
   ]
  },
  {
   "cell_type": "code",
   "execution_count": null,
   "metadata": {},
   "outputs": [],
   "source": []
  }
 ],
 "metadata": {
  "kernelspec": {
   "display_name": "Python 3",
   "language": "python",
   "name": "python3"
  },
  "language_info": {
   "codemirror_mode": {
    "name": "ipython",
    "version": 3
   },
   "file_extension": ".py",
   "mimetype": "text/x-python",
   "name": "python",
   "nbconvert_exporter": "python",
   "pygments_lexer": "ipython3",
   "version": "3.7.6"
  }
 },
 "nbformat": 4,
 "nbformat_minor": 4
}
