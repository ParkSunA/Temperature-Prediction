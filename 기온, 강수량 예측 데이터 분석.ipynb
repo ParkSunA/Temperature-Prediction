{
 "cells": [
  {
   "cell_type": "code",
   "execution_count": 22,
   "metadata": {},
   "outputs": [],
   "source": [
    "import pandas as pd\n",
    "import numpy as np\n",
    "import matplotlib.pyplot as plt\n",
    "import seaborn as sns\n",
    "import missingno as msno\n",
    "import matplotlib.font_manager as fm\n",
    "import matplotlib as mpl"
   ]
  },
  {
   "cell_type": "code",
   "execution_count": 23,
   "metadata": {},
   "outputs": [],
   "source": [
    "path = '/Library/Fonts/NanumBarunpenRegular.otf'\n",
    "fontprop = fm.FontProperties(fname=path, size=18)"
   ]
  },
  {
   "cell_type": "code",
   "execution_count": 24,
   "metadata": {},
   "outputs": [],
   "source": [
    "# 데이터 불러오기\n",
    "data = pd.read_csv('OBS_ASOS_DD_20210104225316.csv', encoding = 'cp949')  # 2020-01-01~2010-01-01\n",
    "data1 = pd.read_csv('OBS_ASOS_DD_20210104225407.csv', encoding = 'cp949') # 2010-01-02~2020-01-02\n",
    "data2 = pd.read_csv('OBS_ASOS_DD_20210104225442.csv', encoding = 'cp949') # 2020-01-03~2021-01-03\n",
    "\n",
    "data = pd.concat([data,data1,data2],axis=0).reset_index().drop('index',axis=1)"
   ]
  },
  {
   "cell_type": "code",
   "execution_count": 25,
   "metadata": {},
   "outputs": [
    {
     "name": "stdout",
     "output_type": "stream",
     "text": [
      "데이터 개수 = 7674\n",
      "데이터 컬럼 개수 = 62\n"
     ]
    }
   ],
   "source": [
    "print('데이터 개수 =', len(data))\n",
    "print('데이터 컬럼 개수 =', len(data.columns))"
   ]
  },
  {
   "cell_type": "code",
   "execution_count": 26,
   "metadata": {},
   "outputs": [
    {
     "data": {
      "text/plain": [
       "Index(['지점', '지점명', '일시', '평균기온(°C)', '최저기온(°C)', '최저기온 시각(hhmi)', '최고기온(°C)',\n",
       "       '최고기온 시각(hhmi)', '강수 계속시간(hr)', '10분 최다 강수량(mm)', '10분 최다강수량 시각(hhmi)',\n",
       "       '1시간 최다강수량(mm)', '1시간 최다 강수량 시각(hhmi)', '일강수량(mm)', '최대 순간 풍속(m/s)',\n",
       "       '최대 순간 풍속 풍향(16방위)', '최대 순간풍속 시각(hhmi)', '최대 풍속(m/s)', '최대 풍속 풍향(16방위)',\n",
       "       '최대 풍속 시각(hhmi)', '평균 풍속(m/s)', '풍정합(100m)', '최다풍향(16방위)',\n",
       "       '평균 이슬점온도(°C)', '최소 상대습도(%)', '최소 상대습도 시각(hhmi)', '평균 상대습도(%)',\n",
       "       '평균 증기압(hPa)', '평균 현지기압(hPa)', '최고 해면기압(hPa)', '최고 해면기압 시각(hhmi)',\n",
       "       '최저 해면기압(hPa)', '최저 해면기압 시각(hhmi)', '평균 해면기압(hPa)', '가조시간(hr)',\n",
       "       '합계 일조시간(hr)', '1시간 최다일사 시각(hhmi)', '1시간 최다일사량(MJ/m2)', '합계 일사량(MJ/m2)',\n",
       "       '일 최심신적설(cm)', '일 최심신적설 시각(hhmi)', '일 최심적설(cm)', '일 최심적설 시각(hhmi)',\n",
       "       '합계 3시간 신적설(cm)', '평균 전운량(1/10)', '평균 중하층운량(1/10)', '평균 지면온도(°C)',\n",
       "       '최저 초상온도(°C)', '평균 5cm 지중온도(°C)', '평균 10cm 지중온도(°C)',\n",
       "       '평균 20cm 지중온도(°C)', '평균 30cm 지중온도(°C)', '0.5m 지중온도(°C)',\n",
       "       '1.0m 지중온도(°C)', '1.5m 지중온도(°C)', '3.0m 지중온도(°C)', '5.0m 지중온도(°C)',\n",
       "       '합계 대형증발량(mm)', '합계 소형증발량(mm)', '9-9강수(mm)', '기사', '안개 계속시간(hr)'],\n",
       "      dtype='object')"
      ]
     },
     "execution_count": 26,
     "metadata": {},
     "output_type": "execute_result"
    }
   ],
   "source": [
    "data.columns"
   ]
  },
  {
   "cell_type": "markdown",
   "metadata": {},
   "source": [
    "62개의 데이터 컬럼명을 확인해 보았다.  \n",
    "이 많은 변수들을 우리가 사용할 수 있는지 데이터 품질을 살펴보려고 한다."
   ]
  },
  {
   "cell_type": "code",
   "execution_count": 27,
   "metadata": {},
   "outputs": [
    {
     "name": "stdout",
     "output_type": "stream",
     "text": [
      "최고기온(°C) 1\n",
      "최고기온 시각(hhmi) 1\n",
      "강수 계속시간(hr) 4710\n",
      "10분 최다 강수량(mm) 5781\n",
      "10분 최다강수량 시각(hhmi) 6288\n",
      "1시간 최다강수량(mm) 5781\n",
      "1시간 최다 강수량 시각(hhmi) 6277\n",
      "일강수량(mm) 4709\n",
      "최대 순간 풍속(m/s) 2\n",
      "최대 순간 풍속 풍향(16방위) 2\n",
      "최대 순간풍속 시각(hhmi) 2\n",
      "최대 풍속(m/s) 2\n",
      "최대 풍속 풍향(16방위) 2\n",
      "최대 풍속 시각(hhmi) 2\n",
      "평균 풍속(m/s) 3\n",
      "풍정합(100m) 3\n",
      "최다풍향(16방위) 5\n",
      "최소 상대습도(%) 1\n",
      "최소 상대습도 시각(hhmi) 1\n",
      "평균 현지기압(hPa) 1\n",
      "최고 해면기압(hPa) 1\n",
      "최고 해면기압 시각(hhmi) 1\n",
      "최저 해면기압(hPa) 2\n",
      "최저 해면기압 시각(hhmi) 2\n",
      "평균 해면기압(hPa) 1\n",
      "합계 일조시간(hr) 12\n",
      "1시간 최다일사 시각(hhmi) 24\n",
      "1시간 최다일사량(MJ/m2) 23\n",
      "합계 일사량(MJ/m2) 26\n",
      "일 최심신적설(cm) 7412\n",
      "일 최심신적설 시각(hhmi) 7419\n",
      "일 최심적설(cm) 7155\n",
      "일 최심적설 시각(hhmi) 7160\n",
      "합계 3시간 신적설(cm) 7412\n",
      "평균 중하층운량(1/10) 21\n",
      "평균 지면온도(°C) 1\n",
      "최저 초상온도(°C) 3\n",
      "평균 5cm 지중온도(°C) 9\n",
      "평균 10cm 지중온도(°C) 9\n",
      "평균 20cm 지중온도(°C) 10\n",
      "평균 30cm 지중온도(°C) 28\n",
      "0.5m 지중온도(°C) 8\n",
      "1.0m 지중온도(°C) 8\n",
      "1.5m 지중온도(°C) 9\n",
      "3.0m 지중온도(°C) 11\n",
      "5.0m 지중온도(°C) 6\n",
      "합계 대형증발량(mm) 2491\n",
      "합계 소형증발량(mm) 6\n",
      "9-9강수(mm) 4678\n",
      "기사 2118\n",
      "안개 계속시간(hr) 7512\n"
     ]
    }
   ],
   "source": [
    "# 결측이 있는 변수만 출력\n",
    "for i,j in zip(data.columns,data.isna().sum()):\n",
    "    if j>0:\n",
    "        print(i,j)"
   ]
  },
  {
   "cell_type": "code",
   "execution_count": 28,
   "metadata": {
    "scrolled": true
   },
   "outputs": [
    {
     "name": "stdout",
     "output_type": "stream",
     "text": [
      "강수 계속시간(hr) 0.6137607505863957\n",
      "10분 최다 강수량(mm) 0.753322908522283\n",
      "10분 최다강수량 시각(hhmi) 0.8193901485535575\n",
      "1시간 최다강수량(mm) 0.753322908522283\n",
      "1시간 최다 강수량 시각(hhmi) 0.8179567370341413\n",
      "일강수량(mm) 0.6136304404482669\n",
      "일 최심신적설(cm) 0.9658587438102685\n",
      "일 최심신적설 시각(hhmi) 0.9667709147771697\n",
      "일 최심적설(cm) 0.9323690383111806\n",
      "일 최심적설 시각(hhmi) 0.9330205890018244\n",
      "합계 3시간 신적설(cm) 0.9658587438102685\n",
      "9-9강수(mm) 0.6095908261662757\n",
      "안개 계속시간(hr) 0.9788897576231431\n"
     ]
    }
   ],
   "source": [
    "# 결측비율이 높은 변수 출력\n",
    "for i,j in zip(data.columns,data.isna().sum()/len(data)):\n",
    "    if j>0.5:\n",
    "        print(i,j)"
   ]
  },
  {
   "cell_type": "markdown",
   "metadata": {},
   "source": [
    "업무를 통해 ASOS데이터를 다룬 적이 있어 강수와 적설량의 결측원인을 알고 있다  \n",
    "강수, 적설량이 0인 경우 결측으로 표시된다  \n",
    "따라서 강수와 적설의 결측은 0으로 채우면 된다.  \n",
    "\n",
    "안개 계속시간 증발량도 같은 이유일 것으로 추측된다.  \n",
    "따라서 안개 계속시간, 증발량의 결측도 0으로 채운다."
   ]
  },
  {
   "cell_type": "code",
   "execution_count": 29,
   "metadata": {},
   "outputs": [],
   "source": [
    "rain_col = [i for i in data.columns if '강수' in i]\n",
    "snow_col = [i for i in data.columns if '적설' in i]\n",
    "\n",
    "data[rain_col+snow_col] = data[rain_col+snow_col].fillna(0)\n",
    "data[['안개 계속시간(hr)','합계 대형증발량(mm)','합계 소형증발량(mm)']] = data[['안개 계속시간(hr)','합계 대형증발량(mm)','합계 소형증발량(mm)']].fillna(0)"
   ]
  },
  {
   "cell_type": "markdown",
   "metadata": {},
   "source": [
    "강수와 적설, 안개 계속시간의 결측을 0으로 채우고 난 후 다시 결측이 있는 변수를 출력해보면 다음과 같이 나온다.\n",
    "나머지 결측은 시계열 그래프 확인 후 채우도록 한다."
   ]
  },
  {
   "cell_type": "code",
   "execution_count": 30,
   "metadata": {},
   "outputs": [
    {
     "name": "stdout",
     "output_type": "stream",
     "text": [
      "최고기온(°C) 1\n",
      "최고기온 시각(hhmi) 1\n",
      "최대 순간 풍속(m/s) 2\n",
      "최대 순간 풍속 풍향(16방위) 2\n",
      "최대 순간풍속 시각(hhmi) 2\n",
      "최대 풍속(m/s) 2\n",
      "최대 풍속 풍향(16방위) 2\n",
      "최대 풍속 시각(hhmi) 2\n",
      "평균 풍속(m/s) 3\n",
      "풍정합(100m) 3\n",
      "최다풍향(16방위) 5\n",
      "최소 상대습도(%) 1\n",
      "최소 상대습도 시각(hhmi) 1\n",
      "평균 현지기압(hPa) 1\n",
      "최고 해면기압(hPa) 1\n",
      "최고 해면기압 시각(hhmi) 1\n",
      "최저 해면기압(hPa) 2\n",
      "최저 해면기압 시각(hhmi) 2\n",
      "평균 해면기압(hPa) 1\n",
      "합계 일조시간(hr) 12\n",
      "1시간 최다일사 시각(hhmi) 24\n",
      "1시간 최다일사량(MJ/m2) 23\n",
      "합계 일사량(MJ/m2) 26\n",
      "평균 중하층운량(1/10) 21\n",
      "평균 지면온도(°C) 1\n",
      "최저 초상온도(°C) 3\n",
      "평균 5cm 지중온도(°C) 9\n",
      "평균 10cm 지중온도(°C) 9\n",
      "평균 20cm 지중온도(°C) 10\n",
      "평균 30cm 지중온도(°C) 28\n",
      "0.5m 지중온도(°C) 8\n",
      "1.0m 지중온도(°C) 8\n",
      "1.5m 지중온도(°C) 9\n",
      "3.0m 지중온도(°C) 11\n",
      "5.0m 지중온도(°C) 6\n",
      "기사 2118\n"
     ]
    }
   ],
   "source": [
    "# 결측이 있는 변수만 출력\n",
    "for i,j in zip(data.columns,data.isna().sum()):\n",
    "    if j>0:\n",
    "        print(i,j)"
   ]
  },
  {
   "cell_type": "markdown",
   "metadata": {},
   "source": [
    "이렇게 데이터프레임을 열어보면 특이한 컬럼이 있다.  \n",
    "'기사'라는 컬럼인데 이 컬럼은 단순히 수치로 기록되어 있지 않고 글자가 섞여 있다.  \n",
    "이 컬럼은 제외하고 분석에 들어가겠다  \n",
    "최저기온 시각, 최고기온 시각 등 최저기온이 측정된 시각, 각 특정 데이터가 측정된 시각들도 변수로 포함되어 있다.  \n",
    "이런 변수들은 기온, 강수량 예측과 상관관계가 낮을 것이라 생각이 들어 제외하고 분석에 들어가겠다.  \n",
    "추가로 강수 계속시간(hr),10분 최다 강수량(mm)도 제거한다.  \n",
    "(그다음 단계로 openAPI를 이용해 실시간으로 데이터를 불러 다음날 평균기온을 예측할 것이다.  \n",
    "그런데 openAPI로 데이터를 불렀을때, 이 두 변수는 포함이 안된다.  \n",
    "학습에 사용된 변수가 추론에는 없으면 예측이 제대로 되지 않는다.  \n",
    "그러므로 학습에 포함시키지 않는다.)"
   ]
  },
  {
   "cell_type": "code",
   "execution_count": 32,
   "metadata": {},
   "outputs": [
    {
     "name": "stdout",
     "output_type": "stream",
     "text": [
      "['최저기온 시각(hhmi)', '최고기온 시각(hhmi)', '10분 최다강수량 시각(hhmi)', '1시간 최다 강수량 시각(hhmi)', '최대 순간풍속 시각(hhmi)', '최대 풍속 시각(hhmi)', '최소 상대습도 시각(hhmi)', '최고 해면기압 시각(hhmi)', '최저 해면기압 시각(hhmi)', '1시간 최다일사 시각(hhmi)', '일 최심신적설 시각(hhmi)', '일 최심적설 시각(hhmi)']\n"
     ]
    }
   ],
   "source": [
    "data = data.drop(['기사','강수 계속시간(hr)','10분 최다 강수량(mm)'],axis=1)\n",
    "\n",
    "time_col=[i for i in data.columns if '시각' in i]\n",
    "print(time_col)"
   ]
  },
  {
   "cell_type": "code",
   "execution_count": 33,
   "metadata": {},
   "outputs": [],
   "source": [
    "data = data.drop(time_col, axis=1)"
   ]
  },
  {
   "cell_type": "code",
   "execution_count": 34,
   "metadata": {
    "scrolled": false
   },
   "outputs": [
    {
     "data": {
      "text/html": [
       "<div>\n",
       "<style scoped>\n",
       "    .dataframe tbody tr th:only-of-type {\n",
       "        vertical-align: middle;\n",
       "    }\n",
       "\n",
       "    .dataframe tbody tr th {\n",
       "        vertical-align: top;\n",
       "    }\n",
       "\n",
       "    .dataframe thead th {\n",
       "        text-align: right;\n",
       "    }\n",
       "</style>\n",
       "<table border=\"1\" class=\"dataframe\">\n",
       "  <thead>\n",
       "    <tr style=\"text-align: right;\">\n",
       "      <th></th>\n",
       "      <th>지점</th>\n",
       "      <th>지점명</th>\n",
       "      <th>일시</th>\n",
       "      <th>평균기온(°C)</th>\n",
       "      <th>최저기온(°C)</th>\n",
       "      <th>최고기온(°C)</th>\n",
       "      <th>1시간 최다강수량(mm)</th>\n",
       "      <th>일강수량(mm)</th>\n",
       "      <th>최대 순간 풍속(m/s)</th>\n",
       "      <th>최대 순간 풍속 풍향(16방위)</th>\n",
       "      <th>...</th>\n",
       "      <th>평균 30cm 지중온도(°C)</th>\n",
       "      <th>0.5m 지중온도(°C)</th>\n",
       "      <th>1.0m 지중온도(°C)</th>\n",
       "      <th>1.5m 지중온도(°C)</th>\n",
       "      <th>3.0m 지중온도(°C)</th>\n",
       "      <th>5.0m 지중온도(°C)</th>\n",
       "      <th>합계 대형증발량(mm)</th>\n",
       "      <th>합계 소형증발량(mm)</th>\n",
       "      <th>9-9강수(mm)</th>\n",
       "      <th>안개 계속시간(hr)</th>\n",
       "    </tr>\n",
       "  </thead>\n",
       "  <tbody>\n",
       "    <tr>\n",
       "      <th>0</th>\n",
       "      <td>108</td>\n",
       "      <td>서울</td>\n",
       "      <td>2000-01-01</td>\n",
       "      <td>5.5</td>\n",
       "      <td>1.8</td>\n",
       "      <td>9.9</td>\n",
       "      <td>0.0</td>\n",
       "      <td>0.0</td>\n",
       "      <td>7.4</td>\n",
       "      <td>50.0</td>\n",
       "      <td>...</td>\n",
       "      <td>1.3</td>\n",
       "      <td>3.5</td>\n",
       "      <td>6.7</td>\n",
       "      <td>10.0</td>\n",
       "      <td>14.6</td>\n",
       "      <td>17.5</td>\n",
       "      <td>0.0</td>\n",
       "      <td>0.9</td>\n",
       "      <td>4.0</td>\n",
       "      <td>0.0</td>\n",
       "    </tr>\n",
       "    <tr>\n",
       "      <th>1</th>\n",
       "      <td>108</td>\n",
       "      <td>서울</td>\n",
       "      <td>2000-01-02</td>\n",
       "      <td>4.2</td>\n",
       "      <td>-0.9</td>\n",
       "      <td>6.9</td>\n",
       "      <td>0.0</td>\n",
       "      <td>6.0</td>\n",
       "      <td>11.8</td>\n",
       "      <td>250.0</td>\n",
       "      <td>...</td>\n",
       "      <td>1.4</td>\n",
       "      <td>3.6</td>\n",
       "      <td>6.7</td>\n",
       "      <td>9.7</td>\n",
       "      <td>14.5</td>\n",
       "      <td>17.5</td>\n",
       "      <td>0.0</td>\n",
       "      <td>0.8</td>\n",
       "      <td>2.0</td>\n",
       "      <td>0.0</td>\n",
       "    </tr>\n",
       "    <tr>\n",
       "      <th>2</th>\n",
       "      <td>108</td>\n",
       "      <td>서울</td>\n",
       "      <td>2000-01-03</td>\n",
       "      <td>-2.2</td>\n",
       "      <td>-4.6</td>\n",
       "      <td>0.1</td>\n",
       "      <td>0.0</td>\n",
       "      <td>0.0</td>\n",
       "      <td>8.1</td>\n",
       "      <td>290.0</td>\n",
       "      <td>...</td>\n",
       "      <td>1.3</td>\n",
       "      <td>3.3</td>\n",
       "      <td>6.2</td>\n",
       "      <td>9.5</td>\n",
       "      <td>14.5</td>\n",
       "      <td>17.8</td>\n",
       "      <td>0.0</td>\n",
       "      <td>0.8</td>\n",
       "      <td>0.0</td>\n",
       "      <td>0.0</td>\n",
       "    </tr>\n",
       "    <tr>\n",
       "      <th>3</th>\n",
       "      <td>108</td>\n",
       "      <td>서울</td>\n",
       "      <td>2000-01-04</td>\n",
       "      <td>0.3</td>\n",
       "      <td>-4.3</td>\n",
       "      <td>4.3</td>\n",
       "      <td>0.0</td>\n",
       "      <td>0.0</td>\n",
       "      <td>4.5</td>\n",
       "      <td>50.0</td>\n",
       "      <td>...</td>\n",
       "      <td>1.3</td>\n",
       "      <td>3.3</td>\n",
       "      <td>6.3</td>\n",
       "      <td>9.5</td>\n",
       "      <td>14.5</td>\n",
       "      <td>17.3</td>\n",
       "      <td>0.0</td>\n",
       "      <td>0.7</td>\n",
       "      <td>3.7</td>\n",
       "      <td>0.0</td>\n",
       "    </tr>\n",
       "    <tr>\n",
       "      <th>4</th>\n",
       "      <td>108</td>\n",
       "      <td>서울</td>\n",
       "      <td>2000-01-05</td>\n",
       "      <td>2.8</td>\n",
       "      <td>0.1</td>\n",
       "      <td>4.6</td>\n",
       "      <td>0.0</td>\n",
       "      <td>18.4</td>\n",
       "      <td>9.1</td>\n",
       "      <td>70.0</td>\n",
       "      <td>...</td>\n",
       "      <td>1.3</td>\n",
       "      <td>3.3</td>\n",
       "      <td>6.0</td>\n",
       "      <td>9.5</td>\n",
       "      <td>14.5</td>\n",
       "      <td>17.5</td>\n",
       "      <td>0.0</td>\n",
       "      <td>1.7</td>\n",
       "      <td>24.5</td>\n",
       "      <td>0.0</td>\n",
       "    </tr>\n",
       "  </tbody>\n",
       "</table>\n",
       "<p>5 rows × 47 columns</p>\n",
       "</div>"
      ],
      "text/plain": [
       "    지점 지점명          일시  평균기온(°C)  최저기온(°C)  최고기온(°C)  1시간 최다강수량(mm)  일강수량(mm)  \\\n",
       "0  108  서울  2000-01-01       5.5       1.8       9.9            0.0       0.0   \n",
       "1  108  서울  2000-01-02       4.2      -0.9       6.9            0.0       6.0   \n",
       "2  108  서울  2000-01-03      -2.2      -4.6       0.1            0.0       0.0   \n",
       "3  108  서울  2000-01-04       0.3      -4.3       4.3            0.0       0.0   \n",
       "4  108  서울  2000-01-05       2.8       0.1       4.6            0.0      18.4   \n",
       "\n",
       "   최대 순간 풍속(m/s)  최대 순간 풍속 풍향(16방위)  ...  평균 30cm 지중온도(°C)  0.5m 지중온도(°C)  \\\n",
       "0            7.4               50.0  ...               1.3            3.5   \n",
       "1           11.8              250.0  ...               1.4            3.6   \n",
       "2            8.1              290.0  ...               1.3            3.3   \n",
       "3            4.5               50.0  ...               1.3            3.3   \n",
       "4            9.1               70.0  ...               1.3            3.3   \n",
       "\n",
       "   1.0m 지중온도(°C)  1.5m 지중온도(°C)  3.0m 지중온도(°C)  5.0m 지중온도(°C)  합계 대형증발량(mm)  \\\n",
       "0            6.7           10.0           14.6           17.5           0.0   \n",
       "1            6.7            9.7           14.5           17.5           0.0   \n",
       "2            6.2            9.5           14.5           17.8           0.0   \n",
       "3            6.3            9.5           14.5           17.3           0.0   \n",
       "4            6.0            9.5           14.5           17.5           0.0   \n",
       "\n",
       "   합계 소형증발량(mm)  9-9강수(mm)  안개 계속시간(hr)  \n",
       "0           0.9        4.0          0.0  \n",
       "1           0.8        2.0          0.0  \n",
       "2           0.8        0.0          0.0  \n",
       "3           0.7        3.7          0.0  \n",
       "4           1.7       24.5          0.0  \n",
       "\n",
       "[5 rows x 47 columns]"
      ]
     },
     "execution_count": 34,
     "metadata": {},
     "output_type": "execute_result"
    }
   ],
   "source": [
    "data.head()"
   ]
  },
  {
   "cell_type": "markdown",
   "metadata": {},
   "source": [
    "현재 서울 데이터만 분석하고 있으므로 지점과 지점명 또한 제거한다.  "
   ]
  },
  {
   "cell_type": "code",
   "execution_count": 35,
   "metadata": {},
   "outputs": [],
   "source": [
    "data = data.drop(['지점','지점명'], axis=1)"
   ]
  },
  {
   "cell_type": "markdown",
   "metadata": {},
   "source": [
    "1) feature selection을 진행하지 않고 모든 변수를 이용하여 기온, 강수량 예측을 진행해보겠다  \n",
    "2) feature selection을 하고 싶다!  >  데이터 시각화 & 상관관계 분석  \n",
    "\n",
    "시간이 지남에 따라 순차적으로 측정한 데이터로 모두 시계열성을 같는다 생각하여 전처리는 시간에 대해 정렬 후 선형보간을 진행한다."
   ]
  },
  {
   "cell_type": "code",
   "execution_count": 36,
   "metadata": {},
   "outputs": [],
   "source": [
    "data = data.sort_values('일시').interpolate(method='linear')"
   ]
  },
  {
   "cell_type": "raw",
   "metadata": {},
   "source": [
    "data['일시'] = pd.to_datetime(data['일시'])\n",
    "plt.figure(figsize=(15,3))\n",
    "plt.plot(data['일시'],data['안개 계속시간(hr)'])"
   ]
  },
  {
   "cell_type": "code",
   "execution_count": 37,
   "metadata": {},
   "outputs": [
    {
     "name": "stdout",
     "output_type": "stream",
     "text": [
      "결측치 개수 = 0\n"
     ]
    }
   ],
   "source": [
    "# 보간 후 결측치 없음을 확인\n",
    "print('결측치 개수 =',data.isna().sum().sum())"
   ]
  },
  {
   "cell_type": "markdown",
   "metadata": {},
   "source": [
    "일반적인 모델을 구현하기 위해 데이터셋을 학습/검증/테스트 셋으로 분리하여 사용한다  \n",
    "- cross validation 종류 정리 : https://juni5184.tistory.com/14  \n",
    "- hold-out validation 설명 : https://bskyvision.com/720  \n",
    "일반적으로 많이 쓰이는 hold-out validation 사용  \n",
    "학습 : 검증 : 테스트 = 6:2:2 로 나눈다  "
   ]
  },
  {
   "cell_type": "markdown",
   "metadata": {},
   "source": [
    "데이터셋을 분리하기 전 라벨값을 만들자  \n",
    "다음날의 평균 기온을 예측하고 싶다!  \n",
    "다음날 평균 기온을 Y값으로 지정한다  "
   ]
  },
  {
   "cell_type": "code",
   "execution_count": 38,
   "metadata": {},
   "outputs": [],
   "source": [
    "data['Y'] = data['평균기온(°C)'].shift(-1)\n",
    "data = data.dropna()"
   ]
  },
  {
   "cell_type": "code",
   "execution_count": 39,
   "metadata": {},
   "outputs": [
    {
     "name": "stdout",
     "output_type": "stream",
     "text": [
      " train set: 4749 개\n",
      " valid set: 1461 개\n",
      " test set 1463 개\n"
     ]
    }
   ],
   "source": [
    "train = data[data['일시']<'2013-01-01']\n",
    "valid = data[data['일시']>='2013-01-01']\n",
    "valid = valid[valid['일시']<'2017-01-01']\n",
    "test = data[data['일시']>='2017-01-01']\n",
    "print(' train set:',len(train),'개\\n',\n",
    "      'valid set:',len(valid),'개\\n',\n",
    "      'test set',len(test),'개')\n",
    "\n",
    "# X와 Y분리\n",
    "\n",
    "trainX,trainY = train.drop(['일시','Y'],axis=1), train['Y']\n",
    "validX,validY = valid.drop(['일시','Y'],axis=1), valid['Y']\n",
    "testX,testY = test.drop(['일시','Y'],axis=1), test['Y']"
   ]
  },
  {
   "cell_type": "code",
   "execution_count": 40,
   "metadata": {},
   "outputs": [
    {
     "data": {
      "text/plain": [
       "Index(['평균기온(°C)', '최저기온(°C)', '최고기온(°C)', '1시간 최다강수량(mm)', '일강수량(mm)',\n",
       "       '최대 순간 풍속(m/s)', '최대 순간 풍속 풍향(16방위)', '최대 풍속(m/s)', '최대 풍속 풍향(16방위)',\n",
       "       '평균 풍속(m/s)', '풍정합(100m)', '최다풍향(16방위)', '평균 이슬점온도(°C)', '최소 상대습도(%)',\n",
       "       '평균 상대습도(%)', '평균 증기압(hPa)', '평균 현지기압(hPa)', '최고 해면기압(hPa)',\n",
       "       '최저 해면기압(hPa)', '평균 해면기압(hPa)', '가조시간(hr)', '합계 일조시간(hr)',\n",
       "       '1시간 최다일사량(MJ/m2)', '합계 일사량(MJ/m2)', '일 최심신적설(cm)', '일 최심적설(cm)',\n",
       "       '합계 3시간 신적설(cm)', '평균 전운량(1/10)', '평균 중하층운량(1/10)', '평균 지면온도(°C)',\n",
       "       '최저 초상온도(°C)', '평균 5cm 지중온도(°C)', '평균 10cm 지중온도(°C)',\n",
       "       '평균 20cm 지중온도(°C)', '평균 30cm 지중온도(°C)', '0.5m 지중온도(°C)',\n",
       "       '1.0m 지중온도(°C)', '1.5m 지중온도(°C)', '3.0m 지중온도(°C)', '5.0m 지중온도(°C)',\n",
       "       '합계 대형증발량(mm)', '합계 소형증발량(mm)', '9-9강수(mm)', '안개 계속시간(hr)'],\n",
       "      dtype='object')"
      ]
     },
     "execution_count": 40,
     "metadata": {},
     "output_type": "execute_result"
    }
   ],
   "source": [
    "trainX.columns"
   ]
  },
  {
   "cell_type": "markdown",
   "metadata": {},
   "source": [
    "1) 스케일링 진행x  \n",
    "2) 스케일링 진행o  \n",
    "참고하자 : https://homeproject.tistory.com/entry/%EB%8D%B0%EC%9D%B4%ED%84%B0-%EC%8A%A4%EC%BC%80%EC%9D%BC%EB%A7%81-Data-Scaling  \n",
    "\n",
    "먼저 스케일링없이 진행  \n",
    "바로 모델 설계로 넘어간다  \n",
    "텐서플로우, 케라스를 사용해서 모델을 구현한다  \n",
    "- 프레임워크 선택  \n",
    "1) 케라스  \n",
    "2) 텐서플로우  \n",
    "\n",
    "- 모델 유형 선택  \n",
    "1) DNN  \n",
    "2) CNN  \n",
    "3) RNN  \n",
    "4) LSTM  "
   ]
  },
  {
   "cell_type": "code",
   "execution_count": 41,
   "metadata": {},
   "outputs": [
    {
     "name": "stderr",
     "output_type": "stream",
     "text": [
      "Using TensorFlow backend.\n"
     ]
    }
   ],
   "source": [
    "import tensorflow as tf\n",
    "from tensorflow import keras\n",
    "from tensorflow.keras import layers\n",
    "from keras.callbacks import ModelCheckpoint, EarlyStopping, ReduceLROnPlateau"
   ]
  },
  {
   "cell_type": "code",
   "execution_count": 44,
   "metadata": {},
   "outputs": [
    {
     "name": "stdout",
     "output_type": "stream",
     "text": [
      "Model: \"model_1\"\n",
      "_________________________________________________________________\n",
      "Layer (type)                 Output Shape              Param #   \n",
      "=================================================================\n",
      "input_2 (InputLayer)         [(None, 44)]              0         \n",
      "_________________________________________________________________\n",
      "dense_5 (Dense)              (None, 50)                2250      \n",
      "_________________________________________________________________\n",
      "dense_6 (Dense)              (None, 50)                2550      \n",
      "_________________________________________________________________\n",
      "dense_7 (Dense)              (None, 50)                2550      \n",
      "_________________________________________________________________\n",
      "dense_8 (Dense)              (None, 50)                2550      \n",
      "_________________________________________________________________\n",
      "dense_9 (Dense)              (None, 1)                 51        \n",
      "=================================================================\n",
      "Total params: 9,951\n",
      "Trainable params: 9,951\n",
      "Non-trainable params: 0\n",
      "_________________________________________________________________\n"
     ]
    }
   ],
   "source": [
    "inputs_1 = tf.keras.Input(shape=44)\n",
    "dense = tf.keras.layers.Dense(50)(inputs_1)\n",
    "dense = tf.keras.layers.Dense(50)(dense)\n",
    "dense = tf.keras.layers.Dense(50)(dense)\n",
    "dense = tf.keras.layers.Dense(50)(dense)\n",
    "output = tf.keras.layers.Dense(1)(dense)\n",
    "\n",
    "model = tf.keras.Model(inputs=[inputs_1], outputs=output)\n",
    "\n",
    "optimizer = tf.keras.optimizers.Adam(lr = 0.001)\n",
    "\n",
    "model.compile(loss='mse', optimizer=optimizer)\n",
    "model.summary()"
   ]
  },
  {
   "cell_type": "code",
   "execution_count": 45,
   "metadata": {
    "scrolled": true
   },
   "outputs": [
    {
     "name": "stdout",
     "output_type": "stream",
     "text": [
      "Train on 4749 samples, validate on 1461 samples\n",
      "Epoch 1/200\n",
      "4736/4749 [============================>.] - ETA: 0s - loss: 434.8401\n",
      "Epoch 00001: val_loss improved from inf to 73.02868, saving model to checkpoint.keras\n",
      "4749/4749 [==============================] - 5s 1ms/sample - loss: 433.8448 - val_loss: 73.0287\n",
      "Epoch 2/200\n",
      "4694/4749 [============================>.] - ETA: 0s - loss: 41.9409\n",
      "Epoch 00002: val_loss improved from 73.02868 to 9.34626, saving model to checkpoint.keras\n",
      "4749/4749 [==============================] - 5s 999us/sample - loss: 41.6423 - val_loss: 9.3463\n",
      "Epoch 3/200\n",
      "4680/4749 [============================>.] - ETA: 0s - loss: 16.4975\n",
      "Epoch 00003: val_loss did not improve from 9.34626\n",
      "4749/4749 [==============================] - 4s 865us/sample - loss: 16.3930 - val_loss: 10.5608\n",
      "Epoch 4/200\n",
      "4694/4749 [============================>.] - ETA: 0s - loss: 26.3035\n",
      "Epoch 00004: val_loss improved from 9.34626 to 6.41527, saving model to checkpoint.keras\n",
      "\n",
      "Epoch 00004: ReduceLROnPlateau reducing learning rate to 0.00010000000474974513.\n",
      "4749/4749 [==============================] - 5s 964us/sample - loss: 26.0606 - val_loss: 6.4153\n",
      "Epoch 5/200\n",
      "4687/4749 [============================>.] - ETA: 0s - loss: 5.4794\n",
      "Epoch 00005: val_loss improved from 6.41527 to 6.13913, saving model to checkpoint.keras\n",
      "4749/4749 [==============================] - 4s 910us/sample - loss: 5.4759 - val_loss: 6.1391\n",
      "Epoch 6/200\n",
      "4691/4749 [============================>.] - ETA: 0s - loss: 5.7006\n",
      "Epoch 00006: val_loss improved from 6.13913 to 5.58260, saving model to checkpoint.keras\n",
      "\n",
      "Epoch 00006: ReduceLROnPlateau reducing learning rate to 1.0000000474974514e-05.\n",
      "4749/4749 [==============================] - 5s 1ms/sample - loss: 5.6834 - val_loss: 5.5826\n",
      "Epoch 7/200\n",
      "4701/4749 [============================>.] - ETA: 0s - loss: 4.9137\n",
      "Epoch 00007: val_loss improved from 5.58260 to 5.03070, saving model to checkpoint.keras\n",
      "4749/4749 [==============================] - 4s 946us/sample - loss: 4.9202 - val_loss: 5.0307\n",
      "Epoch 8/200\n",
      "4721/4749 [============================>.] - ETA: 0s - loss: 4.9209\n",
      "Epoch 00008: val_loss improved from 5.03070 to 4.74448, saving model to checkpoint.keras\n",
      "4749/4749 [==============================] - 5s 1ms/sample - loss: 4.9099 - val_loss: 4.7445\n",
      "Epoch 9/200\n",
      "4719/4749 [============================>.] - ETA: 0s - loss: 4.9111\n",
      "Epoch 00009: val_loss did not improve from 4.74448\n",
      "4749/4749 [==============================] - 5s 1ms/sample - loss: 4.9024 - val_loss: 4.9425\n",
      "Epoch 10/200\n",
      "4716/4749 [============================>.] - ETA: 0s - loss: 4.8813\n",
      "Epoch 00010: val_loss did not improve from 4.74448\n",
      "4749/4749 [==============================] - 5s 1ms/sample - loss: 4.8932 - val_loss: 4.7964\n",
      "Epoch 11/200\n",
      "4747/4749 [============================>.] - ETA: 0s - loss: 4.8758\n",
      "Epoch 00011: val_loss did not improve from 4.74448\n",
      "4749/4749 [==============================] - 6s 1ms/sample - loss: 4.8775 - val_loss: 4.7763\n",
      "Epoch 12/200\n",
      "4707/4749 [============================>.] - ETA: 0s - loss: 4.8817\n",
      "Epoch 00012: val_loss improved from 4.74448 to 4.71974, saving model to checkpoint.keras\n",
      "4749/4749 [==============================] - 6s 1ms/sample - loss: 4.8729 - val_loss: 4.7197\n",
      "Epoch 13/200\n",
      "4722/4749 [============================>.] - ETA: 0s - loss: 4.8908\n",
      "Epoch 00013: val_loss did not improve from 4.71974\n",
      "\n",
      "Epoch 00013: ReduceLROnPlateau reducing learning rate to 1.0000000656873453e-06.\n",
      "4749/4749 [==============================] - 6s 1ms/sample - loss: 4.8801 - val_loss: 4.7263\n",
      "Epoch 14/200\n",
      "4701/4749 [============================>.] - ETA: 0s - loss: 4.8088\n",
      "Epoch 00014: val_loss did not improve from 4.71974\n",
      "4749/4749 [==============================] - 6s 1ms/sample - loss: 4.7859 - val_loss: 4.7608\n",
      "Epoch 15/200\n",
      "4709/4749 [============================>.] - ETA: 0s - loss: 4.7861\n",
      "Epoch 00015: val_loss did not improve from 4.71974\n",
      "4749/4749 [==============================] - 6s 1ms/sample - loss: 4.7787 - val_loss: 4.7397\n",
      "Epoch 16/200\n",
      "4705/4749 [============================>.] - ETA: 0s - loss: 4.7705\n",
      "Epoch 00016: val_loss did not improve from 4.71974\n",
      "4749/4749 [==============================] - 6s 1ms/sample - loss: 4.7718 - val_loss: 4.7204\n",
      "Epoch 17/200\n",
      "4704/4749 [============================>.] - ETA: 0s - loss: 4.7504\n",
      "Epoch 00017: val_loss did not improve from 4.71974\n",
      "\n",
      "Epoch 00017: ReduceLROnPlateau reducing learning rate to 1.0000001111620805e-07.\n",
      "4749/4749 [==============================] - 6s 1ms/sample - loss: 4.7750 - val_loss: 4.7688\n",
      "Epoch 18/200\n",
      "4730/4749 [============================>.] - ETA: 0s - loss: 4.7750\n",
      "Epoch 00018: val_loss did not improve from 4.71974\n",
      "4749/4749 [==============================] - 6s 1ms/sample - loss: 4.7656 - val_loss: 4.7344\n",
      "Epoch 19/200\n",
      "4712/4749 [============================>.] - ETA: 0s - loss: 4.7730\n",
      "Epoch 00019: val_loss did not improve from 4.71974\n",
      "4749/4749 [==============================] - 6s 1ms/sample - loss: 4.7635 - val_loss: 4.7281\n",
      "Epoch 20/200\n",
      "4722/4749 [============================>.] - ETA: 0s - loss: 4.7636\n",
      "Epoch 00020: val_loss did not improve from 4.71974\n",
      "4749/4749 [==============================] - 6s 1ms/sample - loss: 4.7632 - val_loss: 4.7317\n",
      "Epoch 21/200\n",
      "4705/4749 [============================>.] - ETA: 0s - loss: 4.7655\n",
      "Epoch 00021: val_loss did not improve from 4.71974\n",
      "4749/4749 [==============================] - 6s 1ms/sample - loss: 4.7629 - val_loss: 4.7302\n",
      "Epoch 22/200\n",
      "4741/4749 [============================>.] - ETA: 0s - loss: 4.7686\n",
      "Epoch 00022: val_loss did not improve from 4.71974\n",
      "4749/4749 [==============================] - 6s 1ms/sample - loss: 4.7628 - val_loss: 4.7306\n"
     ]
    },
    {
     "data": {
      "image/png": "[encoded data removed]",
      "text/plain": [
       "<Figure size 432x288 with 1 Axes>"
      ]
     },
     "metadata": {
      "needs_background": "light"
     },
     "output_type": "display_data"
    }
   ],
   "source": [
    "path_checkpoint = 'checkpoint.keras'\n",
    "callback_checkpoint = ModelCheckpoint(filepath=path_checkpoint,\n",
    "                                      monitor='val_loss',\n",
    "                                      verbose=1,\n",
    "                                      save_weights_only=True,\n",
    "                                      save_best_only=True)\n",
    "\n",
    "callback_early_stopping = EarlyStopping(monitor='val_loss', patience=10,verbose=0)\n",
    "\n",
    "\n",
    "callback_reduce_lr = ReduceLROnPlateau(monitor='loss',\n",
    "                                       factor=0.1,\n",
    "                                       patience=1,\n",
    "                                       verbose=1)\n",
    "\n",
    "callbacks = [callback_early_stopping,\n",
    "             callback_checkpoint,\n",
    "             callback_reduce_lr]\n",
    "hist = model.fit(trainX,trainY, validation_data=(validX, validY), \n",
    "                 epochs = 200, batch_size=1, callbacks=callbacks, verbose=1)\n",
    "\n",
    "fig, loss_ax = plt.subplots()\n",
    "\n",
    "loss_ax.plot(hist.history['loss'], 'y', label='train loss')\n",
    "loss_ax.plot(hist.history['val_loss'], 'r', label='val loss')\n",
    "\n",
    "loss_ax.set_xlabel('epoch')\n",
    "loss_ax.set_ylabel('loss')\n",
    "\n",
    "loss_ax.legend(loc='upper left')\n",
    "\n",
    "plt.show()"
   ]
  },
  {
   "cell_type": "markdown",
   "metadata": {},
   "source": [
    "테스트 데이터를 이용하여 모델이 잘 학습되었는지 확인한다.  \n",
    "시계열 그래프 그려서 비교  \n",
    "RMSE 계산"
   ]
  },
  {
   "cell_type": "code",
   "execution_count": 66,
   "metadata": {},
   "outputs": [
    {
     "data": {
      "text/plain": [
       "'2017-01-01'"
      ]
     },
     "execution_count": 66,
     "metadata": {},
     "output_type": "execute_result"
    }
   ],
   "source": [
    "test['일시'].iloc[0]"
   ]
  },
  {
   "cell_type": "code",
   "execution_count": 73,
   "metadata": {},
   "outputs": [],
   "source": [
    "time = pd.to_datetime(test['일시'])"
   ]
  },
  {
   "cell_type": "code",
   "execution_count": 74,
   "metadata": {},
   "outputs": [
    {
     "data": {
      "text/plain": [
       "<matplotlib.legend.Legend at 0x7ff9cdd15790>"
      ]
     },
     "execution_count": 74,
     "metadata": {},
     "output_type": "execute_result"
    },
    {
     "data": {
      "image/png": "[encoded data removed]",
      "text/plain": [
       "<Figure size 1080x216 with 1 Axes>"
      ]
     },
     "metadata": {
      "needs_background": "light"
     },
     "output_type": "display_data"
    }
   ],
   "source": [
    "pred = model.predict(testX)\n",
    "plt.figure(figsize = (15,3))\n",
    "plt.plot(time,testY.reset_index()['Y'])\n",
    "plt.plot(time,pred)\n",
    "plt.ylabel('Temperature')\n",
    "plt.legend(['real','predict'])"
   ]
  },
  {
   "cell_type": "code",
   "execution_count": 47,
   "metadata": {},
   "outputs": [
    {
     "name": "stdout",
     "output_type": "stream",
     "text": [
      "RMSE =  2.1438\n"
     ]
    }
   ],
   "source": [
    "print('RMSE = ',round((((testY.values-[i[0] for i in pred])**2).sum()/len(pred))**0.5,4))"
   ]
  },
  {
   "cell_type": "markdown",
   "metadata": {},
   "source": [
    "학습한 모델을 활용할 수 있도록 저장한다  "
   ]
  },
  {
   "cell_type": "code",
   "execution_count": 48,
   "metadata": {},
   "outputs": [],
   "source": [
    "model.save('temp_1day_prediction.h5')"
   ]
  },
  {
   "cell_type": "code",
   "execution_count": null,
   "metadata": {},
   "outputs": [],
   "source": []
  }
 ],
 "metadata": {
  "kernelspec": {
   "display_name": "Python 3",
   "language": "python",
   "name": "python3"
  },
  "language_info": {
   "codemirror_mode": {
    "name": "ipython",
    "version": 3
   },
   "file_extension": ".py",
   "mimetype": "text/x-python",
   "name": "python",
   "nbconvert_exporter": "python",
   "pygments_lexer": "ipython3",
   "version": "3.7.6"
  }
 },
 "nbformat": 4,
 "nbformat_minor": 4
}
