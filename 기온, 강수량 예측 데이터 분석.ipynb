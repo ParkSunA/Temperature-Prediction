{
 "cells": [
  {
   "cell_type": "code",
   "execution_count": 56,
   "metadata": {},
   "outputs": [],
   "source": [
    "import pandas as pd\n",
    "import numpy as np\n",
    "import matplotlib.pyplot as plt\n",
    "import seaborn as sns\n",
    "import missingno as msno"
   ]
  },
  {
   "cell_type": "code",
   "execution_count": 57,
   "metadata": {},
   "outputs": [],
   "source": [
    "# 데이터 불러오기\n",
    "data = pd.read_csv('OBS_ASOS_DD_20210104225316.csv', encoding = 'cp949')  # 2020-01-01~2010-01-01\n",
    "data1 = pd.read_csv('OBS_ASOS_DD_20210104225407.csv', encoding = 'cp949') # 2010-01-02~2020-01-02\n",
    "data2 = pd.read_csv('OBS_ASOS_DD_20210104225442.csv', encoding = 'cp949') # 2020-01-03~2021-01-03\n",
    "\n",
    "data = pd.concat([data,data1,data2],axis=0)"
   ]
  },
  {
   "cell_type": "code",
   "execution_count": 58,
   "metadata": {},
   "outputs": [
    {
     "name": "stdout",
     "output_type": "stream",
     "text": [
      "데이터 개수 = 7674\n",
      "데이터 컬럼 개수 = 62\n"
     ]
    }
   ],
   "source": [
    "print('데이터 개수 =', len(data))\n",
    "print('데이터 컬럼 개수 =', len(data.columns))"
   ]
  },
  {
   "cell_type": "code",
   "execution_count": 59,
   "metadata": {},
   "outputs": [
    {
     "data": {
      "text/plain": [
       "Index(['지점', '지점명', '일시', '평균기온(°C)', '최저기온(°C)', '최저기온 시각(hhmi)', '최고기온(°C)',\n",
       "       '최고기온 시각(hhmi)', '강수 계속시간(hr)', '10분 최다 강수량(mm)', '10분 최다강수량 시각(hhmi)',\n",
       "       '1시간 최다강수량(mm)', '1시간 최다 강수량 시각(hhmi)', '일강수량(mm)', '최대 순간 풍속(m/s)',\n",
       "       '최대 순간 풍속 풍향(16방위)', '최대 순간풍속 시각(hhmi)', '최대 풍속(m/s)', '최대 풍속 풍향(16방위)',\n",
       "       '최대 풍속 시각(hhmi)', '평균 풍속(m/s)', '풍정합(100m)', '최다풍향(16방위)',\n",
       "       '평균 이슬점온도(°C)', '최소 상대습도(%)', '최소 상대습도 시각(hhmi)', '평균 상대습도(%)',\n",
       "       '평균 증기압(hPa)', '평균 현지기압(hPa)', '최고 해면기압(hPa)', '최고 해면기압 시각(hhmi)',\n",
       "       '최저 해면기압(hPa)', '최저 해면기압 시각(hhmi)', '평균 해면기압(hPa)', '가조시간(hr)',\n",
       "       '합계 일조시간(hr)', '1시간 최다일사 시각(hhmi)', '1시간 최다일사량(MJ/m2)', '합계 일사량(MJ/m2)',\n",
       "       '일 최심신적설(cm)', '일 최심신적설 시각(hhmi)', '일 최심적설(cm)', '일 최심적설 시각(hhmi)',\n",
       "       '합계 3시간 신적설(cm)', '평균 전운량(1/10)', '평균 중하층운량(1/10)', '평균 지면온도(°C)',\n",
       "       '최저 초상온도(°C)', '평균 5cm 지중온도(°C)', '평균 10cm 지중온도(°C)',\n",
       "       '평균 20cm 지중온도(°C)', '평균 30cm 지중온도(°C)', '0.5m 지중온도(°C)',\n",
       "       '1.0m 지중온도(°C)', '1.5m 지중온도(°C)', '3.0m 지중온도(°C)', '5.0m 지중온도(°C)',\n",
       "       '합계 대형증발량(mm)', '합계 소형증발량(mm)', '9-9강수(mm)', '기사', '안개 계속시간(hr)'],\n",
       "      dtype='object')"
      ]
     },
     "execution_count": 59,
     "metadata": {},
     "output_type": "execute_result"
    }
   ],
   "source": [
    "data.columns"
   ]
  },
  {
   "cell_type": "markdown",
   "metadata": {},
   "source": [
    "62개의 데이터 컬럼명을 확인해 보았다.  \n",
    "이 많은 변수들을 우리가 사용할 수 있는지 데이터 품질을 살펴보려고 한다."
   ]
  },
  {
   "cell_type": "code",
   "execution_count": 60,
   "metadata": {},
   "outputs": [
    {
     "name": "stdout",
     "output_type": "stream",
     "text": [
      "최고기온(°C) 1\n",
      "최고기온 시각(hhmi) 1\n",
      "강수 계속시간(hr) 4710\n",
      "10분 최다 강수량(mm) 5781\n",
      "10분 최다강수량 시각(hhmi) 6288\n",
      "1시간 최다강수량(mm) 5781\n",
      "1시간 최다 강수량 시각(hhmi) 6277\n",
      "일강수량(mm) 4709\n",
      "최대 순간 풍속(m/s) 2\n",
      "최대 순간 풍속 풍향(16방위) 2\n",
      "최대 순간풍속 시각(hhmi) 2\n",
      "최대 풍속(m/s) 2\n",
      "최대 풍속 풍향(16방위) 2\n",
      "최대 풍속 시각(hhmi) 2\n",
      "평균 풍속(m/s) 3\n",
      "풍정합(100m) 3\n",
      "최다풍향(16방위) 5\n",
      "최소 상대습도(%) 1\n",
      "최소 상대습도 시각(hhmi) 1\n",
      "평균 현지기압(hPa) 1\n",
      "최고 해면기압(hPa) 1\n",
      "최고 해면기압 시각(hhmi) 1\n",
      "최저 해면기압(hPa) 2\n",
      "최저 해면기압 시각(hhmi) 2\n",
      "평균 해면기압(hPa) 1\n",
      "합계 일조시간(hr) 12\n",
      "1시간 최다일사 시각(hhmi) 24\n",
      "1시간 최다일사량(MJ/m2) 23\n",
      "합계 일사량(MJ/m2) 26\n",
      "일 최심신적설(cm) 7412\n",
      "일 최심신적설 시각(hhmi) 7419\n",
      "일 최심적설(cm) 7155\n",
      "일 최심적설 시각(hhmi) 7160\n",
      "합계 3시간 신적설(cm) 7412\n",
      "평균 중하층운량(1/10) 21\n",
      "평균 지면온도(°C) 1\n",
      "최저 초상온도(°C) 3\n",
      "평균 5cm 지중온도(°C) 9\n",
      "평균 10cm 지중온도(°C) 9\n",
      "평균 20cm 지중온도(°C) 10\n",
      "평균 30cm 지중온도(°C) 28\n",
      "0.5m 지중온도(°C) 8\n",
      "1.0m 지중온도(°C) 8\n",
      "1.5m 지중온도(°C) 9\n",
      "3.0m 지중온도(°C) 11\n",
      "5.0m 지중온도(°C) 6\n",
      "합계 대형증발량(mm) 2491\n",
      "합계 소형증발량(mm) 6\n",
      "9-9강수(mm) 4678\n",
      "기사 2118\n",
      "안개 계속시간(hr) 7512\n"
     ]
    }
   ],
   "source": [
    "# 결측이 있는 변수만 출력\n",
    "for i,j in zip(data.columns,data.isna().sum()):\n",
    "    if j>0:\n",
    "        print(i,j)"
   ]
  },
  {
   "cell_type": "code",
   "execution_count": 61,
   "metadata": {
    "scrolled": true
   },
   "outputs": [
    {
     "name": "stdout",
     "output_type": "stream",
     "text": [
      "강수 계속시간(hr) 0.6137607505863957\n",
      "10분 최다 강수량(mm) 0.753322908522283\n",
      "10분 최다강수량 시각(hhmi) 0.8193901485535575\n",
      "1시간 최다강수량(mm) 0.753322908522283\n",
      "1시간 최다 강수량 시각(hhmi) 0.8179567370341413\n",
      "일강수량(mm) 0.6136304404482669\n",
      "일 최심신적설(cm) 0.9658587438102685\n",
      "일 최심신적설 시각(hhmi) 0.9667709147771697\n",
      "일 최심적설(cm) 0.9323690383111806\n",
      "일 최심적설 시각(hhmi) 0.9330205890018244\n",
      "합계 3시간 신적설(cm) 0.9658587438102685\n",
      "9-9강수(mm) 0.6095908261662757\n",
      "안개 계속시간(hr) 0.9788897576231431\n"
     ]
    }
   ],
   "source": [
    "# 결측비율이 높은 변수 출력\n",
    "for i,j in zip(data.columns,data.isna().sum()/len(data)):\n",
    "    if j>0.5:\n",
    "        print(i,j)"
   ]
  },
  {
   "cell_type": "markdown",
   "metadata": {},
   "source": [
    "업무를 통해 ASOS데이터를 다룬 적이 있어 강수와 적설량의 결측원인을 알고 있다  \n",
    "강수, 적설량이 0인 경우 결측으로 표시된다\n",
    "따라서 강수와 적설의 결측은 0으로 채우면 된다.\n",
    "\n",
    "안개 계속시간도 같은 이유일 것으로 추측된다.\n",
    "따라서 안개 계속시간의 결측도 0으로 채운다."
   ]
  },
  {
   "cell_type": "code",
   "execution_count": 62,
   "metadata": {},
   "outputs": [],
   "source": [
    "rain_col = [i for i in data.columns if '강수' in i]\n",
    "snow_col = [i for i in data.columns if '적설' in i]\n",
    "\n",
    "data[rain_col+snow_col] = data[rain_col+snow_col].fillna(0)\n",
    "data['안개 계속시간(hr)'] = data['안개 계속시간(hr)'].fillna(0)"
   ]
  },
  {
   "cell_type": "markdown",
   "metadata": {},
   "source": [
    "강수와 적설, 안개 계속시간의 결측을 0으로 채우고 난 후 다시 결측이 있는 변수를 출력해보면 다음과 같이 나온다.\n",
    "나머지 결측은 시계열 그래프 확인 후 채우도록 한다."
   ]
  },
  {
   "cell_type": "code",
   "execution_count": 63,
   "metadata": {},
   "outputs": [
    {
     "name": "stdout",
     "output_type": "stream",
     "text": [
      "최고기온(°C) 1\n",
      "최고기온 시각(hhmi) 1\n",
      "최대 순간 풍속(m/s) 2\n",
      "최대 순간 풍속 풍향(16방위) 2\n",
      "최대 순간풍속 시각(hhmi) 2\n",
      "최대 풍속(m/s) 2\n",
      "최대 풍속 풍향(16방위) 2\n",
      "최대 풍속 시각(hhmi) 2\n",
      "평균 풍속(m/s) 3\n",
      "풍정합(100m) 3\n",
      "최다풍향(16방위) 5\n",
      "최소 상대습도(%) 1\n",
      "최소 상대습도 시각(hhmi) 1\n",
      "평균 현지기압(hPa) 1\n",
      "최고 해면기압(hPa) 1\n",
      "최고 해면기압 시각(hhmi) 1\n",
      "최저 해면기압(hPa) 2\n",
      "최저 해면기압 시각(hhmi) 2\n",
      "평균 해면기압(hPa) 1\n",
      "합계 일조시간(hr) 12\n",
      "1시간 최다일사 시각(hhmi) 24\n",
      "1시간 최다일사량(MJ/m2) 23\n",
      "합계 일사량(MJ/m2) 26\n",
      "평균 중하층운량(1/10) 21\n",
      "평균 지면온도(°C) 1\n",
      "최저 초상온도(°C) 3\n",
      "평균 5cm 지중온도(°C) 9\n",
      "평균 10cm 지중온도(°C) 9\n",
      "평균 20cm 지중온도(°C) 10\n",
      "평균 30cm 지중온도(°C) 28\n",
      "0.5m 지중온도(°C) 8\n",
      "1.0m 지중온도(°C) 8\n",
      "1.5m 지중온도(°C) 9\n",
      "3.0m 지중온도(°C) 11\n",
      "5.0m 지중온도(°C) 6\n",
      "합계 대형증발량(mm) 2491\n",
      "합계 소형증발량(mm) 6\n",
      "기사 2118\n"
     ]
    }
   ],
   "source": [
    "# 결측이 있는 변수만 출력\n",
    "for i,j in zip(data.columns,data.isna().sum()):\n",
    "    if j>0:\n",
    "        print(i,j)"
   ]
  },
  {
   "cell_type": "markdown",
   "metadata": {},
   "source": [
    "이렇게 데이터프레임을 열어보면 특이한 컬럼이 있다.  \n",
    "'기사'라는 컬럼인데 이 컬럼은 단순히 수치로 기록되어 있지 않고 글자가 섞여 있다.  \n",
    "이 컬럼은 제외하고 분석에 들어가겠다  \n",
    "최저기온 시각, 최고기온 시각 등 최저기온이 측정된 시각, 각 특정 데이터가 측정된 시각들도 변수로 포함되어 있다.  \n",
    "이런 변수들은 기온, 강수량 예측과 상관관계가 낮을 것이라 생각이 들어 제외하고 분석에 들어가겠다.  "
   ]
  },
  {
   "cell_type": "code",
   "execution_count": 64,
   "metadata": {},
   "outputs": [
    {
     "name": "stdout",
     "output_type": "stream",
     "text": [
      "['최저기온 시각(hhmi)', '최고기온 시각(hhmi)', '10분 최다강수량 시각(hhmi)', '1시간 최다 강수량 시각(hhmi)', '최대 순간풍속 시각(hhmi)', '최대 풍속 시각(hhmi)', '최소 상대습도 시각(hhmi)', '최고 해면기압 시각(hhmi)', '최저 해면기압 시각(hhmi)', '1시간 최다일사 시각(hhmi)', '일 최심신적설 시각(hhmi)', '일 최심적설 시각(hhmi)']\n"
     ]
    }
   ],
   "source": [
    "del data['기사']\n",
    "\n",
    "time_col=[i for i in data.columns if '시각' in i]\n",
    "print(time_col)"
   ]
  },
  {
   "cell_type": "code",
   "execution_count": 65,
   "metadata": {},
   "outputs": [],
   "source": [
    "data = data.drop(time_col, axis=1)"
   ]
  },
  {
   "cell_type": "code",
   "execution_count": 68,
   "metadata": {
    "scrolled": false
   },
   "outputs": [
    {
     "data": {
      "text/html": [
       "<div>\n",
       "<style scoped>\n",
       "    .dataframe tbody tr th:only-of-type {\n",
       "        vertical-align: middle;\n",
       "    }\n",
       "\n",
       "    .dataframe tbody tr th {\n",
       "        vertical-align: top;\n",
       "    }\n",
       "\n",
       "    .dataframe thead th {\n",
       "        text-align: right;\n",
       "    }\n",
       "</style>\n",
       "<table border=\"1\" class=\"dataframe\">\n",
       "  <thead>\n",
       "    <tr style=\"text-align: right;\">\n",
       "      <th></th>\n",
       "      <th>지점</th>\n",
       "      <th>지점명</th>\n",
       "      <th>일시</th>\n",
       "      <th>평균기온(°C)</th>\n",
       "      <th>최저기온(°C)</th>\n",
       "      <th>최고기온(°C)</th>\n",
       "      <th>강수 계속시간(hr)</th>\n",
       "      <th>10분 최다 강수량(mm)</th>\n",
       "      <th>1시간 최다강수량(mm)</th>\n",
       "      <th>일강수량(mm)</th>\n",
       "      <th>...</th>\n",
       "      <th>평균 30cm 지중온도(°C)</th>\n",
       "      <th>0.5m 지중온도(°C)</th>\n",
       "      <th>1.0m 지중온도(°C)</th>\n",
       "      <th>1.5m 지중온도(°C)</th>\n",
       "      <th>3.0m 지중온도(°C)</th>\n",
       "      <th>5.0m 지중온도(°C)</th>\n",
       "      <th>합계 대형증발량(mm)</th>\n",
       "      <th>합계 소형증발량(mm)</th>\n",
       "      <th>9-9강수(mm)</th>\n",
       "      <th>안개 계속시간(hr)</th>\n",
       "    </tr>\n",
       "  </thead>\n",
       "  <tbody>\n",
       "    <tr>\n",
       "      <th>0</th>\n",
       "      <td>108</td>\n",
       "      <td>서울</td>\n",
       "      <td>2000-01-01</td>\n",
       "      <td>5.5</td>\n",
       "      <td>1.8</td>\n",
       "      <td>9.9</td>\n",
       "      <td>0.00</td>\n",
       "      <td>0.0</td>\n",
       "      <td>0.0</td>\n",
       "      <td>0.0</td>\n",
       "      <td>...</td>\n",
       "      <td>1.3</td>\n",
       "      <td>3.5</td>\n",
       "      <td>6.7</td>\n",
       "      <td>10.0</td>\n",
       "      <td>14.6</td>\n",
       "      <td>17.5</td>\n",
       "      <td>NaN</td>\n",
       "      <td>0.9</td>\n",
       "      <td>4.0</td>\n",
       "      <td>0.0</td>\n",
       "    </tr>\n",
       "    <tr>\n",
       "      <th>1</th>\n",
       "      <td>108</td>\n",
       "      <td>서울</td>\n",
       "      <td>2000-01-02</td>\n",
       "      <td>4.2</td>\n",
       "      <td>-0.9</td>\n",
       "      <td>6.9</td>\n",
       "      <td>6.83</td>\n",
       "      <td>0.0</td>\n",
       "      <td>0.0</td>\n",
       "      <td>6.0</td>\n",
       "      <td>...</td>\n",
       "      <td>1.4</td>\n",
       "      <td>3.6</td>\n",
       "      <td>6.7</td>\n",
       "      <td>9.7</td>\n",
       "      <td>14.5</td>\n",
       "      <td>17.5</td>\n",
       "      <td>NaN</td>\n",
       "      <td>0.8</td>\n",
       "      <td>2.0</td>\n",
       "      <td>0.0</td>\n",
       "    </tr>\n",
       "    <tr>\n",
       "      <th>2</th>\n",
       "      <td>108</td>\n",
       "      <td>서울</td>\n",
       "      <td>2000-01-03</td>\n",
       "      <td>-2.2</td>\n",
       "      <td>-4.6</td>\n",
       "      <td>0.1</td>\n",
       "      <td>0.00</td>\n",
       "      <td>0.0</td>\n",
       "      <td>0.0</td>\n",
       "      <td>0.0</td>\n",
       "      <td>...</td>\n",
       "      <td>1.3</td>\n",
       "      <td>3.3</td>\n",
       "      <td>6.2</td>\n",
       "      <td>9.5</td>\n",
       "      <td>14.5</td>\n",
       "      <td>17.8</td>\n",
       "      <td>NaN</td>\n",
       "      <td>0.8</td>\n",
       "      <td>0.0</td>\n",
       "      <td>0.0</td>\n",
       "    </tr>\n",
       "    <tr>\n",
       "      <th>3</th>\n",
       "      <td>108</td>\n",
       "      <td>서울</td>\n",
       "      <td>2000-01-04</td>\n",
       "      <td>0.3</td>\n",
       "      <td>-4.3</td>\n",
       "      <td>4.3</td>\n",
       "      <td>0.00</td>\n",
       "      <td>0.0</td>\n",
       "      <td>0.0</td>\n",
       "      <td>0.0</td>\n",
       "      <td>...</td>\n",
       "      <td>1.3</td>\n",
       "      <td>3.3</td>\n",
       "      <td>6.3</td>\n",
       "      <td>9.5</td>\n",
       "      <td>14.5</td>\n",
       "      <td>17.3</td>\n",
       "      <td>NaN</td>\n",
       "      <td>0.7</td>\n",
       "      <td>3.7</td>\n",
       "      <td>0.0</td>\n",
       "    </tr>\n",
       "    <tr>\n",
       "      <th>4</th>\n",
       "      <td>108</td>\n",
       "      <td>서울</td>\n",
       "      <td>2000-01-05</td>\n",
       "      <td>2.8</td>\n",
       "      <td>0.1</td>\n",
       "      <td>4.6</td>\n",
       "      <td>13.90</td>\n",
       "      <td>0.0</td>\n",
       "      <td>0.0</td>\n",
       "      <td>18.4</td>\n",
       "      <td>...</td>\n",
       "      <td>1.3</td>\n",
       "      <td>3.3</td>\n",
       "      <td>6.0</td>\n",
       "      <td>9.5</td>\n",
       "      <td>14.5</td>\n",
       "      <td>17.5</td>\n",
       "      <td>NaN</td>\n",
       "      <td>1.7</td>\n",
       "      <td>24.5</td>\n",
       "      <td>0.0</td>\n",
       "    </tr>\n",
       "  </tbody>\n",
       "</table>\n",
       "<p>5 rows × 49 columns</p>\n",
       "</div>"
      ],
      "text/plain": [
       "    지점 지점명          일시  평균기온(°C)  최저기온(°C)  최고기온(°C)  강수 계속시간(hr)  \\\n",
       "0  108  서울  2000-01-01       5.5       1.8       9.9         0.00   \n",
       "1  108  서울  2000-01-02       4.2      -0.9       6.9         6.83   \n",
       "2  108  서울  2000-01-03      -2.2      -4.6       0.1         0.00   \n",
       "3  108  서울  2000-01-04       0.3      -4.3       4.3         0.00   \n",
       "4  108  서울  2000-01-05       2.8       0.1       4.6        13.90   \n",
       "\n",
       "   10분 최다 강수량(mm)  1시간 최다강수량(mm)  일강수량(mm)  ...  평균 30cm 지중온도(°C)  \\\n",
       "0             0.0            0.0       0.0  ...               1.3   \n",
       "1             0.0            0.0       6.0  ...               1.4   \n",
       "2             0.0            0.0       0.0  ...               1.3   \n",
       "3             0.0            0.0       0.0  ...               1.3   \n",
       "4             0.0            0.0      18.4  ...               1.3   \n",
       "\n",
       "   0.5m 지중온도(°C)  1.0m 지중온도(°C)  1.5m 지중온도(°C)  3.0m 지중온도(°C)  5.0m 지중온도(°C)  \\\n",
       "0            3.5            6.7           10.0           14.6           17.5   \n",
       "1            3.6            6.7            9.7           14.5           17.5   \n",
       "2            3.3            6.2            9.5           14.5           17.8   \n",
       "3            3.3            6.3            9.5           14.5           17.3   \n",
       "4            3.3            6.0            9.5           14.5           17.5   \n",
       "\n",
       "   합계 대형증발량(mm)  합계 소형증발량(mm)  9-9강수(mm)  안개 계속시간(hr)  \n",
       "0           NaN           0.9        4.0          0.0  \n",
       "1           NaN           0.8        2.0          0.0  \n",
       "2           NaN           0.8        0.0          0.0  \n",
       "3           NaN           0.7        3.7          0.0  \n",
       "4           NaN           1.7       24.5          0.0  \n",
       "\n",
       "[5 rows x 49 columns]"
      ]
     },
     "execution_count": 68,
     "metadata": {},
     "output_type": "execute_result"
    }
   ],
   "source": [
    "data.head()"
   ]
  },
  {
   "cell_type": "markdown",
   "metadata": {},
   "source": [
    "현재 서울 데이터만 분석하고 있으므로 지점과 지점명 또한 제거한다.  "
   ]
  },
  {
   "cell_type": "code",
   "execution_count": 69,
   "metadata": {},
   "outputs": [],
   "source": [
    "data = data.drop(['지점','지점명'], axis=1)"
   ]
  },
  {
   "cell_type": "raw",
   "metadata": {},
   "source": [
    "data.corr()"
   ]
  },
  {
   "cell_type": "code",
   "execution_count": null,
   "metadata": {},
   "outputs": [],
   "source": []
  }
 ],
 "metadata": {
  "kernelspec": {
   "display_name": "Python 3",
   "language": "python",
   "name": "python3"
  },
  "language_info": {
   "codemirror_mode": {
    "name": "ipython",
    "version": 3
   },
   "file_extension": ".py",
   "mimetype": "text/x-python",
   "name": "python",
   "nbconvert_exporter": "python",
   "pygments_lexer": "ipython3",
   "version": "3.7.6"
  }
 },
 "nbformat": 4,
 "nbformat_minor": 4
}
