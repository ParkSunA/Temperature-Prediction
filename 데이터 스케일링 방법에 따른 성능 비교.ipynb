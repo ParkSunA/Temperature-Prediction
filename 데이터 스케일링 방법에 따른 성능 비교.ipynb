{
 "cells": [
  {
   "cell_type": "markdown",
   "metadata": {},
   "source": [
    "모델 학습을 진행하기 전 데이터를 스케일링 하려고 한다.  \n",
    "https://mkjjo.github.io/python/2019/01/10/scaler.html  \n",
    "다음 페이지에서는 데이터 스케일링이 이런 이유로 인해 필요하다고 한다.  \n",
    "데이터를 모델링하기 전에는 반드시 스케일링 과정을 거쳐야 한다.  \n",
    "스케일링을 통해 다차원의 값들을 비교 분석하기 쉽게 만들어주며,  \n",
    "자료의 오버플로우(overflow)나 언더플로우(underflow)를 방지하고,  \n",
    "독립 변수의 공분산 행렬의 조건수(condition number)를 감소시켜 최적화 과정에서의 안정성 및 수렴 속도를 향상 시킨다.\"  \n",
    "그래서 스케일링의 종류에 대해 살펴보고 기온 예측에 사용되는 데이터에는 어떤 스케일링이 적절한지 모델 학습 결과로 찾아보겠다.  "
   ]
  },
  {
   "cell_type": "code",
   "execution_count": 13,
   "metadata": {},
   "outputs": [],
   "source": [
    "import pandas as pd\n",
    "import numpy as np\n",
    "import matplotlib.pyplot as plt"
   ]
  },
  {
   "cell_type": "code",
   "execution_count": 14,
   "metadata": {},
   "outputs": [],
   "source": [
    "# 데이터 불러오기\n",
    "data = pd.read_csv('OBS_ASOS_DD_20210104225316.csv', encoding = 'cp949')  # 2020-01-01~2010-01-01\n",
    "data1 = pd.read_csv('OBS_ASOS_DD_20210104225407.csv', encoding = 'cp949') # 2010-01-02~2020-01-02\n",
    "data2 = pd.read_csv('OBS_ASOS_DD_20210104225442.csv', encoding = 'cp949') # 2020-01-03~2021-01-03\n",
    "\n",
    "data = pd.concat([data,data1,data2],axis=0).reset_index().drop('index',axis=1)"
   ]
  },
  {
   "cell_type": "code",
   "execution_count": 10,
   "metadata": {},
   "outputs": [
    {
     "name": "stdout",
     "output_type": "stream",
     "text": [
      "결측치 개수 = 0\n"
     ]
    }
   ],
   "source": [
    "# 데이터 전처리  \n",
    "# 강수, 적설량과 관련된 변수는 0으로 결측 채우기  \n",
    "rain_col = [i for i in data.columns if '강수' in i]\n",
    "snow_col = [i for i in data.columns if '적설' in i]\n",
    "\n",
    "data[rain_col+snow_col] = data[rain_col+snow_col].fillna(0)\n",
    "\n",
    "data[['안개 계속시간(hr)','합계 대형증발량(mm)','합계 소형증발량(mm)']] = data[['안개 계속시간(hr)','합계 대형증발량(mm)','합계 소형증발량(mm)']].fillna(0)\n",
    "\n",
    "# 사용하지 않는 컬럼 버리기\n",
    "data = data.drop(['기사','강수 계속시간(hr)','10분 최다 강수량(mm)'],axis=1)\n",
    "\n",
    "time_col=[i for i in data.columns if '시각' in i]\n",
    "data = data.drop(time_col, axis=1)\n",
    "\n",
    "data = data.drop(['지점','지점명'], axis=1)\n",
    "\n",
    "# 시간 순서로 학습시키기 위해 시간 정렬\n",
    "data = data.sort_values('일시').interpolate(method='linear')\n",
    "\n",
    "# 보간 후 결측치 없음을 확인\n",
    "print('결측치 개수 =',data.isna().sum().sum())"
   ]
  },
  {
   "cell_type": "code",
   "execution_count": 11,
   "metadata": {},
   "outputs": [
    {
     "name": "stdout",
     "output_type": "stream",
     "text": [
      " train set: 4749 개\n",
      " valid set: 1461 개\n",
      " test set 1462 개\n"
     ]
    }
   ],
   "source": [
    "# 라벨값 설정\n",
    "data['Y'] = data['평균기온(°C)'].shift(-2)\n",
    "data = data.dropna()\n",
    "\n",
    "# train, valid, test dataset 분리\n",
    "train = data[data['일시']<'2013-01-01']\n",
    "valid = data[data['일시']>='2013-01-01']\n",
    "valid = valid[valid['일시']<'2017-01-01']\n",
    "test = data[data['일시']>='2017-01-01']\n",
    "print(' train set:',len(train),'개\\n',\n",
    "      'valid set:',len(valid),'개\\n',\n",
    "      'test set',len(test),'개')\n",
    "\n",
    "# X와 Y분리\n",
    "trainX,trainY = train.drop(['일시','Y'],axis=1), train['Y']\n",
    "validX,validY = valid.drop(['일시','Y'],axis=1), valid['Y']\n",
    "testX,testY = test.drop(['일시','Y'],axis=1), test['Y']"
   ]
  },
  {
   "cell_type": "markdown",
   "metadata": {},
   "source": [
    "#### 스케일링 대표적인 방법은 4가지가 있다.\n",
    "1. Standard scaler\n",
    "2. MinMax scaler\n",
    "3. MaxAbs scaler\n",
    "4. Robust scaler  \n",
    "Scikit-Learn의 패키지를 이용하여 적용해보려한다.  "
   ]
  },
  {
   "cell_type": "code",
   "execution_count": 15,
   "metadata": {},
   "outputs": [],
   "source": [
    "from sklearn.preprocessing import StandardScaler, MinMaxScaler, MaxAbsScaler, RobustScaler"
   ]
  },
  {
   "cell_type": "code",
   "execution_count": 12,
   "metadata": {},
   "outputs": [],
   "source": [
    "import tensorflow as tf\n",
    "from tensorflow import keras\n",
    "from tensorflow.keras import layers\n",
    "from keras.callbacks import ModelCheckpoint, EarlyStopping, ReduceLROnPlateau"
   ]
  },
  {
   "cell_type": "markdown",
   "metadata": {},
   "source": [
    "#### DNN"
   ]
  },
  {
   "cell_type": "code",
   "execution_count": 7,
   "metadata": {},
   "outputs": [
    {
     "name": "stdout",
     "output_type": "stream",
     "text": [
      "Model: \"model\"\n",
      "_________________________________________________________________\n",
      "Layer (type)                 Output Shape              Param #   \n",
      "=================================================================\n",
      "input_1 (InputLayer)         [(None, 44)]              0         \n",
      "_________________________________________________________________\n",
      "dense (Dense)                (None, 50)                2250      \n",
      "_________________________________________________________________\n",
      "dense_1 (Dense)              (None, 50)                2550      \n",
      "_________________________________________________________________\n",
      "dense_2 (Dense)              (None, 50)                2550      \n",
      "_________________________________________________________________\n",
      "dense_3 (Dense)              (None, 50)                2550      \n",
      "_________________________________________________________________\n",
      "dense_4 (Dense)              (None, 1)                 51        \n",
      "=================================================================\n",
      "Total params: 9,951\n",
      "Trainable params: 9,951\n",
      "Non-trainable params: 0\n",
      "_________________________________________________________________\n"
     ]
    }
   ],
   "source": [
    "inputs_1 = tf.keras.Input(shape=44)\n",
    "dense = tf.keras.layers.Dense(50)(inputs_1)\n",
    "dense = tf.keras.layers.Dense(50)(dense)\n",
    "dense = tf.keras.layers.Dense(50)(dense)\n",
    "dense = tf.keras.layers.Dense(50)(dense)\n",
    "output = tf.keras.layers.Dense(1)(dense)\n",
    "\n",
    "DNN = tf.keras.Model(inputs=[inputs_1], outputs=output)\n",
    "\n",
    "optimizer = tf.keras.optimizers.Adam(lr = 0.001)\n",
    "\n",
    "DNN.compile(loss='mse', optimizer=optimizer)\n",
    "DNN.summary()"
   ]
  },
  {
   "cell_type": "code",
   "execution_count": 8,
   "metadata": {
    "scrolled": true
   },
   "outputs": [
    {
     "name": "stdout",
     "output_type": "stream",
     "text": [
      "Train on 4749 samples, validate on 1461 samples\n",
      "Epoch 1/200\n",
      "4730/4749 [============================>.] - ETA: 0s - loss: 382.8988\n",
      "Epoch 00001: val_loss improved from inf to 24.77462, saving model to checkpoint.keras\n",
      "4749/4749 [==============================] - 5s 1ms/sample - loss: 381.5661 - val_loss: 24.7746\n",
      "Epoch 2/200\n",
      "4719/4749 [============================>.] - ETA: 0s - loss: 47.3135\n",
      "Epoch 00002: val_loss improved from 24.77462 to 14.78325, saving model to checkpoint.keras\n",
      "4749/4749 [==============================] - 5s 985us/sample - loss: 47.1117 - val_loss: 14.7832\n",
      "Epoch 3/200\n",
      "4719/4749 [============================>.] - ETA: 0s - loss: 22.1392\n",
      "Epoch 00003: val_loss improved from 14.78325 to 11.23077, saving model to checkpoint.keras\n",
      "4749/4749 [==============================] - 5s 974us/sample - loss: 22.1068 - val_loss: 11.2308\n",
      "Epoch 4/200\n",
      "4732/4749 [============================>.] - ETA: 0s - loss: 20.5048\n",
      "Epoch 00004: val_loss improved from 11.23077 to 9.50582, saving model to checkpoint.keras\n",
      "4749/4749 [==============================] - 5s 962us/sample - loss: 20.4684 - val_loss: 9.5058\n",
      "Epoch 5/200\n",
      "4717/4749 [============================>.] - ETA: 0s - loss: 14.6227\n",
      "Epoch 00005: val_loss did not improve from 9.50582\n",
      "4749/4749 [==============================] - 5s 973us/sample - loss: 14.5777 - val_loss: 12.9304\n",
      "Epoch 6/200\n",
      "4735/4749 [============================>.] - ETA: 0s - loss: 12.7383\n",
      "Epoch 00006: val_loss did not improve from 9.50582\n",
      "4749/4749 [==============================] - 5s 971us/sample - loss: 12.7828 - val_loss: 54.1908\n",
      "Epoch 7/200\n",
      "4691/4749 [============================>.] - ETA: 0s - loss: 12.1501\n",
      "Epoch 00007: val_loss did not improve from 9.50582\n",
      "4749/4749 [==============================] - 5s 968us/sample - loss: 12.1339 - val_loss: 11.9181\n",
      "Epoch 8/200\n",
      "4742/4749 [============================>.] - ETA: 0s - loss: 11.5675\n",
      "Epoch 00008: val_loss did not improve from 9.50582\n",
      "4749/4749 [==============================] - 5s 971us/sample - loss: 11.5822 - val_loss: 10.3817\n",
      "Epoch 9/200\n",
      "4708/4749 [============================>.] - ETA: 0s - loss: 11.4016\n",
      "Epoch 00009: val_loss did not improve from 9.50582\n",
      "4749/4749 [==============================] - 5s 1ms/sample - loss: 11.4173 - val_loss: 10.1412\n",
      "Epoch 10/200\n",
      "4731/4749 [============================>.] - ETA: 0s - loss: 11.1380\n",
      "Epoch 00010: val_loss did not improve from 9.50582\n",
      "4749/4749 [==============================] - 5s 1ms/sample - loss: 11.1486 - val_loss: 10.3697\n",
      "Epoch 11/200\n",
      "4709/4749 [============================>.] - ETA: 0s - loss: 10.8741\n",
      "Epoch 00011: val_loss did not improve from 9.50582\n",
      "4749/4749 [==============================] - 5s 1ms/sample - loss: 10.9817 - val_loss: 14.2918\n",
      "Epoch 12/200\n",
      "4718/4749 [============================>.] - ETA: 0s - loss: 10.8328\n",
      "Epoch 00012: val_loss did not improve from 9.50582\n",
      "4749/4749 [==============================] - 6s 1ms/sample - loss: 10.8252 - val_loss: 9.6997\n",
      "Epoch 13/200\n",
      "4740/4749 [============================>.] - ETA: 0s - loss: 10.9624\n",
      "Epoch 00013: val_loss did not improve from 9.50582\n",
      "\n",
      "Epoch 00013: ReduceLROnPlateau reducing learning rate to 0.00010000000474974513.\n",
      "4749/4749 [==============================] - 5s 1ms/sample - loss: 10.9764 - val_loss: 9.8399\n",
      "Epoch 14/200\n",
      "4710/4749 [============================>.] - ETA: 0s - loss: 9.4378\n",
      "Epoch 00014: val_loss improved from 9.50582 to 8.84816, saving model to checkpoint.keras\n",
      "4749/4749 [==============================] - 5s 1ms/sample - loss: 9.4214 - val_loss: 8.8482\n",
      "Epoch 15/200\n",
      "4700/4749 [============================>.] - ETA: 0s - loss: 9.3457\n",
      "Epoch 00015: val_loss improved from 8.84816 to 8.82741, saving model to checkpoint.keras\n",
      "4749/4749 [==============================] - 5s 1ms/sample - loss: 9.3456 - val_loss: 8.8274\n",
      "Epoch 16/200\n",
      "4712/4749 [============================>.] - ETA: 0s - loss: 9.3653\n",
      "Epoch 00016: val_loss did not improve from 8.82741\n",
      "\n",
      "Epoch 00016: ReduceLROnPlateau reducing learning rate to 1.0000000474974514e-05.\n",
      "4749/4749 [==============================] - 5s 1ms/sample - loss: 9.3501 - val_loss: 9.1444\n",
      "Epoch 17/200\n",
      "4697/4749 [============================>.] - ETA: 0s - loss: 9.1978\n",
      "Epoch 00017: val_loss improved from 8.82741 to 8.78726, saving model to checkpoint.keras\n",
      "4749/4749 [==============================] - 5s 1ms/sample - loss: 9.2029 - val_loss: 8.7873\n",
      "Epoch 18/200\n",
      "4709/4749 [============================>.] - ETA: 0s - loss: 9.1595\n",
      "Epoch 00018: val_loss improved from 8.78726 to 8.77668, saving model to checkpoint.keras\n",
      "4749/4749 [==============================] - 5s 1ms/sample - loss: 9.1783 - val_loss: 8.7767\n",
      "Epoch 19/200\n",
      "4699/4749 [============================>.] - ETA: 0s - loss: 9.1245\n",
      "Epoch 00019: val_loss did not improve from 8.77668\n",
      "4749/4749 [==============================] - 5s 1ms/sample - loss: 9.1654 - val_loss: 8.7784\n",
      "Epoch 20/200\n",
      "4713/4749 [============================>.] - ETA: 0s - loss: 9.1390\n",
      "Epoch 00020: val_loss improved from 8.77668 to 8.75071, saving model to checkpoint.keras\n",
      "4749/4749 [==============================] - 5s 1ms/sample - loss: 9.1586 - val_loss: 8.7507\n",
      "Epoch 21/200\n",
      "4697/4749 [============================>.] - ETA: 0s - loss: 9.1479\n",
      "Epoch 00021: val_loss improved from 8.75071 to 8.75025, saving model to checkpoint.keras\n",
      "4749/4749 [==============================] - 5s 1ms/sample - loss: 9.1458 - val_loss: 8.7502\n",
      "Epoch 22/200\n",
      "4704/4749 [============================>.] - ETA: 0s - loss: 9.1428\n",
      "Epoch 00022: val_loss improved from 8.75025 to 8.67951, saving model to checkpoint.keras\n",
      "4749/4749 [==============================] - 5s 1ms/sample - loss: 9.1363 - val_loss: 8.6795\n",
      "Epoch 23/200\n",
      "4714/4749 [============================>.] - ETA: 0s - loss: 9.1358\n",
      "Epoch 00023: val_loss did not improve from 8.67951\n",
      "4749/4749 [==============================] - 5s 1ms/sample - loss: 9.1259 - val_loss: 8.6825\n",
      "Epoch 24/200\n",
      "4716/4749 [============================>.] - ETA: 0s - loss: 9.1163\n",
      "Epoch 00024: val_loss improved from 8.67951 to 8.63252, saving model to checkpoint.keras\n",
      "4749/4749 [==============================] - 5s 1ms/sample - loss: 9.1032 - val_loss: 8.6325\n",
      "Epoch 25/200\n",
      "4697/4749 [============================>.] - ETA: 0s - loss: 9.1437\n",
      "Epoch 00025: val_loss improved from 8.63252 to 8.62455, saving model to checkpoint.keras\n",
      "4749/4749 [==============================] - 5s 1ms/sample - loss: 9.0912 - val_loss: 8.6246\n",
      "Epoch 26/200\n",
      "4708/4749 [============================>.] - ETA: 0s - loss: 9.0967\n",
      "Epoch 00026: val_loss improved from 8.62455 to 8.61881, saving model to checkpoint.keras\n",
      "4749/4749 [==============================] - 5s 1ms/sample - loss: 9.0827 - val_loss: 8.6188\n",
      "Epoch 27/200\n",
      "4732/4749 [============================>.] - ETA: 0s - loss: 9.0739\n",
      "Epoch 00027: val_loss did not improve from 8.61881\n",
      "4749/4749 [==============================] - 5s 1ms/sample - loss: 9.0653 - val_loss: 8.6260\n",
      "Epoch 28/200\n",
      "4741/4749 [============================>.] - ETA: 0s - loss: 9.0549\n",
      "Epoch 00028: val_loss improved from 8.61881 to 8.59157, saving model to checkpoint.keras\n",
      "4749/4749 [==============================] - 5s 1ms/sample - loss: 9.0623 - val_loss: 8.5916\n",
      "Epoch 29/200\n",
      "4706/4749 [============================>.] - ETA: 0s - loss: 9.0030\n",
      "Epoch 00029: val_loss did not improve from 8.59157\n",
      "4749/4749 [==============================] - 5s 1ms/sample - loss: 9.0414 - val_loss: 8.7166\n",
      "Epoch 30/200\n",
      "4725/4749 [============================>.] - ETA: 0s - loss: 9.0376\n",
      "Epoch 00030: val_loss did not improve from 8.59157\n",
      "4749/4749 [==============================] - 5s 1ms/sample - loss: 9.0298 - val_loss: 8.6070\n",
      "Epoch 31/200\n",
      "4735/4749 [============================>.] - ETA: 0s - loss: 9.0109\n",
      "Epoch 00031: val_loss improved from 8.59157 to 8.56335, saving model to checkpoint.keras\n",
      "4749/4749 [==============================] - 5s 1ms/sample - loss: 9.0258 - val_loss: 8.5634\n",
      "Epoch 32/200\n",
      "4739/4749 [============================>.] - ETA: 0s - loss: 9.0207\n",
      "Epoch 00032: val_loss did not improve from 8.56335\n",
      "4749/4749 [==============================] - 5s 1ms/sample - loss: 9.0170 - val_loss: 8.6461\n",
      "Epoch 33/200\n",
      "4724/4749 [============================>.] - ETA: 0s - loss: 9.0171\n",
      "Epoch 00033: val_loss did not improve from 8.56335\n",
      "4749/4749 [==============================] - 5s 1ms/sample - loss: 9.0082 - val_loss: 8.6862\n"
     ]
    },
    {
     "name": "stdout",
     "output_type": "stream",
     "text": [
      "Epoch 34/200\n",
      "4714/4749 [============================>.] - ETA: 0s - loss: 9.0107\n",
      "Epoch 00034: val_loss improved from 8.56335 to 8.55656, saving model to checkpoint.keras\n",
      "4749/4749 [==============================] - 6s 1ms/sample - loss: 8.9989 - val_loss: 8.5566\n",
      "Epoch 35/200\n",
      "4730/4749 [============================>.] - ETA: 0s - loss: 8.9885\n",
      "Epoch 00035: val_loss improved from 8.55656 to 8.51577, saving model to checkpoint.keras\n",
      "4749/4749 [==============================] - 6s 1ms/sample - loss: 8.9815 - val_loss: 8.5158\n",
      "Epoch 36/200\n",
      "4697/4749 [============================>.] - ETA: 0s - loss: 8.9654\n",
      "Epoch 00036: val_loss improved from 8.51577 to 8.47037, saving model to checkpoint.keras\n",
      "4749/4749 [==============================] - 5s 1ms/sample - loss: 8.9729 - val_loss: 8.4704\n",
      "Epoch 37/200\n",
      "4707/4749 [============================>.] - ETA: 0s - loss: 8.9519\n",
      "Epoch 00037: val_loss improved from 8.47037 to 8.44563, saving model to checkpoint.keras\n",
      "4749/4749 [==============================] - 5s 1ms/sample - loss: 8.9573 - val_loss: 8.4456\n",
      "Epoch 38/200\n",
      "4704/4749 [============================>.] - ETA: 0s - loss: 8.9346\n",
      "Epoch 00038: val_loss did not improve from 8.44563\n",
      "\n",
      "Epoch 00038: ReduceLROnPlateau reducing learning rate to 1.0000000656873453e-06.\n",
      "4749/4749 [==============================] - 5s 1ms/sample - loss: 8.9660 - val_loss: 8.5223\n",
      "Epoch 39/200\n",
      "4744/4749 [============================>.] - ETA: 0s - loss: 8.9046\n",
      "Epoch 00039: val_loss improved from 8.44563 to 8.42883, saving model to checkpoint.keras\n",
      "4749/4749 [==============================] - 5s 1ms/sample - loss: 8.9019 - val_loss: 8.4288\n",
      "Epoch 40/200\n",
      "4742/4749 [============================>.] - ETA: 0s - loss: 8.8967\n",
      "Epoch 00040: val_loss did not improve from 8.42883\n",
      "4749/4749 [==============================] - 5s 1ms/sample - loss: 8.8981 - val_loss: 8.4326\n",
      "Epoch 41/200\n",
      "4739/4749 [============================>.] - ETA: 0s - loss: 8.8995\n",
      "Epoch 00041: val_loss improved from 8.42883 to 8.42844, saving model to checkpoint.keras\n",
      "4749/4749 [==============================] - 5s 1ms/sample - loss: 8.8961 - val_loss: 8.4284\n",
      "Epoch 42/200\n",
      "4696/4749 [============================>.] - ETA: 0s - loss: 8.9180\n",
      "Epoch 00042: val_loss did not improve from 8.42844\n",
      "4749/4749 [==============================] - 5s 1ms/sample - loss: 8.8929 - val_loss: 8.4389\n",
      "Epoch 43/200\n",
      "4700/4749 [============================>.] - ETA: 0s - loss: 8.9095\n",
      "Epoch 00043: val_loss improved from 8.42844 to 8.41612, saving model to checkpoint.keras\n",
      "4749/4749 [==============================] - 5s 1ms/sample - loss: 8.8875 - val_loss: 8.4161\n",
      "Epoch 44/200\n",
      "4730/4749 [============================>.] - ETA: 0s - loss: 8.9125\n",
      "Epoch 00044: val_loss did not improve from 8.41612\n",
      "\n",
      "Epoch 00044: ReduceLROnPlateau reducing learning rate to 1.0000001111620805e-07.\n",
      "4749/4749 [==============================] - 5s 1ms/sample - loss: 8.8906 - val_loss: 8.4184\n",
      "Epoch 45/200\n",
      "4720/4749 [============================>.] - ETA: 0s - loss: 8.8523\n",
      "Epoch 00045: val_loss did not improve from 8.41612\n",
      "4749/4749 [==============================] - 5s 1ms/sample - loss: 8.8792 - val_loss: 8.4182\n",
      "Epoch 46/200\n",
      "4740/4749 [============================>.] - ETA: 0s - loss: 8.8905\n",
      "Epoch 00046: val_loss did not improve from 8.41612\n",
      "4749/4749 [==============================] - 5s 1ms/sample - loss: 8.8790 - val_loss: 8.4183\n",
      "Epoch 47/200\n",
      "4744/4749 [============================>.] - ETA: 0s - loss: 8.8708\n",
      "Epoch 00047: val_loss did not improve from 8.41612\n",
      "4749/4749 [==============================] - 5s 1ms/sample - loss: 8.8788 - val_loss: 8.4188\n",
      "Epoch 48/200\n",
      "4707/4749 [============================>.] - ETA: 0s - loss: 8.8795\n",
      "Epoch 00048: val_loss did not improve from 8.41612\n",
      "4749/4749 [==============================] - 5s 1ms/sample - loss: 8.8785 - val_loss: 8.4185\n",
      "Epoch 49/200\n",
      "4699/4749 [============================>.] - ETA: 0s - loss: 8.8980\n",
      "Epoch 00049: val_loss did not improve from 8.41612\n",
      "4749/4749 [==============================] - 6s 1ms/sample - loss: 8.8783 - val_loss: 8.4186\n",
      "Epoch 50/200\n",
      "4699/4749 [============================>.] - ETA: 0s - loss: 8.8757\n",
      "Epoch 00050: val_loss did not improve from 8.41612\n",
      "4749/4749 [==============================] - 6s 1ms/sample - loss: 8.8781 - val_loss: 8.4176\n",
      "Epoch 51/200\n",
      "4703/4749 [============================>.] - ETA: 0s - loss: 8.9152\n",
      "Epoch 00051: val_loss did not improve from 8.41612\n",
      "4749/4749 [==============================] - 5s 1ms/sample - loss: 8.8779 - val_loss: 8.4168\n",
      "Epoch 52/200\n",
      "4745/4749 [============================>.] - ETA: 0s - loss: 8.8824\n",
      "Epoch 00052: val_loss did not improve from 8.41612\n",
      "\n",
      "Epoch 00052: ReduceLROnPlateau reducing learning rate to 1.000000082740371e-08.\n",
      "4749/4749 [==============================] - 5s 1ms/sample - loss: 8.8778 - val_loss: 8.4173\n",
      "Epoch 53/200\n",
      "4709/4749 [============================>.] - ETA: 0s - loss: 8.8517\n",
      "Epoch 00053: val_loss did not improve from 8.41612\n",
      "4749/4749 [==============================] - 5s 1ms/sample - loss: 8.8765 - val_loss: 8.4175\n"
     ]
    },
    {
     "data": {
      "image/png": "[encoded data removed]",
      "text/plain": [
       "<Figure size 432x288 with 1 Axes>"
      ]
     },
     "metadata": {
      "needs_background": "light"
     },
     "output_type": "display_data"
    }
   ],
   "source": [
    "path_checkpoint = 'checkpoint.keras'\n",
    "callback_checkpoint = ModelCheckpoint(filepath=path_checkpoint,\n",
    "                                      monitor='val_loss',\n",
    "                                      verbose=1,\n",
    "                                      save_weights_only=True,\n",
    "                                      save_best_only=True)\n",
    "\n",
    "callback_early_stopping = EarlyStopping(monitor='val_loss', patience=10,verbose=0)\n",
    "\n",
    "\n",
    "callback_reduce_lr = ReduceLROnPlateau(monitor='loss',\n",
    "                                       factor=0.1,\n",
    "                                       patience=1,\n",
    "                                       verbose=1)\n",
    "\n",
    "callbacks = [callback_early_stopping,\n",
    "             callback_checkpoint,\n",
    "             callback_reduce_lr]\n",
    "hist = DNN.fit(trainX,trainY, validation_data=(validX, validY), \n",
    "                 epochs = 200, batch_size=1, callbacks=callbacks, verbose=1)\n",
    "\n",
    "fig, loss_ax = plt.subplots()\n",
    "\n",
    "loss_ax.plot(hist.history['loss'], 'y', label='train loss')\n",
    "loss_ax.plot(hist.history['val_loss'], 'r', label='val loss')\n",
    "\n",
    "loss_ax.set_xlabel('epoch')\n",
    "loss_ax.set_ylabel('loss')\n",
    "\n",
    "loss_ax.legend(loc='upper left')\n",
    "\n",
    "plt.show()"
   ]
  },
  {
   "cell_type": "code",
   "execution_count": 56,
   "metadata": {
    "scrolled": true
   },
   "outputs": [
    {
     "name": "stdout",
     "output_type": "stream",
     "text": [
      "MAE\n",
      "MAE_DNN =  2.1952321309030625\n",
      "MAE_RNN =  3.4140245797033666\n",
      "MAE_LSTM =  3.015746226974047\n"
     ]
    },
    {
     "data": {
      "image/png": "[encoded data removed]",
      "text/plain": [
       "<Figure size 1080x216 with 1 Axes>"
      ]
     },
     "metadata": {
      "needs_background": "light"
     },
     "output_type": "display_data"
    }
   ],
   "source": [
    "time = pd.to_datetime(test['일시'])\n",
    "\n",
    "pred_DNN = DNN.predict(testX)\n",
    "pred_RNN = RNN.predict(testX.values.reshape(-1,1,44)).reshape(-1,)\n",
    "pred_LSTM = LSTM.predict(testX.values.reshape(-1,1,44))\n",
    "\n",
    "\n",
    "plt.figure(figsize = (15,3))\n",
    "plt.plot(time,testY.reset_index()['Y'])\n",
    "plt.plot(time,pred_DNN)\n",
    "plt.plot(time,pred_RNN)\n",
    "plt.plot(time,pred_LSTM)\n",
    "\n",
    "plt.ylabel('Temperature')\n",
    "plt.legend(['real','DNN','RNN','LSTM'])\n",
    "\n",
    "print('MAE')\n",
    "print('MAE_DNN = ',(((testY-pred_DNN.reshape(-1,))**2)**0.5).mean())\n",
    "print('MAE_RNN = ',(((testY-pred_RNN.reshape(-1,))**2)**0.5).mean())\n",
    "print('MAE_LSTM = ',(((testY-pred_LSTM.reshape(-1,))**2)**0.5).mean())"
   ]
  },
  {
   "cell_type": "code",
   "execution_count": null,
   "metadata": {},
   "outputs": [],
   "source": []
  }
 ],
 "metadata": {
  "kernelspec": {
   "display_name": "Python 3",
   "language": "python",
   "name": "python3"
  },
  "language_info": {
   "codemirror_mode": {
    "name": "ipython",
    "version": 3
   },
   "file_extension": ".py",
   "mimetype": "text/x-python",
   "name": "python",
   "nbconvert_exporter": "python",
   "pygments_lexer": "ipython3",
   "version": "3.7.6"
  }
 },
 "nbformat": 4,
 "nbformat_minor": 4
}
