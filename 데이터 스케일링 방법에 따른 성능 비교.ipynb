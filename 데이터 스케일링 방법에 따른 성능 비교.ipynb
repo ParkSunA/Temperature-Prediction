{
 "cells": [
  {
   "cell_type": "markdown",
   "metadata": {},
   "source": [
    "모델 학습을 진행하기 전 데이터를 스케일링 하려고 한다.  \n",
    "https://mkjjo.github.io/python/2019/01/10/scaler.html  \n",
    "다음 페이지에서는 데이터 스케일링이 이런 이유로 인해 필요하다고 한다.  \n",
    "데이터를 모델링하기 전에는 반드시 스케일링 과정을 거쳐야 한다.  \n",
    "스케일링을 통해 다차원의 값들을 비교 분석하기 쉽게 만들어주며,  \n",
    "자료의 오버플로우(overflow)나 언더플로우(underflow)를 방지하고,  \n",
    "독립 변수의 공분산 행렬의 조건수(condition number)를 감소시켜 최적화 과정에서의 안정성 및 수렴 속도를 향상 시킨다.\"  \n",
    "그래서 스케일링의 종류에 대해 살펴보고 기온 예측에 사용되는 데이터에는 어떤 스케일링이 적절한지 모델 학습 결과로 찾아보겠다.  "
   ]
  },
  {
   "cell_type": "code",
   "execution_count": 1,
   "metadata": {},
   "outputs": [],
   "source": [
    "import pandas as pd\n",
    "import numpy as np\n",
    "import matplotlib.pyplot as plt"
   ]
  },
  {
   "cell_type": "code",
   "execution_count": 2,
   "metadata": {},
   "outputs": [],
   "source": [
    "# 데이터 불러오기\n",
    "data = pd.read_csv('OBS_ASOS_DD_20210104225316.csv', encoding = 'cp949')  # 2020-01-01~2010-01-01\n",
    "data1 = pd.read_csv('OBS_ASOS_DD_20210104225407.csv', encoding = 'cp949') # 2010-01-02~2020-01-02\n",
    "data2 = pd.read_csv('OBS_ASOS_DD_20210104225442.csv', encoding = 'cp949') # 2020-01-03~2021-01-03\n",
    "\n",
    "data = pd.concat([data,data1,data2],axis=0).reset_index().drop('index',axis=1)"
   ]
  },
  {
   "cell_type": "code",
   "execution_count": 3,
   "metadata": {},
   "outputs": [
    {
     "name": "stdout",
     "output_type": "stream",
     "text": [
      "결측치 개수 = 0\n"
     ]
    }
   ],
   "source": [
    "# 데이터 전처리  \n",
    "# 강수, 적설량과 관련된 변수는 0으로 결측 채우기  \n",
    "rain_col = [i for i in data.columns if '강수' in i]\n",
    "snow_col = [i for i in data.columns if '적설' in i]\n",
    "\n",
    "data[rain_col+snow_col] = data[rain_col+snow_col].fillna(0)\n",
    "\n",
    "data[['안개 계속시간(hr)','합계 대형증발량(mm)','합계 소형증발량(mm)']] = data[['안개 계속시간(hr)','합계 대형증발량(mm)','합계 소형증발량(mm)']].fillna(0)\n",
    "\n",
    "# 사용하지 않는 컬럼 버리기\n",
    "data = data.drop(['기사','강수 계속시간(hr)','10분 최다 강수량(mm)'],axis=1)\n",
    "\n",
    "time_col=[i for i in data.columns if '시각' in i]\n",
    "data = data.drop(time_col, axis=1)\n",
    "\n",
    "data = data.drop(['지점','지점명'], axis=1)\n",
    "\n",
    "# 시간 순서로 학습시키기 위해 시간 정렬\n",
    "data = data.sort_values('일시').interpolate(method='linear')\n",
    "\n",
    "# 보간 후 결측치 없음을 확인\n",
    "print('결측치 개수 =',data.isna().sum().sum())"
   ]
  },
  {
   "cell_type": "code",
   "execution_count": 4,
   "metadata": {},
   "outputs": [
    {
     "name": "stdout",
     "output_type": "stream",
     "text": [
      " train set: 4749 개\n",
      " valid set: 1461 개\n",
      " test set 1462 개\n"
     ]
    }
   ],
   "source": [
    "# 라벨값 설정\n",
    "data['Y'] = data['평균기온(°C)'].shift(-2)\n",
    "data = data.dropna()\n",
    "\n",
    "# train, valid, test dataset 분리\n",
    "train = data[data['일시']<'2013-01-01']\n",
    "valid = data[data['일시']>='2013-01-01']\n",
    "valid = valid[valid['일시']<'2017-01-01']\n",
    "test = data[data['일시']>='2017-01-01']\n",
    "print(' train set:',len(train),'개\\n',\n",
    "      'valid set:',len(valid),'개\\n',\n",
    "      'test set',len(test),'개')\n",
    "\n",
    "# X와 Y분리\n",
    "trainX,trainY = train.drop(['일시','Y'],axis=1), train['Y']\n",
    "validX,validY = valid.drop(['일시','Y'],axis=1), valid['Y']\n",
    "testX,testY = test.drop(['일시','Y'],axis=1), test['Y']"
   ]
  },
  {
   "cell_type": "markdown",
   "metadata": {},
   "source": [
    "#### 스케일링 대표적인 방법은 4가지가 있다.\n",
    "1. Standard scaler\n",
    "2. MinMax scaler\n",
    "3. MaxAbs scaler\n",
    "4. Robust scaler  \n",
    "Scikit-Learn의 패키지를 이용하여 적용해보려한다.  "
   ]
  },
  {
   "cell_type": "code",
   "execution_count": 5,
   "metadata": {},
   "outputs": [],
   "source": [
    "from sklearn.preprocessing import StandardScaler, MinMaxScaler, MaxAbsScaler, RobustScaler"
   ]
  },
  {
   "cell_type": "code",
   "execution_count": 6,
   "metadata": {},
   "outputs": [
    {
     "name": "stderr",
     "output_type": "stream",
     "text": [
      "Using TensorFlow backend.\n"
     ]
    }
   ],
   "source": [
    "import tensorflow as tf\n",
    "from tensorflow import keras\n",
    "from tensorflow.keras import layers\n",
    "from keras.callbacks import ModelCheckpoint, EarlyStopping, ReduceLROnPlateau"
   ]
  },
  {
   "cell_type": "code",
   "execution_count": 20,
   "metadata": {},
   "outputs": [],
   "source": [
    "SS = StandardScaler()\n",
    "SS.fit(trainX.append(validX).values)\n",
    "scaled_trainX = SS.transform(trainX.values)\n",
    "scaled_validX = SS.transform(validX.values)\n",
    "scaled_testX = SS.transform(testX.values)"
   ]
  },
  {
   "cell_type": "markdown",
   "metadata": {},
   "source": [
    "#### DNN"
   ]
  },
  {
   "cell_type": "code",
   "execution_count": 30,
   "metadata": {},
   "outputs": [
    {
     "name": "stdout",
     "output_type": "stream",
     "text": [
      "Model: \"model_3\"\n",
      "_________________________________________________________________\n",
      "Layer (type)                 Output Shape              Param #   \n",
      "=================================================================\n",
      "input_4 (InputLayer)         [(None, 44)]              0         \n",
      "_________________________________________________________________\n",
      "dense_15 (Dense)             (None, 50)                2250      \n",
      "_________________________________________________________________\n",
      "dense_16 (Dense)             (None, 50)                2550      \n",
      "_________________________________________________________________\n",
      "dense_17 (Dense)             (None, 50)                2550      \n",
      "_________________________________________________________________\n",
      "dense_18 (Dense)             (None, 50)                2550      \n",
      "_________________________________________________________________\n",
      "dense_19 (Dense)             (None, 1)                 51        \n",
      "=================================================================\n",
      "Total params: 9,951\n",
      "Trainable params: 9,951\n",
      "Non-trainable params: 0\n",
      "_________________________________________________________________\n"
     ]
    }
   ],
   "source": [
    "inputs_1 = tf.keras.Input(shape=44)\n",
    "dense = tf.keras.layers.Dense(50)(inputs_1)\n",
    "dense = tf.keras.layers.Dense(50)(dense)\n",
    "dense = tf.keras.layers.Dense(50)(dense)\n",
    "dense = tf.keras.layers.Dense(50)(dense)\n",
    "output = tf.keras.layers.Dense(1)(dense)\n",
    "\n",
    "DNN = tf.keras.Model(inputs=[inputs_1], outputs=output)\n",
    "\n",
    "optimizer = tf.keras.optimizers.Adam(lr = 0.001)\n",
    "\n",
    "DNN.compile(loss='mse', optimizer=optimizer)\n",
    "DNN.summary()"
   ]
  },
  {
   "cell_type": "code",
   "execution_count": 31,
   "metadata": {
    "scrolled": true
   },
   "outputs": [
    {
     "name": "stdout",
     "output_type": "stream",
     "text": [
      "Train on 4749 samples, validate on 1461 samples\n",
      "Epoch 1/200\n",
      "4650/4749 [============================>.] - ETA: 0s - loss: 7509.5349 \n",
      "Epoch 00001: val_loss improved from inf to 59.15887, saving model to checkpoint.keras\n",
      "4749/4749 [==============================] - 0s 98us/sample - loss: 7353.9022 - val_loss: 59.1589\n",
      "Epoch 2/200\n",
      "4560/4749 [===========================>..] - ETA: 0s - loss: 30.5442\n",
      "Epoch 00002: val_loss improved from 59.15887 to 23.37304, saving model to checkpoint.keras\n",
      "4749/4749 [==============================] - 0s 43us/sample - loss: 30.4959 - val_loss: 23.3730\n",
      "Epoch 3/200\n",
      "3150/4749 [==================>...........] - ETA: 0s - loss: 20.5203\n",
      "Epoch 00003: val_loss improved from 23.37304 to 15.64437, saving model to checkpoint.keras\n",
      "4749/4749 [==============================] - 0s 40us/sample - loss: 19.3559 - val_loss: 15.6444\n",
      "Epoch 4/200\n",
      "4200/4749 [=========================>....] - ETA: 0s - loss: 15.4677\n",
      "Epoch 00004: val_loss improved from 15.64437 to 13.12035, saving model to checkpoint.keras\n",
      "4749/4749 [==============================] - 0s 63us/sample - loss: 15.3484 - val_loss: 13.1203\n",
      "Epoch 5/200\n",
      "4410/4749 [==========================>...] - ETA: 0s - loss: 14.6747\n",
      "Epoch 00005: val_loss improved from 13.12035 to 11.86412, saving model to checkpoint.keras\n",
      "4749/4749 [==============================] - 0s 44us/sample - loss: 14.4748 - val_loss: 11.8641\n",
      "Epoch 6/200\n",
      "4680/4749 [============================>.] - ETA: 0s - loss: 14.5927\n",
      "Epoch 00006: val_loss did not improve from 11.86412\n",
      "\n",
      "Epoch 00006: ReduceLROnPlateau reducing learning rate to 0.00010000000474974513.\n",
      "4749/4749 [==============================] - 0s 41us/sample - loss: 14.5475 - val_loss: 21.5042\n",
      "Epoch 7/200\n",
      "4380/4749 [==========================>...] - ETA: 0s - loss: 12.2357\n",
      "Epoch 00007: val_loss improved from 11.86412 to 11.61545, saving model to checkpoint.keras\n",
      "4749/4749 [==============================] - 0s 45us/sample - loss: 12.2067 - val_loss: 11.6154\n",
      "Epoch 8/200\n",
      "4590/4749 [===========================>..] - ETA: 0s - loss: 11.8497\n",
      "Epoch 00008: val_loss did not improve from 11.61545\n",
      "4749/4749 [==============================] - 0s 41us/sample - loss: 11.8127 - val_loss: 11.8322\n",
      "Epoch 9/200\n",
      "4230/4749 [=========================>....] - ETA: 0s - loss: 11.8620\n",
      "Epoch 00009: val_loss improved from 11.61545 to 11.31742, saving model to checkpoint.keras\n",
      "\n",
      "Epoch 00009: ReduceLROnPlateau reducing learning rate to 1.0000000474974514e-05.\n",
      "4749/4749 [==============================] - 0s 45us/sample - loss: 12.0073 - val_loss: 11.3174\n",
      "Epoch 10/200\n",
      "3240/4749 [===================>..........] - ETA: 0s - loss: 11.3533\n",
      "Epoch 00010: val_loss improved from 11.31742 to 11.21990, saving model to checkpoint.keras\n",
      "4749/4749 [==============================] - 0s 39us/sample - loss: 11.4439 - val_loss: 11.2199\n",
      "Epoch 11/200\n",
      "4560/4749 [===========================>..] - ETA: 0s - loss: 11.4903\n",
      "Epoch 00011: val_loss did not improve from 11.21990\n",
      "4749/4749 [==============================] - 0s 41us/sample - loss: 11.4327 - val_loss: 11.2410\n",
      "Epoch 12/200\n",
      "3480/4749 [====================>.........] - ETA: 0s - loss: 11.2298\n",
      "Epoch 00012: val_loss improved from 11.21990 to 11.21940, saving model to checkpoint.keras\n",
      "4749/4749 [==============================] - 0s 50us/sample - loss: 11.4258 - val_loss: 11.2194\n",
      "Epoch 13/200\n",
      "4500/4749 [===========================>..] - ETA: 0s - loss: 11.4943\n",
      "Epoch 00013: val_loss did not improve from 11.21940\n",
      "\n",
      "Epoch 00013: ReduceLROnPlateau reducing learning rate to 1.0000000656873453e-06.\n",
      "4749/4749 [==============================] - 0s 42us/sample - loss: 11.4514 - val_loss: 11.2426\n",
      "Epoch 14/200\n",
      "3210/4749 [===================>..........] - ETA: 0s - loss: 11.3456\n",
      "Epoch 00014: val_loss did not improve from 11.21940\n",
      "4749/4749 [==============================] - 0s 38us/sample - loss: 11.3934 - val_loss: 11.2299\n",
      "Epoch 15/200\n",
      "4680/4749 [============================>.] - ETA: 0s - loss: 11.4057\n",
      "Epoch 00015: val_loss did not improve from 11.21940\n",
      "\n",
      "Epoch 00015: ReduceLROnPlateau reducing learning rate to 1.0000001111620805e-07.\n",
      "4749/4749 [==============================] - 0s 43us/sample - loss: 11.3954 - val_loss: 11.2259\n",
      "Epoch 16/200\n",
      "4080/4749 [========================>.....] - ETA: 0s - loss: 11.5406\n",
      "Epoch 00016: val_loss did not improve from 11.21940\n",
      "4749/4749 [==============================] - 0s 44us/sample - loss: 11.3897 - val_loss: 11.2269\n",
      "Epoch 17/200\n",
      "4710/4749 [============================>.] - ETA: 0s - loss: 11.4181\n",
      "Epoch 00017: val_loss did not improve from 11.21940\n",
      "4749/4749 [==============================] - 0s 40us/sample - loss: 11.3893 - val_loss: 11.2276\n",
      "Epoch 18/200\n",
      "4500/4749 [===========================>..] - ETA: 0s - loss: 11.3173\n",
      "Epoch 00018: val_loss did not improve from 11.21940\n",
      "\n",
      "Epoch 00018: ReduceLROnPlateau reducing learning rate to 1.000000082740371e-08.\n",
      "4749/4749 [==============================] - 0s 42us/sample - loss: 11.3893 - val_loss: 11.2283\n",
      "Epoch 19/200\n",
      "4530/4749 [===========================>..] - ETA: 0s - loss: 11.3800\n",
      "Epoch 00019: val_loss did not improve from 11.21940\n",
      "4749/4749 [==============================] - 0s 41us/sample - loss: 11.3890 - val_loss: 11.2283\n",
      "Epoch 20/200\n",
      "3240/4749 [===================>..........] - ETA: 0s - loss: 11.6464\n",
      "Epoch 00020: val_loss did not improve from 11.21940\n",
      "\n",
      "Epoch 00020: ReduceLROnPlateau reducing learning rate to 1.000000082740371e-09.\n",
      "4749/4749 [==============================] - 0s 38us/sample - loss: 11.3890 - val_loss: 11.2283\n",
      "Epoch 21/200\n",
      "4020/4749 [========================>.....] - ETA: 0s - loss: 11.3606\n",
      "Epoch 00021: val_loss did not improve from 11.21940\n",
      "\n",
      "Epoch 00021: ReduceLROnPlateau reducing learning rate to 1.000000082740371e-10.\n",
      "4749/4749 [==============================] - 0s 47us/sample - loss: 11.3890 - val_loss: 11.2283\n",
      "Epoch 22/200\n",
      "4410/4749 [==========================>...] - ETA: 0s - loss: 11.3650\n",
      "Epoch 00022: val_loss did not improve from 11.21940\n",
      "\n",
      "Epoch 00022: ReduceLROnPlateau reducing learning rate to 1.000000082740371e-11.\n",
      "4749/4749 [==============================] - 0s 42us/sample - loss: 11.3890 - val_loss: 11.2283\n"
     ]
    },
    {
     "data": {
      "image/png": "[encoded data removed]",
      "text/plain": [
       "<Figure size 432x288 with 1 Axes>"
      ]
     },
     "metadata": {
      "needs_background": "light"
     },
     "output_type": "display_data"
    }
   ],
   "source": [
    "path_checkpoint = 'checkpoint.keras'\n",
    "callback_checkpoint = ModelCheckpoint(filepath=path_checkpoint,\n",
    "                                      monitor='val_loss',\n",
    "                                      verbose=1,\n",
    "                                      save_weights_only=True,\n",
    "                                      save_best_only=True)\n",
    "\n",
    "callback_early_stopping = EarlyStopping(monitor='val_loss', patience=10,verbose=0)\n",
    "\n",
    "\n",
    "callback_reduce_lr = ReduceLROnPlateau(monitor='loss',\n",
    "                                       factor=0.1,\n",
    "                                       patience=1,\n",
    "                                       verbose=1)\n",
    "\n",
    "callbacks = [callback_early_stopping,\n",
    "             callback_checkpoint,\n",
    "             callback_reduce_lr]\n",
    "hist = DNN.fit(trainX,trainY, validation_data=(validX, validY), \n",
    "                 epochs = 200, batch_size=30, callbacks=callbacks, verbose=1)\n",
    "\n",
    "fig, loss_ax = plt.subplots()\n",
    "\n",
    "loss_ax.plot(hist.history['loss'], 'y', label='train loss')\n",
    "loss_ax.plot(hist.history['val_loss'], 'r', label='val loss')\n",
    "\n",
    "loss_ax.set_xlabel('epoch')\n",
    "loss_ax.set_ylabel('loss')\n",
    "\n",
    "loss_ax.legend(loc='upper left')\n",
    "\n",
    "plt.show()"
   ]
  },
  {
   "cell_type": "code",
   "execution_count": 34,
   "metadata": {
    "scrolled": true
   },
   "outputs": [
    {
     "name": "stdout",
     "output_type": "stream",
     "text": [
      "Model: \"model_5\"\n",
      "_________________________________________________________________\n",
      "Layer (type)                 Output Shape              Param #   \n",
      "=================================================================\n",
      "input_6 (InputLayer)         [(None, 44)]              0         \n",
      "_________________________________________________________________\n",
      "dense_25 (Dense)             (None, 50)                2250      \n",
      "_________________________________________________________________\n",
      "dense_26 (Dense)             (None, 50)                2550      \n",
      "_________________________________________________________________\n",
      "dense_27 (Dense)             (None, 50)                2550      \n",
      "_________________________________________________________________\n",
      "dense_28 (Dense)             (None, 50)                2550      \n",
      "_________________________________________________________________\n",
      "dense_29 (Dense)             (None, 1)                 51        \n",
      "=================================================================\n",
      "Total params: 9,951\n",
      "Trainable params: 9,951\n",
      "Non-trainable params: 0\n",
      "_________________________________________________________________\n",
      "Train on 4749 samples, validate on 1461 samples\n",
      "Epoch 1/200\n",
      "4740/4749 [============================>.] - ETA: 0s - loss: 65.4948\n",
      "Epoch 00001: val_loss improved from inf to 10.05786, saving model to checkpoint.keras\n",
      "4749/4749 [==============================] - 0s 94us/sample - loss: 65.3774 - val_loss: 10.0579\n",
      "Epoch 2/200\n",
      "4380/4749 [==========================>...] - ETA: 0s - loss: 10.4879\n",
      "Epoch 00002: val_loss improved from 10.05786 to 8.90041, saving model to checkpoint.keras\n",
      "4749/4749 [==============================] - 0s 44us/sample - loss: 10.3559 - val_loss: 8.9004\n",
      "Epoch 3/200\n",
      "4620/4749 [============================>.] - ETA: 0s - loss: 8.8381\n",
      "Epoch 00003: val_loss improved from 8.90041 to 8.45743, saving model to checkpoint.keras\n",
      "4749/4749 [==============================] - 0s 43us/sample - loss: 8.8206 - val_loss: 8.4574\n",
      "Epoch 4/200\n",
      "4230/4749 [=========================>....] - ETA: 0s - loss: 8.6231\n",
      "Epoch 00004: val_loss improved from 8.45743 to 7.99113, saving model to checkpoint.keras\n",
      "4749/4749 [==============================] - 0s 45us/sample - loss: 8.6093 - val_loss: 7.9911\n",
      "Epoch 5/200\n",
      "4470/4749 [===========================>..] - ETA: 0s - loss: 8.6606\n",
      "Epoch 00005: val_loss did not improve from 7.99113\n",
      "\n",
      "Epoch 00005: ReduceLROnPlateau reducing learning rate to 0.00010000000474974513.\n",
      "4749/4749 [==============================] - 0s 42us/sample - loss: 8.6918 - val_loss: 8.1317\n",
      "Epoch 6/200\n",
      "4260/4749 [=========================>....] - ETA: 0s - loss: 7.8269\n",
      "Epoch 00006: val_loss improved from 7.99113 to 7.49957, saving model to checkpoint.keras\n",
      "4749/4749 [==============================] - 0s 45us/sample - loss: 7.8136 - val_loss: 7.4996\n",
      "Epoch 7/200\n",
      "4440/4749 [===========================>..] - ETA: 0s - loss: 7.7691\n",
      "Epoch 00007: val_loss did not improve from 7.49957\n",
      "4749/4749 [==============================] - 0s 42us/sample - loss: 7.7291 - val_loss: 7.5265\n",
      "Epoch 8/200\n",
      "4080/4749 [========================>.....] - ETA: 0s - loss: 7.6491\n",
      "Epoch 00008: val_loss improved from 7.49957 to 7.47119, saving model to checkpoint.keras\n",
      "\n",
      "Epoch 00008: ReduceLROnPlateau reducing learning rate to 1.0000000474974514e-05.\n",
      "4749/4749 [==============================] - 0s 65us/sample - loss: 7.7453 - val_loss: 7.4712\n",
      "Epoch 9/200\n",
      "4620/4749 [============================>.] - ETA: 0s - loss: 7.6515\n",
      "Epoch 00009: val_loss improved from 7.47119 to 7.41699, saving model to checkpoint.keras\n",
      "4749/4749 [==============================] - 0s 42us/sample - loss: 7.6922 - val_loss: 7.4170\n",
      "Epoch 10/200\n",
      "4320/4749 [==========================>...] - ETA: 0s - loss: 7.6950\n",
      "Epoch 00010: val_loss improved from 7.41699 to 7.40114, saving model to checkpoint.keras\n",
      "4749/4749 [==============================] - 0s 64us/sample - loss: 7.6634 - val_loss: 7.4011\n",
      "Epoch 11/200\n",
      "4350/4749 [==========================>...] - ETA: 0s - loss: 7.5974\n",
      "Epoch 00011: val_loss did not improve from 7.40114\n",
      "4749/4749 [==============================] - 0s 43us/sample - loss: 7.6626 - val_loss: 7.4054\n",
      "Epoch 12/200\n",
      "4290/4749 [==========================>...] - ETA: 0s - loss: 7.6647\n",
      "Epoch 00012: val_loss did not improve from 7.40114\n",
      "4749/4749 [==============================] - 0s 61us/sample - loss: 7.6569 - val_loss: 7.4143\n",
      "Epoch 13/200\n",
      "4590/4749 [===========================>..] - ETA: 0s - loss: 7.6382\n",
      "Epoch 00013: val_loss improved from 7.40114 to 7.39890, saving model to checkpoint.keras\n",
      "\n",
      "Epoch 00013: ReduceLROnPlateau reducing learning rate to 1.0000000656873453e-06.\n",
      "4749/4749 [==============================] - 0s 48us/sample - loss: 7.6573 - val_loss: 7.3989\n",
      "Epoch 14/200\n",
      "3720/4749 [======================>.......] - ETA: 0s - loss: 7.6837\n",
      "Epoch 00014: val_loss did not improve from 7.39890\n",
      "4749/4749 [==============================] - 0s 47us/sample - loss: 7.6458 - val_loss: 7.4002\n",
      "Epoch 15/200\n",
      "3630/4749 [=====================>........] - ETA: 0s - loss: 7.7529\n",
      "Epoch 00015: val_loss did not improve from 7.39890\n",
      "4749/4749 [==============================] - 0s 59us/sample - loss: 7.6447 - val_loss: 7.4015\n",
      "Epoch 16/200\n",
      "4470/4749 [===========================>..] - ETA: 0s - loss: 7.7184\n",
      "Epoch 00016: val_loss did not improve from 7.39890\n",
      "4749/4749 [==============================] - 0s 49us/sample - loss: 7.6433 - val_loss: 7.4033\n",
      "Epoch 17/200\n",
      "4230/4749 [=========================>....] - ETA: 0s - loss: 7.6299\n",
      "Epoch 00017: val_loss did not improve from 7.39890\n",
      "4749/4749 [==============================] - 0s 43us/sample - loss: 7.6430 - val_loss: 7.4044\n",
      "Epoch 18/200\n",
      "4650/4749 [============================>.] - ETA: 0s - loss: 7.6072\n",
      "Epoch 00018: val_loss did not improve from 7.39890\n",
      "4749/4749 [==============================] - 0s 41us/sample - loss: 7.6425 - val_loss: 7.4052\n",
      "Epoch 19/200\n",
      "4620/4749 [============================>.] - ETA: 0s - loss: 7.6604\n",
      "Epoch 00019: val_loss did not improve from 7.39890\n",
      "4749/4749 [==============================] - 0s 41us/sample - loss: 7.6423 - val_loss: 7.4057\n",
      "Epoch 20/200\n",
      "4410/4749 [==========================>...] - ETA: 0s - loss: 7.6170\n",
      "Epoch 00020: val_loss did not improve from 7.39890\n",
      "\n",
      "Epoch 00020: ReduceLROnPlateau reducing learning rate to 1.0000001111620805e-07.\n",
      "4749/4749 [==============================] - 0s 42us/sample - loss: 7.6427 - val_loss: 7.4054\n",
      "Epoch 21/200\n",
      "3750/4749 [======================>.......] - ETA: 0s - loss: 7.8374\n",
      "Epoch 00021: val_loss did not improve from 7.39890\n",
      "4749/4749 [==============================] - 0s 46us/sample - loss: 7.6408 - val_loss: 7.4053\n",
      "Epoch 22/200\n",
      "4290/4749 [==========================>...] - ETA: 0s - loss: 7.5877\n",
      "Epoch 00022: val_loss did not improve from 7.39890\n",
      "\n",
      "Epoch 00022: ReduceLROnPlateau reducing learning rate to 1.000000082740371e-08.\n",
      "4749/4749 [==============================] - 0s 43us/sample - loss: 7.6408 - val_loss: 7.4053\n",
      "Epoch 23/200\n",
      "4470/4749 [===========================>..] - ETA: 0s - loss: 7.6344\n",
      "Epoch 00023: val_loss did not improve from 7.39890\n",
      "4749/4749 [==============================] - 0s 42us/sample - loss: 7.6406 - val_loss: 7.4053\n"
     ]
    },
    {
     "data": {
      "image/png": "[encoded data removed]",
      "text/plain": [
       "<Figure size 432x288 with 1 Axes>"
      ]
     },
     "metadata": {
      "needs_background": "light"
     },
     "output_type": "display_data"
    }
   ],
   "source": [
    "inputs_1 = tf.keras.Input(shape=44)\n",
    "dense = tf.keras.layers.Dense(50)(inputs_1)\n",
    "dense = tf.keras.layers.Dense(50)(dense)\n",
    "dense = tf.keras.layers.Dense(50)(dense)\n",
    "dense = tf.keras.layers.Dense(50)(dense)\n",
    "output = tf.keras.layers.Dense(1)(dense)\n",
    "\n",
    "SS_DNN = tf.keras.Model(inputs=[inputs_1], outputs=output)\n",
    "\n",
    "optimizer = tf.keras.optimizers.Adam(lr = 0.001)\n",
    "\n",
    "SS_DNN.compile(loss='mse', optimizer=optimizer)\n",
    "SS_DNN.summary()\n",
    "\n",
    "path_checkpoint = 'checkpoint.keras'\n",
    "callback_checkpoint = ModelCheckpoint(filepath=path_checkpoint,\n",
    "                                      monitor='val_loss',\n",
    "                                      verbose=1,\n",
    "                                      save_weights_only=True,\n",
    "                                      save_best_only=True)\n",
    "\n",
    "callback_early_stopping = EarlyStopping(monitor='val_loss', patience=10,verbose=0)\n",
    "\n",
    "\n",
    "callback_reduce_lr = ReduceLROnPlateau(monitor='loss',\n",
    "                                       factor=0.1,\n",
    "                                       patience=1,\n",
    "                                       verbose=1)\n",
    "\n",
    "callbacks = [callback_early_stopping,\n",
    "             callback_checkpoint,\n",
    "             callback_reduce_lr]\n",
    "hist = SS_DNN.fit(scaled_trainX,trainY, validation_data=(scaled_validX, validY), \n",
    "                 epochs = 200, batch_size=30, callbacks=callbacks, verbose=1)\n",
    "\n",
    "fig, loss_ax = plt.subplots()\n",
    "\n",
    "loss_ax.plot(hist.history['loss'], 'y', label='train loss')\n",
    "loss_ax.plot(hist.history['val_loss'], 'r', label='val loss')\n",
    "\n",
    "loss_ax.set_xlabel('epoch')\n",
    "loss_ax.set_ylabel('loss')\n",
    "\n",
    "loss_ax.legend(loc='upper left')\n",
    "\n",
    "plt.show()"
   ]
  },
  {
   "cell_type": "code",
   "execution_count": 37,
   "metadata": {
    "scrolled": true
   },
   "outputs": [
    {
     "name": "stdout",
     "output_type": "stream",
     "text": [
      "MAE\n",
      "MAE_DNN =  2.5441033483073934\n",
      "MAE_RNN =  2.151198419024495\n"
     ]
    },
    {
     "data": {
      "image/png": "[encoded data removed]",
      "text/plain": [
       "<Figure size 1080x216 with 1 Axes>"
      ]
     },
     "metadata": {
      "needs_background": "light"
     },
     "output_type": "display_data"
    }
   ],
   "source": [
    "time = pd.to_datetime(test['일시'])\n",
    "\n",
    "pred_DNN = DNN.predict(testX)\n",
    "pred_SS = SS_DNN.predict(scaled_testX)\n",
    "# pred_LSTM = LSTM.predict(testX.values.reshape(-1,1,44))\n",
    "\n",
    "\n",
    "plt.figure(figsize = (15,3))\n",
    "plt.plot(time,testY.reset_index()['Y'])\n",
    "plt.plot(time,pred_DNN)\n",
    "plt.plot(time,pred_SS)\n",
    "# plt.plot(time,pred_LSTM)\n",
    "\n",
    "plt.ylabel('Temperature')\n",
    "plt.legend(['real','DNN','SS'])\n",
    "\n",
    "print('MAE')\n",
    "print('MAE_DNN = ',(((testY-pred_DNN.reshape(-1,))**2)**0.5).mean())\n",
    "print('MAE_RNN = ',(((testY-pred_SS.reshape(-1,))**2)**0.5).mean())\n",
    "# print('MAE_LSTM = ',(((testY-pred_LSTM.reshape(-1,))**2)**0.5).mean())"
   ]
  },
  {
   "cell_type": "code",
   "execution_count": null,
   "metadata": {},
   "outputs": [],
   "source": []
  }
 ],
 "metadata": {
  "kernelspec": {
   "display_name": "Python 3",
   "language": "python",
   "name": "python3"
  },
  "language_info": {
   "codemirror_mode": {
    "name": "ipython",
    "version": 3
   },
   "file_extension": ".py",
   "mimetype": "text/x-python",
   "name": "python",
   "nbconvert_exporter": "python",
   "pygments_lexer": "ipython3",
   "version": "3.7.6"
  }
 },
 "nbformat": 4,
 "nbformat_minor": 4
}
