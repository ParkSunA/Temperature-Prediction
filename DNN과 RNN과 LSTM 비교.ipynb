{
 "cells": [
  {
   "cell_type": "markdown",
   "metadata": {},
   "source": [
    "이전 기온 예측 프로젝트에선 모델은 Dense층을 쌓아 구현한 DNN으로 학습, 예측을 진행하였다.  \n",
    "그런데 기상 데이터는 시퀀스 데이터로 시계열성을 갖는다.  \n",
    "시계열 데이터에 적합한 모델인 RNN과 LSTM을 이용하여 학습, 예측을 비교하여 성능을 비교해보려한다.  "
   ]
  },
  {
   "cell_type": "code",
   "execution_count": 2,
   "metadata": {},
   "outputs": [],
   "source": [
    "import pandas as pd\n",
    "import numpy as np\n",
    "import matplotlib.pyplot as plt"
   ]
  },
  {
   "cell_type": "code",
   "execution_count": 3,
   "metadata": {},
   "outputs": [],
   "source": [
    "# 데이터 불러오기\n",
    "data = pd.read_csv('OBS_ASOS_DD_20210104225316.csv', encoding = 'cp949')  # 2020-01-01~2010-01-01\n",
    "data1 = pd.read_csv('OBS_ASOS_DD_20210104225407.csv', encoding = 'cp949') # 2010-01-02~2020-01-02\n",
    "data2 = pd.read_csv('OBS_ASOS_DD_20210104225442.csv', encoding = 'cp949') # 2020-01-03~2021-01-03\n",
    "\n",
    "data = pd.concat([data,data1,data2],axis=0).reset_index().drop('index',axis=1)"
   ]
  },
  {
   "cell_type": "code",
   "execution_count": 4,
   "metadata": {},
   "outputs": [
    {
     "name": "stdout",
     "output_type": "stream",
     "text": [
      "데이터 개수 = 7674\n",
      "데이터 컬럼 개수 = 62\n"
     ]
    },
    {
     "data": {
      "text/plain": [
       "Index(['지점', '지점명', '일시', '평균기온(°C)', '최저기온(°C)', '최저기온 시각(hhmi)', '최고기온(°C)',\n",
       "       '최고기온 시각(hhmi)', '강수 계속시간(hr)', '10분 최다 강수량(mm)', '10분 최다강수량 시각(hhmi)',\n",
       "       '1시간 최다강수량(mm)', '1시간 최다 강수량 시각(hhmi)', '일강수량(mm)', '최대 순간 풍속(m/s)',\n",
       "       '최대 순간 풍속 풍향(16방위)', '최대 순간풍속 시각(hhmi)', '최대 풍속(m/s)', '최대 풍속 풍향(16방위)',\n",
       "       '최대 풍속 시각(hhmi)', '평균 풍속(m/s)', '풍정합(100m)', '최다풍향(16방위)',\n",
       "       '평균 이슬점온도(°C)', '최소 상대습도(%)', '최소 상대습도 시각(hhmi)', '평균 상대습도(%)',\n",
       "       '평균 증기압(hPa)', '평균 현지기압(hPa)', '최고 해면기압(hPa)', '최고 해면기압 시각(hhmi)',\n",
       "       '최저 해면기압(hPa)', '최저 해면기압 시각(hhmi)', '평균 해면기압(hPa)', '가조시간(hr)',\n",
       "       '합계 일조시간(hr)', '1시간 최다일사 시각(hhmi)', '1시간 최다일사량(MJ/m2)', '합계 일사량(MJ/m2)',\n",
       "       '일 최심신적설(cm)', '일 최심신적설 시각(hhmi)', '일 최심적설(cm)', '일 최심적설 시각(hhmi)',\n",
       "       '합계 3시간 신적설(cm)', '평균 전운량(1/10)', '평균 중하층운량(1/10)', '평균 지면온도(°C)',\n",
       "       '최저 초상온도(°C)', '평균 5cm 지중온도(°C)', '평균 10cm 지중온도(°C)',\n",
       "       '평균 20cm 지중온도(°C)', '평균 30cm 지중온도(°C)', '0.5m 지중온도(°C)',\n",
       "       '1.0m 지중온도(°C)', '1.5m 지중온도(°C)', '3.0m 지중온도(°C)', '5.0m 지중온도(°C)',\n",
       "       '합계 대형증발량(mm)', '합계 소형증발량(mm)', '9-9강수(mm)', '기사', '안개 계속시간(hr)'],\n",
       "      dtype='object')"
      ]
     },
     "execution_count": 4,
     "metadata": {},
     "output_type": "execute_result"
    }
   ],
   "source": [
    "print('데이터 개수 =', len(data))\n",
    "print('데이터 컬럼 개수 =', len(data.columns))\n",
    "data.columns"
   ]
  },
  {
   "cell_type": "code",
   "execution_count": 6,
   "metadata": {},
   "outputs": [
    {
     "name": "stdout",
     "output_type": "stream",
     "text": [
      "결측치 개수 = 0\n"
     ]
    }
   ],
   "source": [
    "# 데이터 전처리  \n",
    "# 강수, 적설량과 관련된 변수는 0으로 결측 채우기  \n",
    "rain_col = [i for i in data.columns if '강수' in i]\n",
    "snow_col = [i for i in data.columns if '적설' in i]\n",
    "\n",
    "data[rain_col+snow_col] = data[rain_col+snow_col].fillna(0)\n",
    "\n",
    "data[['안개 계속시간(hr)','합계 대형증발량(mm)','합계 소형증발량(mm)']] = data[['안개 계속시간(hr)','합계 대형증발량(mm)','합계 소형증발량(mm)']].fillna(0)\n",
    "\n",
    "# 사용하지 않는 컬럼 버리기\n",
    "data = data.drop(['기사','강수 계속시간(hr)','10분 최다 강수량(mm)'],axis=1)\n",
    "\n",
    "time_col=[i for i in data.columns if '시각' in i]\n",
    "data = data.drop(time_col, axis=1)\n",
    "\n",
    "data = data.drop(['지점','지점명'], axis=1)\n",
    "\n",
    "# 시간 순서로 학습시키기 위해 시간 정렬\n",
    "data = data.sort_values('일시').interpolate(method='linear')\n",
    "\n",
    "# 보간 후 결측치 없음을 확인\n",
    "print('결측치 개수 =',data.isna().sum().sum())"
   ]
  },
  {
   "cell_type": "code",
   "execution_count": 7,
   "metadata": {},
   "outputs": [
    {
     "name": "stdout",
     "output_type": "stream",
     "text": [
      " train set: 4749 개\n",
      " valid set: 1461 개\n",
      " test set 1462 개\n"
     ]
    }
   ],
   "source": [
    "# 라벨값 설정\n",
    "data['Y'] = data['평균기온(°C)'].shift(-2)\n",
    "data = data.dropna()\n",
    "\n",
    "# train, valid, test dataset 분리\n",
    "train = data[data['일시']<'2013-01-01']\n",
    "valid = data[data['일시']>='2013-01-01']\n",
    "valid = valid[valid['일시']<'2017-01-01']\n",
    "test = data[data['일시']>='2017-01-01']\n",
    "print(' train set:',len(train),'개\\n',\n",
    "      'valid set:',len(valid),'개\\n',\n",
    "      'test set',len(test),'개')\n",
    "\n",
    "# X와 Y분리\n",
    "trainX,trainY = train.drop(['일시','Y'],axis=1), train['Y']\n",
    "validX,validY = valid.drop(['일시','Y'],axis=1), valid['Y']\n",
    "testX,testY = test.drop(['일시','Y'],axis=1), test['Y']"
   ]
  },
  {
   "cell_type": "code",
   "execution_count": 8,
   "metadata": {},
   "outputs": [
    {
     "name": "stderr",
     "output_type": "stream",
     "text": [
      "Using TensorFlow backend.\n"
     ]
    }
   ],
   "source": [
    "import tensorflow as tf\n",
    "from tensorflow import keras\n",
    "from tensorflow.keras import layers\n",
    "from keras.callbacks import ModelCheckpoint, EarlyStopping, ReduceLROnPlateau"
   ]
  },
  {
   "cell_type": "markdown",
   "metadata": {},
   "source": [
    "#### DNN"
   ]
  },
  {
   "cell_type": "code",
   "execution_count": 10,
   "metadata": {},
   "outputs": [
    {
     "name": "stdout",
     "output_type": "stream",
     "text": [
      "Model: \"model_1\"\n",
      "_________________________________________________________________\n",
      "Layer (type)                 Output Shape              Param #   \n",
      "=================================================================\n",
      "input_2 (InputLayer)         [(None, 44)]              0         \n",
      "_________________________________________________________________\n",
      "dense_5 (Dense)              (None, 50)                2250      \n",
      "_________________________________________________________________\n",
      "dense_6 (Dense)              (None, 50)                2550      \n",
      "_________________________________________________________________\n",
      "dense_7 (Dense)              (None, 50)                2550      \n",
      "_________________________________________________________________\n",
      "dense_8 (Dense)              (None, 50)                2550      \n",
      "_________________________________________________________________\n",
      "dense_9 (Dense)              (None, 1)                 51        \n",
      "=================================================================\n",
      "Total params: 9,951\n",
      "Trainable params: 9,951\n",
      "Non-trainable params: 0\n",
      "_________________________________________________________________\n"
     ]
    }
   ],
   "source": [
    "inputs_1 = tf.keras.Input(shape=44)\n",
    "dense = tf.keras.layers.Dense(50)(inputs_1)\n",
    "dense = tf.keras.layers.Dense(50)(dense)\n",
    "dense = tf.keras.layers.Dense(50)(dense)\n",
    "dense = tf.keras.layers.Dense(50)(dense)\n",
    "output = tf.keras.layers.Dense(1)(dense)\n",
    "\n",
    "DNN = tf.keras.Model(inputs=[inputs_1], outputs=output)\n",
    "\n",
    "optimizer = tf.keras.optimizers.Adam(lr = 0.001)\n",
    "\n",
    "DNN.compile(loss='mse', optimizer=optimizer)\n",
    "DNN.summary()"
   ]
  },
  {
   "cell_type": "code",
   "execution_count": 16,
   "metadata": {},
   "outputs": [
    {
     "name": "stdout",
     "output_type": "stream",
     "text": [
      "Train on 4749 samples, validate on 1461 samples\n",
      "Epoch 1/200\n",
      "4744/4749 [============================>.] - ETA: 0s - loss: 313.4961\n",
      "Epoch 00001: val_loss improved from inf to 16.63447, saving model to checkpoint.keras\n",
      "4749/4749 [==============================] - 7s 2ms/sample - loss: 313.1976 - val_loss: 16.6345\n",
      "Epoch 2/200\n",
      "4716/4749 [============================>.] - ETA: 0s - loss: 26.2729\n",
      "Epoch 00002: val_loss did not improve from 16.63447\n",
      "4749/4749 [==============================] - 7s 1ms/sample - loss: 26.2347 - val_loss: 18.3862\n",
      "Epoch 3/200\n",
      "4742/4749 [============================>.] - ETA: 0s - loss: 31.1195\n",
      "Epoch 00003: val_loss improved from 16.63447 to 11.81849, saving model to checkpoint.keras\n",
      "\n",
      "Epoch 00003: ReduceLROnPlateau reducing learning rate to 0.00010000000474974513.\n",
      "4749/4749 [==============================] - 7s 1ms/sample - loss: 31.0794 - val_loss: 11.8185\n",
      "Epoch 4/200\n",
      "4748/4749 [============================>.] - ETA: 0s - loss: 10.3691\n",
      "Epoch 00004: val_loss improved from 11.81849 to 9.60026, saving model to checkpoint.keras\n",
      "4749/4749 [==============================] - 7s 1ms/sample - loss: 10.3684 - val_loss: 9.6003\n",
      "Epoch 5/200\n",
      "4717/4749 [============================>.] - ETA: 0s - loss: 10.3977\n",
      "Epoch 00005: val_loss did not improve from 9.60026\n",
      "\n",
      "Epoch 00005: ReduceLROnPlateau reducing learning rate to 1.0000000474974514e-05.\n",
      "4749/4749 [==============================] - 7s 1ms/sample - loss: 10.4139 - val_loss: 10.8469\n",
      "Epoch 6/200\n",
      "4746/4749 [============================>.] - ETA: 0s - loss: 9.6984\n",
      "Epoch 00006: val_loss improved from 9.60026 to 9.36718, saving model to checkpoint.keras\n",
      "4749/4749 [==============================] - 7s 1ms/sample - loss: 9.7008 - val_loss: 9.3672\n",
      "Epoch 7/200\n",
      "4713/4749 [============================>.] - ETA: 0s - loss: 9.6389\n",
      "Epoch 00007: val_loss improved from 9.36718 to 9.22658, saving model to checkpoint.keras\n",
      "4749/4749 [==============================] - 7s 1ms/sample - loss: 9.6245 - val_loss: 9.2266\n",
      "Epoch 8/200\n",
      "4717/4749 [============================>.] - ETA: 0s - loss: 9.6332\n",
      "Epoch 00008: val_loss did not improve from 9.22658\n",
      "4749/4749 [==============================] - 7s 1ms/sample - loss: 9.5984 - val_loss: 9.4249\n",
      "Epoch 9/200\n",
      "4712/4749 [============================>.] - ETA: 0s - loss: 9.5645\n",
      "Epoch 00009: val_loss did not improve from 9.22658\n",
      "4749/4749 [==============================] - 7s 1ms/sample - loss: 9.5805 - val_loss: 9.5462\n",
      "Epoch 10/200\n",
      "4715/4749 [============================>.] - ETA: 0s - loss: 9.5963\n",
      "Epoch 00010: val_loss did not improve from 9.22658\n",
      "4749/4749 [==============================] - 7s 1ms/sample - loss: 9.5763 - val_loss: 9.2293\n",
      "Epoch 11/200\n",
      "4743/4749 [============================>.] - ETA: 0s - loss: 9.5816\n",
      "Epoch 00011: val_loss improved from 9.22658 to 9.22137, saving model to checkpoint.keras\n",
      "4749/4749 [==============================] - 7s 1ms/sample - loss: 9.5748 - val_loss: 9.2214\n",
      "Epoch 12/200\n",
      "4708/4749 [============================>.] - ETA: 0s - loss: 9.5673\n",
      "Epoch 00012: val_loss improved from 9.22137 to 9.09783, saving model to checkpoint.keras\n",
      "4749/4749 [==============================] - 7s 1ms/sample - loss: 9.5598 - val_loss: 9.0978\n",
      "Epoch 13/200\n",
      "4741/4749 [============================>.] - ETA: 0s - loss: 9.5433\n",
      "Epoch 00013: val_loss did not improve from 9.09783\n",
      "4749/4749 [==============================] - 7s 2ms/sample - loss: 9.5365 - val_loss: 9.1447\n",
      "Epoch 14/200\n",
      "4737/4749 [============================>.] - ETA: 0s - loss: 9.5230\n",
      "Epoch 00014: val_loss improved from 9.09783 to 9.08963, saving model to checkpoint.keras\n",
      "4749/4749 [==============================] - 7s 1ms/sample - loss: 9.5276 - val_loss: 9.0896\n",
      "Epoch 15/200\n",
      "4711/4749 [============================>.] - ETA: 0s - loss: 9.5042\n",
      "Epoch 00015: val_loss did not improve from 9.08963\n",
      "4749/4749 [==============================] - 7s 1ms/sample - loss: 9.5145 - val_loss: 9.1700\n",
      "Epoch 16/200\n",
      "4745/4749 [============================>.] - ETA: 0s - loss: 9.4802\n",
      "Epoch 00016: val_loss did not improve from 9.08963\n",
      "4749/4749 [==============================] - 7s 1ms/sample - loss: 9.4786 - val_loss: 9.1941\n",
      "Epoch 17/200\n",
      "4712/4749 [============================>.] - ETA: 0s - loss: 9.5155\n",
      "Epoch 00017: val_loss did not improve from 9.08963\n",
      "\n",
      "Epoch 00017: ReduceLROnPlateau reducing learning rate to 1.0000000656873453e-06.\n",
      "4749/4749 [==============================] - 7s 1ms/sample - loss: 9.5040 - val_loss: 9.2762\n",
      "Epoch 18/200\n",
      "4713/4749 [============================>.] - ETA: 0s - loss: 9.3975\n",
      "Epoch 00018: val_loss did not improve from 9.08963\n",
      "4749/4749 [==============================] - 7s 1ms/sample - loss: 9.3834 - val_loss: 9.1000\n",
      "Epoch 19/200\n",
      "4746/4749 [============================>.] - ETA: 0s - loss: 9.3621\n",
      "Epoch 00019: val_loss improved from 9.08963 to 9.06978, saving model to checkpoint.keras\n",
      "4749/4749 [==============================] - 7s 1ms/sample - loss: 9.3606 - val_loss: 9.0698\n",
      "Epoch 20/200\n",
      "4715/4749 [============================>.] - ETA: 0s - loss: 9.3692\n",
      "Epoch 00020: val_loss did not improve from 9.06978\n",
      "4749/4749 [==============================] - 7s 1ms/sample - loss: 9.3504 - val_loss: 9.0943\n",
      "Epoch 21/200\n",
      "4742/4749 [============================>.] - ETA: 0s - loss: 9.3385- ET\n",
      "Epoch 00021: val_loss improved from 9.06978 to 9.01779, saving model to checkpoint.keras\n",
      "4749/4749 [==============================] - 7s 1ms/sample - loss: 9.3442 - val_loss: 9.0178\n",
      "Epoch 22/200\n",
      "4726/4749 [============================>.] - ETA: 0s - loss: 9.3660\n",
      "Epoch 00022: val_loss did not improve from 9.01779\n",
      "4749/4749 [==============================] - 7s 2ms/sample - loss: 9.3421 - val_loss: 9.0336\n",
      "Epoch 23/200\n",
      "4732/4749 [============================>.] - ETA: 0s - loss: 9.3402\n",
      "Epoch 00023: val_loss improved from 9.01779 to 9.00684, saving model to checkpoint.keras\n",
      "4749/4749 [==============================] - 7s 1ms/sample - loss: 9.3352 - val_loss: 9.0068\n",
      "Epoch 24/200\n",
      "4714/4749 [============================>.] - ETA: 0s - loss: 9.3447\n",
      "Epoch 00024: val_loss did not improve from 9.00684\n",
      "4749/4749 [==============================] - 7s 2ms/sample - loss: 9.3305 - val_loss: 9.0120\n",
      "Epoch 25/200\n",
      "4733/4749 [============================>.] - ETA: 0s - loss: 9.3468\n",
      "Epoch 00025: val_loss did not improve from 9.00684\n",
      "4749/4749 [==============================] - 7s 1ms/sample - loss: 9.3267 - val_loss: 9.0598\n",
      "Epoch 26/200\n",
      "4711/4749 [============================>.] - ETA: 0s - loss: 9.3232\n",
      "Epoch 00026: val_loss improved from 9.00684 to 9.00592, saving model to checkpoint.keras\n",
      "4749/4749 [==============================] - 7s 2ms/sample - loss: 9.3165 - val_loss: 9.0059\n",
      "Epoch 27/200\n",
      "4726/4749 [============================>.] - ETA: 0s - loss: 9.2870\n",
      "Epoch 00027: val_loss improved from 9.00592 to 8.97261, saving model to checkpoint.keras\n",
      "4749/4749 [==============================] - 7s 2ms/sample - loss: 9.3126 - val_loss: 8.9726\n",
      "Epoch 28/200\n",
      "4736/4749 [============================>.] - ETA: 0s - loss: 9.3211\n",
      "Epoch 00028: val_loss did not improve from 8.97261\n",
      "\n",
      "Epoch 00028: ReduceLROnPlateau reducing learning rate to 1.0000001111620805e-07.\n",
      "4749/4749 [==============================] - 7s 2ms/sample - loss: 9.3131 - val_loss: 9.0092\n",
      "Epoch 29/200\n",
      "4713/4749 [============================>.] - ETA: 0s - loss: 9.3062\n",
      "Epoch 00029: val_loss did not improve from 8.97261\n",
      "4749/4749 [==============================] - 7s 2ms/sample - loss: 9.2909 - val_loss: 8.9953\n",
      "Epoch 30/200\n",
      "4724/4749 [============================>.] - ETA: 0s - loss: 9.2942\n",
      "Epoch 00030: val_loss did not improve from 8.97261\n",
      "4749/4749 [==============================] - 7s 2ms/sample - loss: 9.2901 - val_loss: 8.9937\n",
      "Epoch 31/200\n",
      "4717/4749 [============================>.] - ETA: 0s - loss: 9.2951\n",
      "Epoch 00031: val_loss did not improve from 8.97261\n",
      "4749/4749 [==============================] - 7s 2ms/sample - loss: 9.2897 - val_loss: 8.9898\n",
      "Epoch 32/200\n",
      "4710/4749 [============================>.] - ETA: 0s - loss: 9.3256\n",
      "Epoch 00032: val_loss did not improve from 8.97261\n",
      "4749/4749 [==============================] - 7s 2ms/sample - loss: 9.2890 - val_loss: 8.9913\n",
      "Epoch 33/200\n",
      "4729/4749 [============================>.] - ETA: 0s - loss: 9.2899\n",
      "Epoch 00033: val_loss did not improve from 8.97261\n",
      "4749/4749 [==============================] - 7s 2ms/sample - loss: 9.2886 - val_loss: 8.9869\n"
     ]
    },
    {
     "name": "stdout",
     "output_type": "stream",
     "text": [
      "Epoch 34/200\n",
      "4743/4749 [============================>.] - ETA: 0s - loss: 9.2872\n",
      "Epoch 00034: val_loss did not improve from 8.97261\n",
      "4749/4749 [==============================] - 7s 1ms/sample - loss: 9.2879 - val_loss: 8.9888\n",
      "Epoch 35/200\n",
      "4715/4749 [============================>.] - ETA: 0s - loss: 9.2618\n",
      "Epoch 00035: val_loss did not improve from 8.97261\n",
      "4749/4749 [==============================] - 7s 1ms/sample - loss: 9.2875 - val_loss: 8.9868\n",
      "Epoch 36/200\n",
      "4732/4749 [============================>.] - ETA: 0s - loss: 9.2995\n",
      "Epoch 00036: val_loss did not improve from 8.97261\n",
      "4749/4749 [==============================] - 7s 1ms/sample - loss: 9.2870 - val_loss: 8.9850\n",
      "Epoch 37/200\n",
      "4746/4749 [============================>.] - ETA: 0s - loss: 9.2917\n",
      "Epoch 00037: val_loss did not improve from 8.97261\n",
      "4749/4749 [==============================] - 7s 1ms/sample - loss: 9.2866 - val_loss: 8.9873\n"
     ]
    },
    {
     "data": {
      "image/png": "[encoded data removed]",
      "text/plain": [
       "<Figure size 432x288 with 1 Axes>"
      ]
     },
     "metadata": {
      "needs_background": "light"
     },
     "output_type": "display_data"
    }
   ],
   "source": [
    "path_checkpoint = 'checkpoint.keras'\n",
    "callback_checkpoint = ModelCheckpoint(filepath=path_checkpoint,\n",
    "                                      monitor='val_loss',\n",
    "                                      verbose=1,\n",
    "                                      save_weights_only=True,\n",
    "                                      save_best_only=True)\n",
    "\n",
    "callback_early_stopping = EarlyStopping(monitor='val_loss', patience=10,verbose=0)\n",
    "\n",
    "\n",
    "callback_reduce_lr = ReduceLROnPlateau(monitor='loss',\n",
    "                                       factor=0.1,\n",
    "                                       patience=1,\n",
    "                                       verbose=1)\n",
    "\n",
    "callbacks = [callback_early_stopping,\n",
    "             callback_checkpoint,\n",
    "             callback_reduce_lr]\n",
    "hist = DNN.fit(trainX,trainY, validation_data=(validX, validY), \n",
    "                 epochs = 200, batch_size=1, callbacks=callbacks, verbose=1)\n",
    "\n",
    "fig, loss_ax = plt.subplots()\n",
    "\n",
    "loss_ax.plot(hist.history['loss'], 'y', label='train loss')\n",
    "loss_ax.plot(hist.history['val_loss'], 'r', label='val loss')\n",
    "\n",
    "loss_ax.set_xlabel('epoch')\n",
    "loss_ax.set_ylabel('loss')\n",
    "\n",
    "loss_ax.legend(loc='upper left')\n",
    "\n",
    "plt.show()"
   ]
  },
  {
   "cell_type": "markdown",
   "metadata": {},
   "source": [
    "#### RNN  \n",
    "RNN의 경우 입력 데이터 형태가 3차원이 되어야 한다.  \n",
    "input shape = (Batch size, timesteps, input_dim)  \n",
    "Bath size는 한번에 학습되는 데이터 개수  \n",
    "timesteps는 데이터의 시퀀스 길이  \n",
    "input_dim은 feature 개수  \n",
    "이다  "
   ]
  },
  {
   "cell_type": "code",
   "execution_count": 24,
   "metadata": {},
   "outputs": [
    {
     "name": "stdout",
     "output_type": "stream",
     "text": [
      "Model: \"model_5\"\n",
      "_________________________________________________________________\n",
      "Layer (type)                 Output Shape              Param #   \n",
      "=================================================================\n",
      "input_14 (InputLayer)        [(None, 1, 44)]           0         \n",
      "_________________________________________________________________\n",
      "simple_rnn_9 (SimpleRNN)     (None, 1, 50)             4750      \n",
      "_________________________________________________________________\n",
      "simple_rnn_10 (SimpleRNN)    (None, 50)                5050      \n",
      "_________________________________________________________________\n",
      "dense_13 (Dense)             (None, 1)                 51        \n",
      "=================================================================\n",
      "Total params: 9,851\n",
      "Trainable params: 9,851\n",
      "Non-trainable params: 0\n",
      "_________________________________________________________________\n"
     ]
    }
   ],
   "source": [
    "inputs_1 = tf.keras.Input(shape=(1,44))\n",
    "rnn = tf.keras.layers.SimpleRNN(50, return_sequences=True)(inputs_1)\n",
    "rnn = tf.keras.layers.SimpleRNN(50, return_sequences=False)(rnn)\n",
    "output = tf.keras.layers.Dense(1)(rnn)\n",
    "\n",
    "RNN = tf.keras.Model(inputs=[inputs_1], outputs=output)\n",
    "\n",
    "optimizer = tf.keras.optimizers.Adam(lr = 0.001)\n",
    "\n",
    "RNN.compile(loss='mse', optimizer=optimizer)\n",
    "RNN.summary()"
   ]
  },
  {
   "cell_type": "code",
   "execution_count": 26,
   "metadata": {
    "scrolled": true
   },
   "outputs": [
    {
     "name": "stdout",
     "output_type": "stream",
     "text": [
      "Train on 4749 samples, validate on 1461 samples\n",
      "Epoch 1/200\n",
      "4744/4749 [============================>.] - ETA: 0s - loss: 107.6953\n",
      "Epoch 00001: val_loss improved from inf to 113.51072, saving model to checkpoint.keras\n",
      "4749/4749 [==============================] - 11s 2ms/sample - loss: 107.6935 - val_loss: 113.5107\n",
      "Epoch 2/200\n",
      "4738/4749 [============================>.] - ETA: 0s - loss: 100.6542\n",
      "Epoch 00002: val_loss did not improve from 113.51072\n",
      "4749/4749 [==============================] - 11s 2ms/sample - loss: 100.6061 - val_loss: 122.8306\n",
      "Epoch 3/200\n",
      "4741/4749 [============================>.] - ETA: 0s - loss: 88.7434\n",
      "Epoch 00003: val_loss improved from 113.51072 to 92.11832, saving model to checkpoint.keras\n",
      "4749/4749 [==============================] - 11s 2ms/sample - loss: 88.6661 - val_loss: 92.1183\n",
      "Epoch 4/200\n",
      "4748/4749 [============================>.] - ETA: 0s - loss: 73.7633\n",
      "Epoch 00004: val_loss improved from 92.11832 to 78.71326, saving model to checkpoint.keras\n",
      "4749/4749 [==============================] - 11s 2ms/sample - loss: 73.7478 - val_loss: 78.7133\n",
      "Epoch 5/200\n",
      "4747/4749 [============================>.] - ETA: 0s - loss: 71.6532\n",
      "Epoch 00005: val_loss improved from 78.71326 to 74.24487, saving model to checkpoint.keras\n",
      "4749/4749 [==============================] - 11s 2ms/sample - loss: 71.6313 - val_loss: 74.2449\n",
      "Epoch 6/200\n",
      "4732/4749 [============================>.] - ETA: 0s - loss: 62.1780\n",
      "Epoch 00006: val_loss improved from 74.24487 to 52.18473, saving model to checkpoint.keras\n",
      "4749/4749 [==============================] - 11s 2ms/sample - loss: 62.0516 - val_loss: 52.1847\n",
      "Epoch 7/200\n",
      "4726/4749 [============================>.] - ETA: 0s - loss: 76.0211\n",
      "Epoch 00007: val_loss did not improve from 52.18473\n",
      "\n",
      "Epoch 00007: ReduceLROnPlateau reducing learning rate to 0.00010000000474974513.\n",
      "4749/4749 [==============================] - 11s 2ms/sample - loss: 75.9950 - val_loss: 67.9205\n",
      "Epoch 8/200\n",
      "4732/4749 [============================>.] - ETA: 0s - loss: 55.2903\n",
      "Epoch 00008: val_loss did not improve from 52.18473\n",
      "4749/4749 [==============================] - 11s 2ms/sample - loss: 55.3313 - val_loss: 53.0456\n",
      "Epoch 9/200\n",
      "4745/4749 [============================>.] - ETA: 0s - loss: 49.9022\n",
      "Epoch 00009: val_loss did not improve from 52.18473\n",
      "4749/4749 [==============================] - 11s 2ms/sample - loss: 49.9283 - val_loss: 52.8141\n",
      "Epoch 10/200\n",
      "4728/4749 [============================>.] - ETA: 0s - loss: 47.0881\n",
      "Epoch 00010: val_loss improved from 52.18473 to 49.54178, saving model to checkpoint.keras\n",
      "4749/4749 [==============================] - 11s 2ms/sample - loss: 47.0333 - val_loss: 49.5418\n",
      "Epoch 11/200\n",
      "4732/4749 [============================>.] - ETA: 0s - loss: 44.2398\n",
      "Epoch 00011: val_loss improved from 49.54178 to 49.07688, saving model to checkpoint.keras\n",
      "4749/4749 [==============================] - 11s 2ms/sample - loss: 44.2088 - val_loss: 49.0769\n",
      "Epoch 12/200\n",
      "4746/4749 [============================>.] - ETA: 0s - loss: 43.8623\n",
      "Epoch 00012: val_loss improved from 49.07688 to 48.32572, saving model to checkpoint.keras\n",
      "4749/4749 [==============================] - 11s 2ms/sample - loss: 43.8957 - val_loss: 48.3257\n",
      "Epoch 13/200\n",
      "4732/4749 [============================>.] - ETA: 0s - loss: 44.5454\n",
      "Epoch 00013: val_loss improved from 48.32572 to 44.40430, saving model to checkpoint.keras\n",
      "\n",
      "Epoch 00013: ReduceLROnPlateau reducing learning rate to 1.0000000474974514e-05.\n",
      "4749/4749 [==============================] - 11s 2ms/sample - loss: 44.4869 - val_loss: 44.4043\n",
      "Epoch 14/200\n",
      "4726/4749 [============================>.] - ETA: 0s - loss: 43.2360\n",
      "Epoch 00014: val_loss did not improve from 44.40430\n",
      "4749/4749 [==============================] - 11s 2ms/sample - loss: 43.1853 - val_loss: 45.2056\n",
      "Epoch 15/200\n",
      "4725/4749 [============================>.] - ETA: 0s - loss: 42.7888\n",
      "Epoch 00015: val_loss did not improve from 44.40430\n",
      "4749/4749 [==============================] - 11s 2ms/sample - loss: 42.8779 - val_loss: 44.9228\n",
      "Epoch 16/200\n",
      "4725/4749 [============================>.] - ETA: 0s - loss: 42.6956\n",
      "Epoch 00016: val_loss did not improve from 44.40430\n",
      "4749/4749 [==============================] - 11s 2ms/sample - loss: 42.6385 - val_loss: 45.7928\n",
      "Epoch 17/200\n",
      "4732/4749 [============================>.] - ETA: 0s - loss: 42.3566\n",
      "Epoch 00017: val_loss did not improve from 44.40430\n",
      "4749/4749 [==============================] - 11s 2ms/sample - loss: 42.2965 - val_loss: 45.2094\n",
      "Epoch 18/200\n",
      "4725/4749 [============================>.] - ETA: 0s - loss: 42.2458\n",
      "Epoch 00018: val_loss did not improve from 44.40430\n",
      "4749/4749 [==============================] - 11s 2ms/sample - loss: 42.2196 - val_loss: 45.3263\n",
      "Epoch 19/200\n",
      "4738/4749 [============================>.] - ETA: 0s - loss: 42.0197\n",
      "Epoch 00019: val_loss did not improve from 44.40430\n",
      "4749/4749 [==============================] - 11s 2ms/sample - loss: 41.9828 - val_loss: 45.3183\n",
      "Epoch 20/200\n",
      "4723/4749 [============================>.] - ETA: 0s - loss: 41.7056\n",
      "Epoch 00020: val_loss did not improve from 44.40430\n",
      "4749/4749 [==============================] - 11s 2ms/sample - loss: 41.7163 - val_loss: 44.8391\n",
      "Epoch 21/200\n",
      "4735/4749 [============================>.] - ETA: 0s - loss: 41.4241\n",
      "Epoch 00021: val_loss did not improve from 44.40430\n",
      "4749/4749 [==============================] - 11s 2ms/sample - loss: 41.4652 - val_loss: 44.4557\n",
      "Epoch 22/200\n",
      "4734/4749 [============================>.] - ETA: 0s - loss: 41.1504\n",
      "Epoch 00022: val_loss did not improve from 44.40430\n",
      "4749/4749 [==============================] - 11s 2ms/sample - loss: 41.1295 - val_loss: 45.2459\n",
      "Epoch 23/200\n",
      "4738/4749 [============================>.] - ETA: 0s - loss: 40.7621\n",
      "Epoch 00023: val_loss did not improve from 44.40430\n",
      "4749/4749 [==============================] - 11s 2ms/sample - loss: 40.8158 - val_loss: 44.6650\n"
     ]
    },
    {
     "data": {
      "image/png": "[encoded data removed]",
      "text/plain": [
       "<Figure size 432x288 with 1 Axes>"
      ]
     },
     "metadata": {
      "needs_background": "light"
     },
     "output_type": "display_data"
    }
   ],
   "source": [
    "path_checkpoint = 'checkpoint.keras'\n",
    "callback_checkpoint = ModelCheckpoint(filepath=path_checkpoint,\n",
    "                                      monitor='val_loss',\n",
    "                                      verbose=1,\n",
    "                                      save_weights_only=True,\n",
    "                                      save_best_only=True)\n",
    "\n",
    "callback_early_stopping = EarlyStopping(monitor='val_loss', patience=10,verbose=0)\n",
    "\n",
    "\n",
    "callback_reduce_lr = ReduceLROnPlateau(monitor='loss',\n",
    "                                       factor=0.1,\n",
    "                                       patience=1,\n",
    "                                       verbose=1)\n",
    "\n",
    "callbacks = [callback_early_stopping,\n",
    "             callback_checkpoint,\n",
    "             callback_reduce_lr]\n",
    "hist = RNN.fit(trainX.values.reshape(-1,1,44),trainY, validation_data=(validX.values.reshape(-1,1,44), validY), \n",
    "                 epochs = 200, batch_size=1, callbacks=callbacks, verbose=1)\n",
    "\n",
    "fig, loss_ax = plt.subplots()\n",
    "\n",
    "loss_ax.plot(hist.history['loss'], 'y', label='train loss')\n",
    "loss_ax.plot(hist.history['val_loss'], 'r', label='val loss')\n",
    "\n",
    "loss_ax.set_xlabel('epoch')\n",
    "loss_ax.set_ylabel('loss')\n",
    "\n",
    "loss_ax.legend(loc='upper left')\n",
    "\n",
    "plt.show()"
   ]
  },
  {
   "cell_type": "markdown",
   "metadata": {},
   "source": [
    "#### LSTM  \n",
    "LSTM도 RNN과 같이 입력 데이터 형태가 3차원이 되어야 한다.  \n",
    "input shape = (Batch size, timesteps, input_dim)  "
   ]
  },
  {
   "cell_type": "code",
   "execution_count": null,
   "metadata": {},
   "outputs": [],
   "source": [
    "inputs_1 = tf.keras.Input(shape=(1,44))\n",
    "lstm = tf.keras.layers.SimpleRNN(50, return_sequences=True)(inputs_1)\n",
    "lstm = tf.keras.layers.SimpleRNN(50, return_sequences=False)(lstm)\n",
    "output = tf.keras.layers.Dense(1)(lstm)\n",
    "\n",
    "LSTM = tf.keras.Model(inputs=[inputs_1], outputs=output)\n",
    "\n",
    "optimizer = tf.keras.optimizers.Adam(lr = 0.001)\n",
    "\n",
    "LSTM.compile(loss='mse', optimizer=optimizer)\n",
    "LSTM.summary()\n",
    "\n",
    "path_checkpoint = 'checkpoint.keras'\n",
    "callback_checkpoint = ModelCheckpoint(filepath=path_checkpoint,\n",
    "                                      monitor='val_loss',\n",
    "                                      verbose=1,\n",
    "                                      save_weights_only=True,\n",
    "                                      save_best_only=True)\n",
    "\n",
    "callback_early_stopping = EarlyStopping(monitor='val_loss', patience=10,verbose=0)\n",
    "\n",
    "\n",
    "callback_reduce_lr = ReduceLROnPlateau(monitor='loss',\n",
    "                                       factor=0.1,\n",
    "                                       patience=1,\n",
    "                                       verbose=1)\n",
    "\n",
    "callbacks = [callback_early_stopping,\n",
    "             callback_checkpoint,\n",
    "             callback_reduce_lr]\n",
    "hist = LSTM.fit(trainX.values.reshape(-1,1,44),trainY, validation_data=(validX.values.reshape(-1,1,44), validY), \n",
    "                 epochs = 200, batch_size=1, callbacks=callbacks, verbose=1)\n",
    "\n",
    "fig, loss_ax = plt.subplots()\n",
    "\n",
    "loss_ax.plot(hist.history['loss'], 'y', label='train loss')\n",
    "loss_ax.plot(hist.history['val_loss'], 'r', label='val loss')\n",
    "\n",
    "loss_ax.set_xlabel('epoch')\n",
    "loss_ax.set_ylabel('loss')\n",
    "\n",
    "loss_ax.legend(loc='upper left')\n",
    "\n",
    "plt.show()"
   ]
  },
  {
   "cell_type": "code",
   "execution_count": 28,
   "metadata": {},
   "outputs": [
    {
     "data": {
      "text/plain": [
       "<matplotlib.legend.Legend at 0x7f6ed026d790>"
      ]
     },
     "execution_count": 28,
     "metadata": {},
     "output_type": "execute_result"
    },
    {
     "data": {
      "image/png": "[encoded data removed]",
      "text/plain": [
       "<Figure size 1080x216 with 1 Axes>"
      ]
     },
     "metadata": {
      "needs_background": "light"
     },
     "output_type": "display_data"
    }
   ],
   "source": [
    "time = pd.to_datetime(test['일시'])\n",
    "\n",
    "pred_DNN = DNN.predict(testX)\n",
    "pred_RNN = RNN.predict(testX.values.reshape(-1,1,44))\n",
    "# pred_LSTM = LSTM.predict(testX.values.reshape(-1,1,44))\n",
    "\n",
    "\n",
    "plt.figure(figsize = (15,3))\n",
    "plt.plot(time,testY.reset_index()['Y'])\n",
    "plt.plot(time,pred_DNN)\n",
    "plt.plot(time,pred_RNN)\n",
    "# plt.plot(time,pred_LSTM)\n",
    "\n",
    "plt.ylabel('Temperature')\n",
    "plt.legend(['real','DNN','RNN'])"
   ]
  },
  {
   "cell_type": "markdown",
   "metadata": {},
   "source": [
    "아니 결과 무슨일이야ㅠㅠㅠㅠㅠ"
   ]
  }
 ],
 "metadata": {
  "kernelspec": {
   "display_name": "Python 3",
   "language": "python",
   "name": "python3"
  },
  "language_info": {
   "codemirror_mode": {
    "name": "ipython",
    "version": 3
   },
   "file_extension": ".py",
   "mimetype": "text/x-python",
   "name": "python",
   "nbconvert_exporter": "python",
   "pygments_lexer": "ipython3",
   "version": "3.7.6"
  }
 },
 "nbformat": 4,
 "nbformat_minor": 4
}
