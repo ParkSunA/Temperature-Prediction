{
 "cells": [
  {
   "cell_type": "markdown",
   "metadata": {},
   "source": [
    "참고글 : https://jvvp.tistory.com/1035"
   ]
  },
  {
   "cell_type": "code",
   "execution_count": 44,
   "metadata": {},
   "outputs": [],
   "source": [
    "import requests\n",
    "from urllib import parse"
   ]
  },
  {
   "cell_type": "code",
   "execution_count": 46,
   "metadata": {},
   "outputs": [
    {
     "name": "stdout",
     "output_type": "stream",
     "text": [
      "<?xml version=\"1.0\" encoding=\"UTF-8\"?>\r\n",
      "<response><header><resultCode>00</resultCode><resultMsg>NORMAL_SERVICE</resultMsg></header><body><dataType>XML</dataType><items><item><stnId>108</stnId><stnNm>서울</stnNm><tm>2021-01-01</tm><avgTa>-4.2</avgTa><minTa>-9.8</minTa><minTaHrmt>511</minTaHrmt><maxTa>1.6</maxTa><maxTaHrmt>1447</maxTaHrmt><mi10MaxRnHrmt></mi10MaxRnHrmt><hr1MaxRn></hr1MaxRn><hr1MaxRnHrmt></hr1MaxRnHrmt><sumRn></sumRn><maxInsWs>7.7</maxInsWs><maxInsWsWd>270</maxInsWsWd><maxInsWsHrmt>1530</maxInsWsHrmt><maxWs>4.1</maxWs><maxWsWd>270</maxWsWd><maxWsHrmt>1532</maxWsHrmt><avgWs>2.0</avgWs><hr24SumRws>1723</hr24SumRws><maxWd>270</maxWd><avgTd>-10.2</avgTd><minRhm>50</minRhm><minRhmHrmt>1140</minRhmHrmt><avgRhm>64.0</avgRhm><avgPv>2.9</avgPv><avgPa>1014.9</avgPa><maxPs>1028.1</maxPs><maxPsHrmt>249</maxPsHrmt><minPs>1023.9</minPs><minPsHrmt>1354</minPsHrmt><avgPs>1026.0</avgPs><ssDur>9.6</ssDur><sumSsHr>6.5</sumSsHr><hr1MaxIcsrHrmt>1100</hr1MaxIcsrHrmt><hr1MaxIcsr>1.74</hr1MaxIcsr><sumGsr>9.54</sumGsr><ddMefs></ddMefs><ddMefsHrmt></ddMefsHrmt><ddMes></ddMes><ddMesHrmt></ddMesHrmt><sumDpthFhsc></sumDpthFhsc><avgTca>3.9</avgTca><avgLmac>3.5</avgLmac><avgTs>-3.4</avgTs><minTg>-13.3</minTg><avgCm5Te>-0.6</avgCm5Te><avgCm10Te>-0.7</avgCm10Te><avgCm20Te>0.1</avgCm20Te><avgCm30Te>1.4</avgCm30Te><avgM05Te>2.9</avgM05Te><avgM10Te>6.8</avgM10Te><avgM15Te>9.7</avgM15Te><avgM30Te>15.9</avgM30Te><avgM50Te>17.5</avgM50Te><sumLrgEv>1.1</sumLrgEv><sumSmlEv>1.6</sumSmlEv><n99Rn></n99Rn><iscs></iscs><sumFogDur></sumFogDur></item><item><stnId>108</stnId><stnNm>서울</stnNm><tm>2021-01-02</tm><avgTa>-5.0</avgTa><minTa>-8.4</minTa><minTaHrmt>805</minTaHrmt><maxTa>-1.4</maxTa><maxTaHrmt>1346</maxTaHrmt><mi10MaxRnHrmt></mi10MaxRnHrmt><hr1MaxRn></hr1MaxRn><hr1MaxRnHrmt></hr1MaxRnHrmt><sumRn></sumRn><maxInsWs>9.9</maxInsWs><maxInsWsWd>290</maxInsWsWd><maxInsWsHrmt>1436</maxInsWsHrmt><maxWs>5.4</maxWs><maxWsWd>320</maxWsWd><maxWsHrmt>1413</maxWsHrmt><avgWs>2.6</avgWs><hr24SumRws>2214</hr24SumRws><maxWd>270</maxWd><avgTd>-17.1</avgTd><minRhm>29</minRhm><minRhmHrmt>1419</minRhmHrmt><avgRhm>38.5</avgRhm><avgPv>1.6</avgPv><avgPa>1018.5</avgPa><maxPs>1032.7</maxPs><maxPsHrmt>2359</maxPsHrmt><minPs>1026.0</minPs><minPsHrmt>1</minPsHrmt><avgPs>1029.6</avgPs><ssDur>9.6</ssDur><sumSsHr>9.0</sumSsHr><hr1MaxIcsrHrmt>1200</hr1MaxIcsrHrmt><hr1MaxIcsr>1.95</hr1MaxIcsr><sumGsr>11.34</sumGsr><ddMefs></ddMefs><ddMefsHrmt></ddMefsHrmt><ddMes></ddMes><ddMesHrmt></ddMesHrmt><sumDpthFhsc></sumDpthFhsc><avgTca>0.0</avgTca><avgLmac>0.0</avgLmac><avgTs>-3.9</avgTs><minTg>-13.1</minTg><avgCm5Te>-0.6</avgCm5Te><avgCm10Te>-0.8</avgCm10Te><avgCm20Te>0.0</avgCm20Te><avgCm30Te>1.2</avgCm30Te><avgM05Te>2.6</avgM05Te><avgM10Te>6.6</avgM10Te><avgM15Te>9.6</avgM15Te><avgM30Te>15.8</avgM30Te><avgM50Te>17.5</avgM50Te><sumLrgEv>1.4</sumLrgEv><sumSmlEv>2.0</sumSmlEv><n99Rn></n99Rn><iscs></iscs><sumFogDur></sumFogDur></item></items><numOfRows>10</numOfRows><pageNo>1</pageNo><totalCount>2</totalCount></body></response>\r\n",
      "\n"
     ]
    }
   ],
   "source": [
    "url = 'http://apis.data.go.kr/1360000/AsosDalyInfoService/getWthrDataList'\n",
    "key = 'cT4JNsYj6lxarKAfoCWMZH4YY4mzzyc7kS3%2BNb1CYJVFh614%2FO6qMi%2FLZTSmCVHXkY7%2B3JsSdOClQ8RtBE9APQ%3D%3D'\n",
    "\n",
    "\n",
    "\n",
    "param = f'?{parse.quote_plus(\"ServiceKey\")}={key}&' + parse.urlencode({\n",
    "    parse.quote_plus('numOfRows') : '10',\n",
    "    parse.quote_plus('pageNo') : '1',\n",
    "    parse.quote_plus('dataCd') : 'ASOS',\n",
    "    parse.quote_plus('dateCd') : 'DAY',\n",
    "    parse.quote_plus('startDt') : '20210101',\n",
    "    parse.quote_plus('endDt') : '20210102',\n",
    "    parse.quote_plus('stnIds') : '108',\n",
    "\n",
    "})\n",
    "\n",
    "response = requests.get(url+param)\n",
    "print(response.text)"
   ]
  },
  {
   "cell_type": "code",
   "execution_count": null,
   "metadata": {},
   "outputs": [],
   "source": []
  }
 ],
 "metadata": {
  "kernelspec": {
   "display_name": "Python 3",
   "language": "python",
   "name": "python3"
  },
  "language_info": {
   "codemirror_mode": {
    "name": "ipython",
    "version": 3
   },
   "file_extension": ".py",
   "mimetype": "text/x-python",
   "name": "python",
   "nbconvert_exporter": "python",
   "pygments_lexer": "ipython3",
   "version": "3.8.2"
  }
 },
 "nbformat": 4,
 "nbformat_minor": 4
}
